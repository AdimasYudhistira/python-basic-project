{
 "cells": [
  {
   "cell_type": "markdown",
   "id": "1a1d19fa-0ac2-4f44-ad23-0b57c2ee6758",
   "metadata": {
    "tags": []
   },
   "source": [
    "## INTRODUCTION "
   ]
  },
  {
   "cell_type": "markdown",
   "id": "dda52956-a7e5-47a8-b350-deecf9496650",
   "metadata": {},
   "source": [
    "> ### Python Syntax\n",
    "> Python syntax can be executed by writing directly in the *Command Line*:\n",
    ">\n",
    "> ``print(\"Hello, World!\")``\n",
    ">\n",
    "> ``Hello, World``"
   ]
  },
  {
   "cell_type": "code",
   "execution_count": 3,
   "id": "86c3d141-9254-47e8-91fe-74bd88b008b3",
   "metadata": {
    "tags": []
   },
   "outputs": [
    {
     "name": "stdout",
     "output_type": "stream",
     "text": [
      "Hello, World!\n"
     ]
    }
   ],
   "source": [
    "print(\"Hello, World!\")"
   ]
  },
  {
   "cell_type": "markdown",
   "id": "a3568f64-98ac-4578-8366-c998974a9f8d",
   "metadata": {},
   "source": [
    "> ### Phyton comment\n",
    ">\n",
    "> Comments starts with a #, and Python will ignore them:\n",
    ">\n",
    ">``#This is a comment``\n",
    ">\n",
    "> ``print(\"Hello, World!\")``\n",
    ">\n",
    "> Comments can be placed at the end of a line, and Python will ignore the rest of the line:\n",
    ">\n",
    ">``print(\"Hello, World!\") #This is a comment``"
   ]
  },
  {
   "cell_type": "code",
   "execution_count": 5,
   "id": "a5484571-271d-46a3-a8bd-5065163dae26",
   "metadata": {
    "tags": []
   },
   "outputs": [
    {
     "name": "stdout",
     "output_type": "stream",
     "text": [
      "Hello\n"
     ]
    }
   ],
   "source": [
    "# comment\n",
    "# print(\"Hello\")\n",
    "print(\"Hello\") # ini baris kode halo"
   ]
  },
  {
   "cell_type": "markdown",
   "id": "ea0d1359-5d52-431e-93ab-da8bc70f3cfb",
   "metadata": {},
   "source": [
    "> ## Multiline Comments\n",
    ">\n",
    "> Python does not really have a syntax for multiline comments.\n",
    ">\n",
    "> To add a multiline comment you could insert a # for each line:\n",
    ">\n",
    "> ``\"\"\"``\n",
    "> ``This is a comment``\n",
    ">\n",
    "> ``written in``\n",
    ">\n",
    "> ``more than just one line``\n",
    ">\n",
    "> ``\"\"\"``\n",
    ">\n",
    "> ``print(\"Hello, World!\")``"
   ]
  },
  {
   "cell_type": "code",
   "execution_count": 7,
   "id": "36dab379-112f-47c7-9bef-71506bde344d",
   "metadata": {
    "tags": []
   },
   "outputs": [
    {
     "name": "stdout",
     "output_type": "stream",
     "text": [
      "halo\n"
     ]
    }
   ],
   "source": [
    "'''\n",
    "ini komen panjang mau ngetik\n",
    "apa juga bisa\n",
    "'''\n",
    "print(\"halo\")"
   ]
  },
  {
   "cell_type": "markdown",
   "id": "bcbb325f-9413-4eec-ad84-7bff0178aca9",
   "metadata": {},
   "source": [
    " # Phyton Case Style"
   ]
  },
  {
   "cell_type": "markdown",
   "id": "083a2987-15cd-4a88-b931-6844c1b713b9",
   "metadata": {},
   "source": [
    "> ## Snake Case\n",
    ">\n",
    ">Snake case separates each word with an underscore character (_).\n",
    ">\n",
    ">When using snake case, all letters need to be lowercase."
   ]
  },
  {
   "cell_type": "code",
   "execution_count": 1,
   "id": "6f7fb120-8165-4d78-b8e3-81aea5a11d87",
   "metadata": {},
   "outputs": [
    {
     "name": "stdout",
     "output_type": "stream",
     "text": [
      "snake_case_example\n",
      "variable_a\n",
      "var_b\n",
      "hello_world\n"
     ]
    }
   ],
   "source": [
    "# snake case example\n",
    "print(\"snake_case_example\")\n",
    "print(\"variable_a\")\n",
    "print(\"var_b\")\n",
    "print(\"hello_world\")"
   ]
  },
  {
   "cell_type": "markdown",
   "id": "2f2c018b-bf82-4ce4-948b-f64fcf34120d",
   "metadata": {},
   "source": [
    "> ## Camel Case\n",
    ">\n",
    ">When using camel case, you start by making the first word lowercase. Then, you capitalize the first letter of each word that follows.\n",
    ">\n",
    ">So, a capital letter appears at the start of the second word and at each new subsequent word that follows it."
   ]
  },
  {
   "cell_type": "code",
   "execution_count": 2,
   "id": "4a6941d6-ac52-486c-b014-4b51063da742",
   "metadata": {
    "tags": []
   },
   "outputs": [
    {
     "name": "stdout",
     "output_type": "stream",
     "text": [
      "CamelCaseExample\n",
      "VariableA\n",
      "VarB\n",
      "HelloWorld\n",
      "helloWorld\n"
     ]
    }
   ],
   "source": [
    "# camel case example\n",
    "print(\"CamelCaseExample\")\n",
    "print(\"VariableA\")\n",
    "print(\"VarB\")\n",
    "print(\"HelloWorld\")\n",
    "print(\"helloWorld\")"
   ]
  },
  {
   "cell_type": "markdown",
   "id": "9e248c60-b194-4e45-adae-84ee1ccde930",
   "metadata": {},
   "source": [
    "> ## Kebab Case\n",
    ">\n",
    "> The kebab case is very similar to snake case.\n",
    ">\n",
    "> The difference between snake case and kebab case is that kebab case separates each word with a dash character, -, instead of an underscore.\n",
    ">\n",
    ">So, all words are lowercase, and each word gets separated by a dash."
   ]
  },
  {
   "cell_type": "code",
   "execution_count": 3,
   "id": "a4ac2f46-dc4d-4aa2-a7bf-c7fc7ae0dfff",
   "metadata": {
    "tags": []
   },
   "outputs": [
    {
     "name": "stdout",
     "output_type": "stream",
     "text": [
      "Camel-Case-Example\n",
      "Variable-A\n",
      "Var-B\n",
      "Hello-World\n",
      "hello-World\n"
     ]
    }
   ],
   "source": [
    "# kebab case\n",
    "print(\"Camel-Case-Example\")\n",
    "print(\"Variable-A\")\n",
    "print(\"Var-B\")\n",
    "print(\"Hello-World\")\n",
    "print(\"hello-World\")"
   ]
  },
  {
   "cell_type": "markdown",
   "id": "b6e2d8ce-68d6-499a-823e-cdbb802d0339",
   "metadata": {},
   "source": [
    "# Reference"
   ]
  },
  {
   "cell_type": "markdown",
   "id": "49a0ba3c-fd41-4391-aad7-a503b91f550b",
   "metadata": {},
   "source": [
    "> https://www.freecodecamp.org/news/snake-case-vs-camel-case-vs-pascal-case-vs-kebab-case-whats-the-difference/\n",
    ">\n",
    ">https://www.w3schools.com/python/python_syntax.asp\n",
    ">\n",
    ">https://www.markdownguide.org/basic-syntax/"
   ]
  }
 ],
 "metadata": {
  "kernelspec": {
   "display_name": "Python 3 (ipykernel)",
   "language": "python",
   "name": "python3"
  },
  "language_info": {
   "codemirror_mode": {
    "name": "ipython",
    "version": 3
   },
   "file_extension": ".py",
   "mimetype": "text/x-python",
   "name": "python",
   "nbconvert_exporter": "python",
   "pygments_lexer": "ipython3",
   "version": "3.11.4"
  }
 },
 "nbformat": 4,
 "nbformat_minor": 5
}
