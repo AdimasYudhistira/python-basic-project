{
 "cells": [
  {
   "cell_type": "markdown",
   "id": "a56ef30d-e41c-4b54-a729-3728bd138d33",
   "metadata": {},
   "source": [
    ">### Python File Handling\n",
    ">File handling is an important part of any web application.\n",
    ">\n",
    ">Python has several functions for creating, reading, updating, and deleting files."
   ]
  },
  {
   "cell_type": "markdown",
   "id": "e0a0fa6e-5cd1-4f8b-96bb-6b13ae83856a",
   "metadata": {},
   "source": [
    ">The key function for working with files in Python is the open() function.\n",
    ">\n",
    ">The open() function takes two parameters; filename, and mode.\n",
    ">\n",
    ">There are four different methods (modes) for opening a file:\n",
    ">\n",
    ">1. \"r\" - Read - Default value. Opens a file for reading, error if the file does not exist\n",
    ">2. \"a\" - Append - Opens a file for appending, creates the file if it does not exist\n",
    ">3. \"w\" - Write - Opens a file for writing, creates the file if it does not exist\n",
    ">4. \"x\" - Create - Creates the specified file, returns an error if the file exists\n",
    ">\n",
    ">In addition you can specify if the file should be handled as binary or text mode\n",
    ">\n",
    ">1. \"t\" - Text - Default value. Text mode\n",
    ">2. \"b\" - Binary - Binary mode (e.g. images)"
   ]
  },
  {
   "cell_type": "markdown",
   "id": "78f5ef23-0544-480e-936d-a7fe7d1b602b",
   "metadata": {},
   "source": [
    ">### Reading Files\n",
    ">There are different ways to read text files. This section will review some of the useful methods for reading the content of text files.\n",
    "So far, we've learned the entire content of a file can be read with the read() method. What if we only want to read a few bytes from a text file. To do that, specify the number of bytes in the read() method."
   ]
  },
  {
   "cell_type": "code",
   "execution_count": 1,
   "id": "e10bdc7d-3c05-4f54-91ed-06f2491c88f1",
   "metadata": {
    "tags": []
   },
   "outputs": [],
   "source": [
    "# reading the entire content of the file\n",
    "file = open('data/example.txt', 'r')\n",
    "file_content = file.read()"
   ]
  },
  {
   "cell_type": "code",
   "execution_count": 2,
   "id": "2ae0498a-690a-481b-bd75-0fd4b571dbdb",
   "metadata": {
    "tags": []
   },
   "outputs": [
    {
     "name": "stdout",
     "output_type": "stream",
     "text": [
      "The Zen of Python, by Tim Peters\n",
      "\n",
      "Beautiful is better than ugly.\n",
      "Explicit is better than implicit.\n",
      "Simple is better than complex.\n",
      "Complex is better than complicated.\n",
      "Flat is better than nested.\n",
      "Sparse is better than dense.\n",
      "Readability counts.\n",
      "Special cases aren't special enough to break the rules.\n",
      "Although practicality beats purity.\n",
      "Errors should never pass silently.\n",
      "Unless explicitly silenced.\n",
      "In the face of ambiguity, refuse the temptation to guess.\n",
      "There should be one-- and preferably only one --obvious way to do it.\n",
      "Although that way may not be obvious at first unless you're Dutch.\n",
      "Now is better than never.\n",
      "Although never is often better than *right* now.\n",
      "If the implementation is hard to explain, it's a bad idea.\n",
      "If the implementation is easy to explain, it may be a good idea.\n",
      "Namespaces are one honking great idea -- let's do more of those!\n"
     ]
    }
   ],
   "source": [
    "# check file content\n",
    "print(file_content)"
   ]
  },
  {
   "cell_type": "code",
   "execution_count": 3,
   "id": "d7564a22-a381-4be8-854b-3df14521441e",
   "metadata": {
    "tags": []
   },
   "outputs": [],
   "source": [
    "# reading one line at a time\n",
    "file = open('data/example.txt','r')\n",
    "file_line = file.readline()"
   ]
  },
  {
   "cell_type": "code",
   "execution_count": 4,
   "id": "0a38a2b6-aea9-4b2d-a3e1-14dc4574cd4a",
   "metadata": {
    "tags": []
   },
   "outputs": [
    {
     "name": "stdout",
     "output_type": "stream",
     "text": [
      "The Zen of Python, by Tim Peters\n",
      "\n"
     ]
    }
   ],
   "source": [
    "# check content\n",
    "print(file_line)"
   ]
  },
  {
   "cell_type": "code",
   "execution_count": 5,
   "id": "8c24161d-752c-4a3a-9b73-c126fb03b587",
   "metadata": {},
   "outputs": [],
   "source": [
    "# reading all lines and returning them as a list of strings\n",
    "file = open('data/example.txt','r')\n",
    "file_lines = file.readlines()"
   ]
  },
  {
   "cell_type": "code",
   "execution_count": 6,
   "id": "41989021-ff92-4c83-abf2-6c40624d719c",
   "metadata": {},
   "outputs": [
    {
     "name": "stdout",
     "output_type": "stream",
     "text": [
      "['The Zen of Python, by Tim Peters\\n', '\\n', 'Beautiful is better than ugly.\\n', 'Explicit is better than implicit.\\n', 'Simple is better than complex.\\n', 'Complex is better than complicated.\\n', 'Flat is better than nested.\\n', 'Sparse is better than dense.\\n', 'Readability counts.\\n', \"Special cases aren't special enough to break the rules.\\n\", 'Although practicality beats purity.\\n', 'Errors should never pass silently.\\n', 'Unless explicitly silenced.\\n', 'In the face of ambiguity, refuse the temptation to guess.\\n', 'There should be one-- and preferably only one --obvious way to do it.\\n', \"Although that way may not be obvious at first unless you're Dutch.\\n\", 'Now is better than never.\\n', 'Although never is often better than *right* now.\\n', \"If the implementation is hard to explain, it's a bad idea.\\n\", 'If the implementation is easy to explain, it may be a good idea.\\n', \"Namespaces are one honking great idea -- let's do more of those!\"]\n"
     ]
    }
   ],
   "source": [
    "# check content\n",
    "print(file_lines)"
   ]
  },
  {
   "cell_type": "code",
   "execution_count": 7,
   "id": "583b91a4-c3e6-4a99-941d-f67667a6bc4c",
   "metadata": {
    "tags": []
   },
   "outputs": [],
   "source": [
    "# closing the files\n",
    "file.close()"
   ]
  },
  {
   "cell_type": "markdown",
   "id": "cc4a9f00-20aa-4cd7-843a-13c6048023ec",
   "metadata": {},
   "source": [
    ">### With Open Read"
   ]
  },
  {
   "cell_type": "code",
   "execution_count": 8,
   "id": "eedc5a6c-2572-4b4d-b162-135809d49a4c",
   "metadata": {
    "tags": []
   },
   "outputs": [],
   "source": [
    "with open('data/example.txt','r') as file:\n",
    "    content = file.read()"
   ]
  },
  {
   "cell_type": "code",
   "execution_count": 9,
   "id": "3589fd70-b1e4-45f6-be2f-d7da25668dc8",
   "metadata": {
    "tags": []
   },
   "outputs": [
    {
     "name": "stdout",
     "output_type": "stream",
     "text": [
      "The Zen of Python, by Tim Peters\n",
      "\n",
      "Beautiful is better than ugly.\n",
      "Explicit is better than implicit.\n",
      "Simple is better than complex.\n",
      "Complex is better than complicated.\n",
      "Flat is better than nested.\n",
      "Sparse is better than dense.\n",
      "Readability counts.\n",
      "Special cases aren't special enough to break the rules.\n",
      "Although practicality beats purity.\n",
      "Errors should never pass silently.\n",
      "Unless explicitly silenced.\n",
      "In the face of ambiguity, refuse the temptation to guess.\n",
      "There should be one-- and preferably only one --obvious way to do it.\n",
      "Although that way may not be obvious at first unless you're Dutch.\n",
      "Now is better than never.\n",
      "Although never is often better than *right* now.\n",
      "If the implementation is hard to explain, it's a bad idea.\n",
      "If the implementation is easy to explain, it may be a good idea.\n",
      "Namespaces are one honking great idea -- let's do more of those!\n"
     ]
    }
   ],
   "source": [
    "print(content)"
   ]
  },
  {
   "cell_type": "markdown",
   "id": "e3d6446e-3e53-4ff3-a073-faf5e681dd27",
   "metadata": {},
   "source": [
    ">### Writing Files\n",
    ">Open the file for writing. For the existing files, the data is truncated and over-written. The handle is positioned at the beginning of the file. Creates the file if the file does not exist."
   ]
  },
  {
   "cell_type": "code",
   "execution_count": 10,
   "id": "a168bdb5-894a-42ba-83f1-6cb57c68f682",
   "metadata": {
    "tags": []
   },
   "outputs": [],
   "source": [
    "# writing to a file using w\n",
    "with open('data/output.txt','w') as file:\n",
    "    file.write('Hello World!')"
   ]
  },
  {
   "cell_type": "code",
   "execution_count": 11,
   "id": "fac278d3-2eda-4432-9ebf-4b4c2ea836c4",
   "metadata": {
    "tags": []
   },
   "outputs": [],
   "source": [
    "# writing to a file using a\n",
    "with open('data/output.txt','a') as file:\n",
    "    file.write('Hello World! 2')"
   ]
  },
  {
   "cell_type": "markdown",
   "id": "79eb6cb8-eacc-4b7b-a952-fa164cc768c3",
   "metadata": {},
   "source": [
    ">Python has a set of [methods](https://www.w3schools.com/python/python_ref_file.asp) available for the file object."
   ]
  },
  {
   "cell_type": "code",
   "execution_count": 13,
   "id": "8a2c2061-1006-4978-9d7a-f9c842fc199d",
   "metadata": {
    "tags": []
   },
   "outputs": [],
   "source": [
    "# common file reading\n",
    "with open('data/example.txt','r') as file:\n",
    "    content = file.readlines() # read lines with list"
   ]
  },
  {
   "cell_type": "code",
   "execution_count": 14,
   "id": "c21aaed4-ebee-45ba-9805-4abb02e13080",
   "metadata": {
    "tags": []
   },
   "outputs": [
    {
     "name": "stdout",
     "output_type": "stream",
     "text": [
      "['The Zen of Python, by Tim Peters\\n', '\\n', 'Beautiful is better than ugly.\\n', 'Explicit is better than implicit.\\n', 'Simple is better than complex.\\n', 'Complex is better than complicated.\\n', 'Flat is better than nested.\\n', 'Sparse is better than dense.\\n', 'Readability counts.\\n', \"Special cases aren't special enough to break the rules.\\n\", 'Although practicality beats purity.\\n', 'Errors should never pass silently.\\n', 'Unless explicitly silenced.\\n', 'In the face of ambiguity, refuse the temptation to guess.\\n', 'There should be one-- and preferably only one --obvious way to do it.\\n', \"Although that way may not be obvious at first unless you're Dutch.\\n\", 'Now is better than never.\\n', 'Although never is often better than *right* now.\\n', \"If the implementation is hard to explain, it's a bad idea.\\n\", 'If the implementation is easy to explain, it may be a good idea.\\n', \"Namespaces are one honking great idea -- let's do more of those!\"]\n"
     ]
    }
   ],
   "source": [
    "print(content)"
   ]
  },
  {
   "cell_type": "code",
   "execution_count": 17,
   "id": "5fbbd926-d9d5-421c-a6d9-24203027fe31",
   "metadata": {
    "tags": []
   },
   "outputs": [],
   "source": [
    "# common read and write mode\n",
    "with open('data/example.txt','r') as read_file, open('data/output2.txt','w') as write_file:\n",
    "    content = read_file.read() #read content\n",
    "    write_file.write(content) #write content"
   ]
  },
  {
   "cell_type": "code",
   "execution_count": 18,
   "id": "10c54b84-0efb-46e5-85b9-c842f5bfc0ab",
   "metadata": {
    "tags": []
   },
   "outputs": [],
   "source": [
    "# common read and write mode using list\n",
    "with open('data/example.txt','r') as read_file, open('data/output2.txt','w') as write_file:\n",
    "    content = read_file.readlines() # read content in list\n",
    "    for i in content:\n",
    "        write_file.write(i) # write content using for loop"
   ]
  },
  {
   "cell_type": "markdown",
   "id": "3a4da6d2-34c9-4f9b-a99e-b01ec45c7c99",
   "metadata": {},
   "source": [
    "### REFERENCE\n",
    "\n",
    "1. https://www.w3schools.com/python/python_file_handling.asp#gsc.tab=0&gsc.q=Method%20file%20handling\n",
    "2. https://www.geeksforgeeks.org/reading-writing-text-files-python/\n",
    "3. https://www.dataquest.io/blog/read-file-python/\n",
    "4. https://pynative.com/python-write-list-to-file/"
   ]
  }
 ],
 "metadata": {
  "kernelspec": {
   "display_name": "Python 3 (ipykernel)",
   "language": "python",
   "name": "python3"
  },
  "language_info": {
   "codemirror_mode": {
    "name": "ipython",
    "version": 3
   },
   "file_extension": ".py",
   "mimetype": "text/x-python",
   "name": "python",
   "nbconvert_exporter": "python",
   "pygments_lexer": "ipython3",
   "version": "3.11.4"
  }
 },
 "nbformat": 4,
 "nbformat_minor": 5
}
