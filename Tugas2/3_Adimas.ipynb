{
 "cells": [
  {
   "cell_type": "markdown",
   "metadata": {
    "id": "gVpBcsgXQEZk"
   },
   "source": [
    "## TUGAS BASIC PYTHON 2"
   ]
  },
  {
   "cell_type": "markdown",
   "metadata": {
    "id": "y54FlpGvQEZo"
   },
   "source": [
    "### SOAL 1"
   ]
  },
  {
   "cell_type": "markdown",
   "metadata": {
    "id": "jMnyS_uyQEZp"
   },
   "source": [
    "Dengan menggunakan loop, buatlah program yang menerima dan membalikkan suatu **input** dari suatu string.\n",
    "\n",
    "Contoh:"
   ]
  },
  {
   "cell_type": "raw",
   "metadata": {
    "id": "zNp_Y2d6QEZq"
   },
   "source": [
    "Input  : \"Hello\"\n",
    "Output : \"olleH\""
   ]
  },
  {
   "cell_type": "code",
   "execution_count": 1,
   "metadata": {
    "tags": []
   },
   "outputs": [],
   "source": [
    "# Cara 1 function\n",
    "def balik_string():\n",
    "    # memasukkan string\n",
    "    input_user = input(\"Masukkan string: \")\n",
    "\n",
    "    # Inisialisasi string yang dibalik\n",
    "    reversed_string = \"\"\n",
    "\n",
    "    # Loop untuk membalikkan string\n",
    "    for karakter in input_user:\n",
    "        reversed_string = karakter + reversed_string\n",
    "\n",
    "    # Mencetak output\n",
    "    print(\"Output:\", reversed_string)"
   ]
  },
  {
   "cell_type": "code",
   "execution_count": 2,
   "metadata": {
    "tags": []
   },
   "outputs": [
    {
     "name": "stdin",
     "output_type": "stream",
     "text": [
      "Masukkan string:  Hello Brother\n"
     ]
    },
    {
     "name": "stdout",
     "output_type": "stream",
     "text": [
      "Output: rehtorB olleH\n"
     ]
    }
   ],
   "source": [
    "# Memanggil fungsi\n",
    "balik_string()"
   ]
  },
  {
   "cell_type": "code",
   "execution_count": 3,
   "metadata": {
    "tags": []
   },
   "outputs": [
    {
     "name": "stdin",
     "output_type": "stream",
     "text": [
      "Masukkan string:  Hello Brother\n"
     ]
    },
    {
     "name": "stdout",
     "output_type": "stream",
     "text": [
      "Output: rehtorB olleH\n"
     ]
    }
   ],
   "source": [
    "# Cara 2 Function with return value\n",
    "def balik_string(input_string):\n",
    "    reversed_string = \"\"\n",
    "    for karakter in input_string:\n",
    "        reversed_string = karakter + reversed_string\n",
    "    return reversed_string\n",
    "\n",
    "# Contoh penggunaan functionnya\n",
    "input_user = input(\"Masukkan string: \")\n",
    "hasil_balik = balik_string(input_user)\n",
    "\n",
    "print(\"Output:\", hasil_balik)"
   ]
  },
  {
   "cell_type": "code",
   "execution_count": 4,
   "metadata": {
    "tags": []
   },
   "outputs": [
    {
     "name": "stdin",
     "output_type": "stream",
     "text": [
      "Masukkan string:  Hello Brother\n"
     ]
    },
    {
     "name": "stdout",
     "output_type": "stream",
     "text": [
      "Output: rehtorB olleH\n"
     ]
    }
   ],
   "source": [
    "# Cara 3 no function\n",
    "# memasukkan string\n",
    "input_user = input(\"Masukkan string: \")\n",
    "\n",
    "# Inisialisasi string yang dibalik\n",
    "reversed_string = \"\"\n",
    "\n",
    "# Loop untuk membalikkan string\n",
    "for karakter in input_user:\n",
    "    reversed_string = karakter + reversed_string\n",
    "\n",
    "# Mencetak output\n",
    "print(\"Output:\", reversed_string)\n"
   ]
  },
  {
   "cell_type": "markdown",
   "metadata": {
    "id": "65MBj53QQEZq"
   },
   "source": [
    "### SOAL 2"
   ]
  },
  {
   "cell_type": "markdown",
   "metadata": {
    "id": "LVhNFkhaQEZq"
   },
   "source": [
    "Dengan menggunakan loop, buatlah program yang menerima dan memisahkan nilai positif dan nilai negatif pada **input** dari suatu list deret angka.\n",
    "\n",
    "Contoh:"
   ]
  },
  {
   "cell_type": "raw",
   "metadata": {
    "id": "VatIrj0YQEZr"
   },
   "source": [
    "Input  : [10, 5, -6, 23, -9, 21, 3, -45]\n",
    "Output : Positif : [10, 5, 23, 21, 3]\n",
    "         Negatif : [-6, -45, -9]"
   ]
  },
  {
   "cell_type": "code",
   "execution_count": 5,
   "metadata": {
    "tags": []
   },
   "outputs": [],
   "source": [
    "# Cara 1 dengan Function\n",
    "def pisah_nilai_positif_negatif():\n",
    "    # Mendefinisikan list deret angka\n",
    "    deret_angka = [10, 5, -6, 23, -9, 21, 3, -45]\n",
    "\n",
    "    # Inisialisasi list untuk nilai positif dan negatif\n",
    "    nilai_positif = []\n",
    "    nilai_negatif = []\n",
    "\n",
    "    # Loop untuk memisahkan nilai positif dan negatif\n",
    "    for angka in deret_angka:\n",
    "        if angka >= 0:\n",
    "            nilai_positif.append(angka)\n",
    "        else:\n",
    "            nilai_negatif.append(angka)\n",
    "\n",
    "    # Mencetak output\n",
    "    print(\"Positif :\", nilai_positif)\n",
    "    print(\"Negatif :\", nilai_negatif)"
   ]
  },
  {
   "cell_type": "code",
   "execution_count": 6,
   "metadata": {
    "tags": []
   },
   "outputs": [
    {
     "name": "stdout",
     "output_type": "stream",
     "text": [
      "Positif : [10, 5, 23, 21, 3]\n",
      "Negatif : [-6, -9, -45]\n"
     ]
    }
   ],
   "source": [
    "pisah_nilai_positif_negatif()"
   ]
  },
  {
   "cell_type": "code",
   "execution_count": 7,
   "metadata": {
    "tags": []
   },
   "outputs": [
    {
     "name": "stdin",
     "output_type": "stream",
     "text": [
      "Masukkan deret angka (pisahkan dengan koma):  2,3,-3,8,10,-20,9,-7\n"
     ]
    },
    {
     "name": "stdout",
     "output_type": "stream",
     "text": [
      "Positif : [2, 3, 8, 10, 9]\n",
      "Negatif : [-3, -20, -7]\n"
     ]
    }
   ],
   "source": [
    "# Cara 2 Bisa input list sesuai yang diinginkan\n",
    "# memasukkan list deret angka\n",
    "deret_angka_input = input(\"Masukkan deret angka (pisahkan dengan koma): \")\n",
    "deret_angka = [int(angka) for angka in deret_angka_input.split(',')]\n",
    "\n",
    "# Inisialisasi list untuk nilai positif dan negatif\n",
    "nilai_positif = []\n",
    "nilai_negatif = []\n",
    "\n",
    "# Loop untuk memisahkan nilai positif dan negatif\n",
    "for angka in deret_angka:\n",
    "    if angka >= 0:\n",
    "        nilai_positif.append(angka)\n",
    "    else:\n",
    "        nilai_negatif.append(angka)\n",
    "\n",
    "# Mencetak output\n",
    "print(\"Positif :\", nilai_positif)\n",
    "print(\"Negatif :\", nilai_negatif)"
   ]
  },
  {
   "cell_type": "markdown",
   "metadata": {
    "id": "D5zAd7sAQEZr"
   },
   "source": [
    "### SOAL 3"
   ]
  },
  {
   "cell_type": "markdown",
   "metadata": {
    "id": "5xQCyevQQEZr"
   },
   "source": [
    "Dengan menggunakan loop, buatlah program yang menerima dan memisahkan bilangan ganjil dan genap pada **input** dari suatu list deret angka.\n",
    "\n",
    "Contoh:"
   ]
  },
  {
   "cell_type": "raw",
   "metadata": {
    "id": "QYvde1O2QEZs"
   },
   "source": [
    "Input  : [10, 23, 24, 35, 65, 78]\n",
    "Output : Genap  : [10, 24, 78]\n",
    "         Ganjil : [23, 35, 65]"
   ]
  },
  {
   "cell_type": "code",
   "execution_count": 8,
   "metadata": {},
   "outputs": [],
   "source": [
    "# Cara 1 dengan Function\n",
    "def pisah_nilai_ganjil_genap():\n",
    "    # Mendefinisikan list deret angka\n",
    "    deret_angka = [10, 23, 24, 35, 65, 78]\n",
    "\n",
    "    # Inisialisasi list untuk bilangan ganjil dan genap\n",
    "    bil_ganjil = []\n",
    "    bil_genap = []\n",
    "\n",
    "    # Loop untuk memisahkan bilangan ganjil dan genap\n",
    "    for angka in deret_angka:\n",
    "        if angka % 2 == 0:\n",
    "            bil_genap.append(angka)\n",
    "        else:\n",
    "            bil_ganjil.append(angka)\n",
    "\n",
    "    # Mencetak output\n",
    "    print(\"Ganjil :\", bil_ganjil)\n",
    "    print(\"Genap :\", bil_genap)"
   ]
  },
  {
   "cell_type": "code",
   "execution_count": 9,
   "metadata": {},
   "outputs": [
    {
     "name": "stdout",
     "output_type": "stream",
     "text": [
      "Ganjil : [23, 35, 65]\n",
      "Genap : [10, 24, 78]\n"
     ]
    }
   ],
   "source": [
    "pisah_nilai_ganjil_genap()"
   ]
  },
  {
   "cell_type": "code",
   "execution_count": 10,
   "metadata": {
    "tags": []
   },
   "outputs": [
    {
     "name": "stdin",
     "output_type": "stream",
     "text": [
      "Masukkan deret angka (pisahkan dengan koma):  2,3,7,9,10,20,-2\n"
     ]
    },
    {
     "name": "stdout",
     "output_type": "stream",
     "text": [
      "Ganjil : [3, 7, 9]\n",
      "Genap : [2, 10, 20, -2]\n"
     ]
    }
   ],
   "source": [
    "# Cara 2 bisa menginput nilai/bilangan sesuai yang di inginkan\n",
    "# memasukkan list deret angka\n",
    "deret_angka_input = input(\"Masukkan deret angka (pisahkan dengan koma): \")\n",
    "deret_angka = [int(angka) for angka in deret_angka_input.split(',')]\n",
    "\n",
    "# Inisialisasi list untuk bilangan ganjil dan genap\n",
    "bil_ganjil = []\n",
    "bil_genap = []\n",
    "\n",
    "# Loop untuk memisahkan bilangan ganjil dan genap\n",
    "for angka in deret_angka:\n",
    "    if angka % 2 == 0:\n",
    "        bil_genap.append(angka)\n",
    "    else:\n",
    "        bil_ganjil.append(angka)\n",
    "\n",
    "# Mencetak output\n",
    "print(\"Ganjil :\", bil_ganjil)\n",
    "print(\"Genap :\", bil_genap)"
   ]
  },
  {
   "cell_type": "markdown",
   "metadata": {
    "id": "0ZO1wC5uQEZs"
   },
   "source": [
    "### SOAL 4"
   ]
  },
  {
   "cell_type": "markdown",
   "metadata": {
    "id": "vQ2mwQiAQEZs"
   },
   "source": [
    "Dengan menggunakan loop, buatlah program yang menerima dan memisahkan huruf vokal (a,i,u,e,o) pada **input** dari suatu string.\n",
    "\n",
    "Contoh:"
   ]
  },
  {
   "cell_type": "raw",
   "metadata": {
    "id": "f_LqkbeXQEZs"
   },
   "source": [
    "Input  : \"Hello World\"\n",
    "Output : \"Hll Wrld\""
   ]
  },
  {
   "cell_type": "code",
   "execution_count": 11,
   "metadata": {
    "tags": []
   },
   "outputs": [
    {
     "name": "stdin",
     "output_type": "stream",
     "text": [
      "Masukkan string:  Hello World!\n"
     ]
    },
    {
     "name": "stdout",
     "output_type": "stream",
     "text": [
      "Output: Hll Wrld!\n"
     ]
    }
   ],
   "source": [
    "# Meminta pengguna untuk memasukkan string\n",
    "input_string = input(\"Masukkan string: \")\n",
    "\n",
    "# Inisialisasi string untuk huruf vokal\n",
    "huruf_vokal = \"aiueo\"\n",
    "\n",
    "# Inisialisasi string untuk hasil\n",
    "hasil_string = \"\"\n",
    "\n",
    "# Loop untuk memisahkan huruf vokal\n",
    "for karakter in input_string:\n",
    "    if karakter.lower() not in huruf_vokal:\n",
    "        hasil_string += karakter\n",
    "\n",
    "# Mencetak output\n",
    "print(\"Output:\", hasil_string)"
   ]
  },
  {
   "cell_type": "markdown",
   "metadata": {
    "id": "UL2qzQETQEZt"
   },
   "source": [
    "### SOAL 5"
   ]
  },
  {
   "cell_type": "markdown",
   "metadata": {
    "id": "eHFSgw1ZQEZt"
   },
   "source": [
    "Hilangkanlah kata yang berulang pada string dibawah ini:"
   ]
  },
  {
   "cell_type": "markdown",
   "metadata": {
    "id": "6byILNslQEZt"
   },
   "source": [
    "> ##### *HALO HALO BANDUNG IBU KOTA PERIANGAN. HALO HALO BANDUNG KOTA KENANG KENANGAN. SUDAH LAMA BETA TIDAK BERJUMPA DENGAN KAU. SEKARANG TELAH MENJADI LAUTAN API MARI BUNG REBUT KEMBALI*"
   ]
  },
  {
   "cell_type": "code",
   "execution_count": 12,
   "metadata": {
    "id": "sQMIubvx2aMQ",
    "tags": []
   },
   "outputs": [
    {
     "name": "stdout",
     "output_type": "stream",
     "text": [
      "TELAH LAMA BERJUMPA IBU PERIANGAN. SUDAH BANDUNG API KAU. REBUT MARI SEKARANG BUNG LAUTAN KOTA HALO TIDAK KEMBALI BETA KENANGAN. MENJADI DENGAN KENANG\n"
     ]
    }
   ],
   "source": [
    "input_string = \"HALO HALO BANDUNG IBU KOTA PERIANGAN. HALO HALO BANDUNG KOTA KENANG KENANGAN. SUDAH LAMA BETA TIDAK BERJUMPA DENGAN KAU. SEKARANG TELAH MENJADI LAUTAN API MARI BUNG REBUT KEMBALI\"\n",
    "\n",
    "words = input_string.split()\n",
    "unique_words = list(set(words))\n",
    "result_string = ' '.join(unique_words)\n",
    "\n",
    "print(result_string)"
   ]
  }
 ],
 "metadata": {
  "colab": {
   "provenance": []
  },
  "kernelspec": {
   "display_name": "Python 3 (ipykernel)",
   "language": "python",
   "name": "python3"
  },
  "language_info": {
   "codemirror_mode": {
    "name": "ipython",
    "version": 3
   },
   "file_extension": ".py",
   "mimetype": "text/x-python",
   "name": "python",
   "nbconvert_exporter": "python",
   "pygments_lexer": "ipython3",
   "version": "3.11.4"
  }
 },
 "nbformat": 4,
 "nbformat_minor": 4
}
