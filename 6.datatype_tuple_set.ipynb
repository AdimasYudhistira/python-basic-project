{
 "cells": [
  {
   "cell_type": "markdown",
   "id": "ad4dbd3c-5405-4c01-9861-7bf0ebcf6e1e",
   "metadata": {},
   "source": [
    "## PYTHON TUPLE & SET"
   ]
  },
  {
   "cell_type": "markdown",
   "id": "b3284527-81f3-4262-816a-3679ff610844",
   "metadata": {},
   "source": [
    "> ### Tuple\n",
    "> A tuple in Python is similiar to a list. The difference between the two is that tuples are immutable, meaning their elements cannot be modified after creation. Tuples are defined by enclosing the elements in parentheses `()`.\n",
    ">\n",
    "> Let's dive into each topic with detailed explanations and examples."
   ]
  },
  {
   "cell_type": "code",
   "execution_count": 1,
   "id": "35e845e9-d9f6-4bbb-b775-76359bd94ef3",
   "metadata": {
    "tags": []
   },
   "outputs": [],
   "source": [
    "# Creating a tuple\n",
    "sample_tuple = (10, 20, 30, 40, 50)"
   ]
  },
  {
   "cell_type": "markdown",
   "id": "19821599-95d6-42e5-9012-59397274b37e",
   "metadata": {},
   "source": [
    "> ### Accessing Element\n",
    "> Accessing elements in a tuple is similar to accessing elements in a list.\n",
    ">\n",
    "> You can use the index of the element inside square brackets to access it."
   ]
  },
  {
   "cell_type": "code",
   "execution_count": 2,
   "id": "01c2cee1-1e42-4018-a38b-fcf14c798c8c",
   "metadata": {
    "tags": []
   },
   "outputs": [
    {
     "data": {
      "text/plain": [
       "10"
      ]
     },
     "execution_count": 2,
     "metadata": {},
     "output_type": "execute_result"
    }
   ],
   "source": [
    "sample_tuple[0]"
   ]
  },
  {
   "cell_type": "code",
   "execution_count": 3,
   "id": "e2cd12e5-84f7-497d-bb2e-97cc4af42647",
   "metadata": {
    "tags": []
   },
   "outputs": [
    {
     "data": {
      "text/plain": [
       "(10, 30)"
      ]
     },
     "execution_count": 3,
     "metadata": {},
     "output_type": "execute_result"
    }
   ],
   "source": [
    "# accessing the first element\n",
    "first_element = sample_tuple[0]\n",
    "\n",
    "# accessing the third element\n",
    "third_element = sample_tuple[2]\n",
    "\n",
    "first_element, third_element"
   ]
  },
  {
   "cell_type": "markdown",
   "id": "9e70c6a7-28ed-424f-8ecf-5322fb82d505",
   "metadata": {},
   "source": [
    "> ### Indexing and Slicing\n",
    "> Indexing in tuples works the same way as in lists. You can use positive indices to access elements from the beginning of the tuple ang negative indices to access elements from the end of the tuple.\n",
    ">\n",
    "> Slicing in tuples allows you to obtain a subset of the tuple. It is done by specifying two indices separated by a colon `:`. The returned tuple will start from the first index and go up to (but not include) the second index."
   ]
  },
  {
   "cell_type": "code",
   "execution_count": 4,
   "id": "0c7f82f6-5af8-4b70-98d8-a0e29d1bf11b",
   "metadata": {
    "tags": []
   },
   "outputs": [
    {
     "data": {
      "text/plain": [
       "(50, 40)"
      ]
     },
     "execution_count": 4,
     "metadata": {},
     "output_type": "execute_result"
    }
   ],
   "source": [
    "# accessing the last element using negative indexing\n",
    "last_element = sample_tuple[-1]\n",
    "\n",
    "# accessing the second last element using negative indexing\n",
    "second_last_element = sample_tuple[-2]\n",
    "\n",
    "last_element, second_last_element"
   ]
  },
  {
   "cell_type": "code",
   "execution_count": 5,
   "id": "96ca05f7-7730-473a-822a-e66b5494a0c0",
   "metadata": {
    "tags": []
   },
   "outputs": [
    {
     "data": {
      "text/plain": [
       "(20, 30, 40)"
      ]
     },
     "execution_count": 5,
     "metadata": {},
     "output_type": "execute_result"
    }
   ],
   "source": [
    "# slicing from the second to the fourth element\n",
    "sliced_tuple = sample_tuple[1:4]\n",
    "sliced_tuple"
   ]
  },
  {
   "cell_type": "markdown",
   "id": "bde3acd0-8724-4b00-8681-1eba94d8b53d",
   "metadata": {},
   "source": [
    "> ### Tuples Method\n",
    "> Tuples have a limited set of methods compared to lists due their immutable nature.\n",
    ">\n",
    "> The two main methods available for tuples are `count()` and `index()`. Let's explore these methods."
   ]
  },
  {
   "cell_type": "code",
   "execution_count": 6,
   "id": "0235ddc4-fbdd-4f44-af49-920d1bc1bb3c",
   "metadata": {
    "tags": []
   },
   "outputs": [
    {
     "data": {
      "text/plain": [
       "(1, 3)"
      ]
     },
     "execution_count": 6,
     "metadata": {},
     "output_type": "execute_result"
    }
   ],
   "source": [
    "# using the count() method to count the occurrences of an element in a tuple\n",
    "count_of_20 = sample_tuple.count(20)\n",
    "\n",
    "# using the index() method to find the index of an element a tuple\n",
    "index_of_40 = sample_tuple.index(40)\n",
    "\n",
    "count_of_20, index_of_40"
   ]
  },
  {
   "cell_type": "markdown",
   "id": "437947a4-acbc-48a2-aa95-27cb88cdee95",
   "metadata": {},
   "source": [
    "> ### Check Item / Element\n",
    "> To detemine if a specific item is present in a tuple, you can use the `in` keyword, similar to lists."
   ]
  },
  {
   "cell_type": "code",
   "execution_count": 7,
   "id": "770719e8-dddc-41fb-b140-d9398da045d8",
   "metadata": {
    "tags": []
   },
   "outputs": [
    {
     "data": {
      "text/plain": [
       "(True, False)"
      ]
     },
     "execution_count": 7,
     "metadata": {},
     "output_type": "execute_result"
    }
   ],
   "source": [
    "# check if 30 is present in the sample_tuple\n",
    "is_30_present = 30 in sample_tuple\n",
    "\n",
    "# check if 100 is present in the sample_tuple\n",
    "is_100_present = 100 in sample_tuple\n",
    "\n",
    "is_30_present, is_100_present"
   ]
  },
  {
   "cell_type": "markdown",
   "id": "40cf1ac4-8a04-4483-83c6-70b3ab189a7a",
   "metadata": {},
   "source": [
    "> ### Tuple VS List\n",
    "![](https://miro.medium.com/v2/resize:fit:1400/format:webp/1*DxD-6bZrRg7qSa7hg2bbtA.png)"
   ]
  },
  {
   "cell_type": "markdown",
   "id": "9448ac62-0f3b-4849-a58a-053de6ac68bc",
   "metadata": {},
   "source": [
    "> ### Set\n",
    "> A set in python is an unordered collection of unique items. Sets are defined by enclosing the elements in curly braces `{ }`.\n",
    ">\n",
    "> Sets are mutable. meaning you can add and remove items from them.\n",
    ">\n",
    "> However, since sets are unordered, they do not support indexing or slicing like list and tuplea. Let's dive into each topic with detailed explanations and examples."
   ]
  },
  {
   "cell_type": "code",
   "execution_count": 8,
   "id": "5d376a15-8898-4d73-9021-c38d1b2ddb41",
   "metadata": {
    "tags": []
   },
   "outputs": [],
   "source": [
    "# Creating a set\n",
    "sample_set = {1, 2, 3, 4, 5}"
   ]
  },
  {
   "cell_type": "markdown",
   "id": "cbfc8bbb-6888-429f-9830-53113534ee0c",
   "metadata": {},
   "source": [
    "> One of the key characteristics of a set is that it cannot have duplicate items. If you try to create a set with duplicate items, Python will automatically remove the duplicates."
   ]
  },
  {
   "cell_type": "code",
   "execution_count": 9,
   "id": "b5986513-5e28-4a4e-be6b-02e8c8937013",
   "metadata": {
    "tags": []
   },
   "outputs": [
    {
     "data": {
      "text/plain": [
       "{1, 2, 3, 4, 5}"
      ]
     },
     "execution_count": 9,
     "metadata": {},
     "output_type": "execute_result"
    }
   ],
   "source": [
    "# creating a set with duplicates items\n",
    "set_with_duplicates = {1, 2, 2, 3, 4, 4, 5}\n",
    "set_with_duplicates"
   ]
  },
  {
   "cell_type": "markdown",
   "id": "1f60a8fe-a075-4d46-9d43-da9d69279cbd",
   "metadata": {},
   "source": [
    "> ### Add and Update Set Items\n",
    "> You can add an item to a set using the `add()` method.\n",
    ">\n",
    "> If you want to add multiple items, you can use the `update()` method. Let's see how to use these methods."
   ]
  },
  {
   "cell_type": "code",
   "execution_count": 10,
   "id": "23d52db1-9fe3-4bf1-980e-95053e16f538",
   "metadata": {
    "tags": []
   },
   "outputs": [
    {
     "data": {
      "text/plain": [
       "{1, 2, 3, 4, 5, 6}"
      ]
     },
     "execution_count": 10,
     "metadata": {},
     "output_type": "execute_result"
    }
   ],
   "source": [
    "# adding a single item to the set using add() method\n",
    "sample_set.add(6)\n",
    "sample_set"
   ]
  },
  {
   "cell_type": "code",
   "execution_count": 11,
   "id": "4007d6f3-15d8-4e61-8e22-436db694164d",
   "metadata": {
    "tags": []
   },
   "outputs": [
    {
     "data": {
      "text/plain": [
       "{1, 2, 3, 4, 5, 6, 7, 8, 9}"
      ]
     },
     "execution_count": 11,
     "metadata": {},
     "output_type": "execute_result"
    }
   ],
   "source": [
    "# adding multiple items to the set using update() method\n",
    "sample_set.update([7, 8, 9])\n",
    "sample_set"
   ]
  },
  {
   "cell_type": "markdown",
   "id": "32446836-dfbf-4d55-8f72-8f2688edad07",
   "metadata": {},
   "source": [
    "> ### Removing Items\n",
    "> You can remove an item from a set using the `remove()` or `discard()` methods.\n",
    "> \n",
    "> The difference between the two is that `remove()` will raise an error if the specified items is not found in the set, while `discard()` will not. Let's see how to use these methods."
   ]
  },
  {
   "cell_type": "code",
   "execution_count": 12,
   "id": "3eb874b6-7532-4b4f-a956-e40c8d794d38",
   "metadata": {
    "tags": []
   },
   "outputs": [
    {
     "data": {
      "text/plain": [
       "{1, 2, 3, 4, 5, 7, 8, 9}"
      ]
     },
     "execution_count": 12,
     "metadata": {},
     "output_type": "execute_result"
    }
   ],
   "source": [
    "# removing an item using remove() method\n",
    "sample_set.remove(6)\n",
    "sample_set"
   ]
  },
  {
   "cell_type": "code",
   "execution_count": 13,
   "id": "e1b9d946-388b-408a-9184-4173c57b204b",
   "metadata": {
    "tags": []
   },
   "outputs": [
    {
     "data": {
      "text/plain": [
       "{1, 2, 3, 4, 5, 8, 9}"
      ]
     },
     "execution_count": 13,
     "metadata": {},
     "output_type": "execute_result"
    }
   ],
   "source": [
    "# removing an item using discard() method\n",
    "sample_set.discard(7)\n",
    "sample_set"
   ]
  },
  {
   "cell_type": "code",
   "execution_count": 14,
   "id": "91df6ae1-0675-4829-b367-4671cfcbd863",
   "metadata": {
    "tags": []
   },
   "outputs": [],
   "source": [
    "# trying to remove an item that doesn't exist using discard() (This won't raise on error)\n",
    "sample_set.discard(7)"
   ]
  },
  {
   "cell_type": "markdown",
   "id": "63cefb15-4d9c-495f-84a3-e2bee2923184",
   "metadata": {},
   "source": [
    "> ### Built-In Function For Set\n",
    "> Python provides several built-in functions that can be used with sets.\n",
    ">\n",
    "> Some of the commonly used functions are `len()`, `max()`, `min()`, and `sorted()`."
   ]
  },
  {
   "cell_type": "code",
   "execution_count": 15,
   "id": "e6e773e6-02f6-4532-aead-c0447bdc639b",
   "metadata": {
    "tags": []
   },
   "outputs": [
    {
     "data": {
      "text/plain": [
       "(7, 9, 1, [1, 2, 3, 4, 5, 8, 9])"
      ]
     },
     "execution_count": 15,
     "metadata": {},
     "output_type": "execute_result"
    }
   ],
   "source": [
    "# using built-in functions with set\n",
    "set_length = len(sample_set)\n",
    "max_value = max(sample_set)\n",
    "min_value = min(sample_set)\n",
    "sorted_set = sorted(sample_set)\n",
    "\n",
    "set_length, max_value, min_value, sorted_set"
   ]
  },
  {
   "cell_type": "code",
   "execution_count": 16,
   "id": "8a59b907-f518-4736-8afc-1801a3337e98",
   "metadata": {
    "tags": []
   },
   "outputs": [],
   "source": [
    "# defining two sets\n",
    "set_A = {1, 2, 3, 4, 5}\n",
    "set_B = {4, 5, 6, 7, 8}\n",
    "set_C = {1, 2, 3}\n",
    "set_D = {4, 5, 6}"
   ]
  },
  {
   "cell_type": "code",
   "execution_count": 17,
   "id": "eb2c75ca-99b4-4ff8-802a-76089b434704",
   "metadata": {
    "tags": []
   },
   "outputs": [
    {
     "data": {
      "text/plain": [
       "True"
      ]
     },
     "execution_count": 17,
     "metadata": {},
     "output_type": "execute_result"
    }
   ],
   "source": [
    "# checking if two sets have no elements in common\n",
    "are_sets_disjoint = set_C.isdisjoint(set_D)\n",
    "are_sets_disjoint"
   ]
  },
  {
   "cell_type": "code",
   "execution_count": 18,
   "id": "edd1b4ad-70f7-4dd3-86de-19a03a36a97c",
   "metadata": {
    "tags": []
   },
   "outputs": [
    {
     "data": {
      "text/plain": [
       "(False, True)"
      ]
     },
     "execution_count": 18,
     "metadata": {},
     "output_type": "execute_result"
    }
   ],
   "source": [
    "# checking if one set is a subset of another\n",
    "is_C_subset_of_D = set_C.issubset(set_D)\n",
    "is_C_subset_of_A = set_C.issubset(set_A)\n",
    "is_C_subset_of_D, is_C_subset_of_A"
   ]
  },
  {
   "cell_type": "code",
   "execution_count": 19,
   "id": "8a656004-6a9d-440f-94db-d564f5aab09f",
   "metadata": {
    "tags": []
   },
   "outputs": [
    {
     "data": {
      "text/plain": [
       "True"
      ]
     },
     "execution_count": 19,
     "metadata": {},
     "output_type": "execute_result"
    }
   ],
   "source": [
    "# checking if one set is a superset of another\n",
    "is_A_superset_of_C = set_A.issuperset(set_C)\n",
    "is_A_superset_of_C"
   ]
  },
  {
   "cell_type": "markdown",
   "id": "d26d905a-c62b-47b1-8ef8-5a75b34f4781",
   "metadata": {},
   "source": [
    "> ### Set Operations\n",
    "> Sets in Python support various operations like union, intersection, difference, and symmetric difference.\n",
    ">\n",
    "> These operations can be performed using methods or operators. Let's explore these operations."
   ]
  },
  {
   "cell_type": "code",
   "execution_count": 20,
   "id": "56732719-5006-4f30-8bc3-8fd738498d66",
   "metadata": {
    "tags": []
   },
   "outputs": [
    {
     "data": {
      "text/plain": [
       "{1, 2, 3, 4, 5, 6, 7, 8}"
      ]
     },
     "execution_count": 20,
     "metadata": {},
     "output_type": "execute_result"
    }
   ],
   "source": [
    "# union of two sets\n",
    "union_set = set_A | set_B\n",
    "union_set"
   ]
  },
  {
   "cell_type": "code",
   "execution_count": 21,
   "id": "660026f8-6b42-4ea9-af18-80eb5c85efe8",
   "metadata": {
    "tags": []
   },
   "outputs": [
    {
     "data": {
      "text/plain": [
       "{4, 5}"
      ]
     },
     "execution_count": 21,
     "metadata": {},
     "output_type": "execute_result"
    }
   ],
   "source": [
    "# intersection of two sets\n",
    "intersection_set = set_A & set_B\n",
    "intersection_set"
   ]
  },
  {
   "cell_type": "code",
   "execution_count": 22,
   "id": "13cccb42-8362-468e-99b0-8702ed100b15",
   "metadata": {
    "tags": []
   },
   "outputs": [
    {
     "data": {
      "text/plain": [
       "{1, 2, 3}"
      ]
     },
     "execution_count": 22,
     "metadata": {},
     "output_type": "execute_result"
    }
   ],
   "source": [
    "# difference of two sets\n",
    "difference_set = set_A - set_B\n",
    "difference_set"
   ]
  },
  {
   "cell_type": "code",
   "execution_count": 23,
   "id": "c81be3e0-81cc-432c-83c5-50f5a3444f56",
   "metadata": {
    "tags": []
   },
   "outputs": [
    {
     "data": {
      "text/plain": [
       "{1, 2, 3, 6, 7, 8}"
      ]
     },
     "execution_count": 23,
     "metadata": {},
     "output_type": "execute_result"
    }
   ],
   "source": [
    "# symmetric difference of two sets\n",
    "symmetric_difference_set = set_A ^ set_B\n",
    "symmetric_difference_set"
   ]
  },
  {
   "cell_type": "markdown",
   "id": "b4d90b2d-8e94-4507-acbe-c95b6c50609d",
   "metadata": {},
   "source": [
    "> The union of"
   ]
  },
  {
   "cell_type": "code",
   "execution_count": 24,
   "id": "bf144279-0ed4-4109-8e66-31c0ff15cbcc",
   "metadata": {
    "tags": []
   },
   "outputs": [
    {
     "data": {
      "text/plain": [
       "{1, 2, 3, 4, 5, 6, 7, 8}"
      ]
     },
     "execution_count": 24,
     "metadata": {},
     "output_type": "execute_result"
    }
   ],
   "source": [
    "# union of two sets using union() method\n",
    "union_using_method = set_A.union(set_B)\n",
    "union_using_method"
   ]
  },
  {
   "cell_type": "code",
   "execution_count": 25,
   "id": "b67343b0-72e3-4ba6-9e92-27f256bb0c46",
   "metadata": {
    "tags": []
   },
   "outputs": [
    {
     "data": {
      "text/plain": [
       "{4, 5}"
      ]
     },
     "execution_count": 25,
     "metadata": {},
     "output_type": "execute_result"
    }
   ],
   "source": [
    "# intersection of two sets using intersection() method\n",
    "intersection_using_method = set_A.intersection(set_B)\n",
    "intersection_using_method"
   ]
  },
  {
   "cell_type": "code",
   "execution_count": 26,
   "id": "6850ba26-3410-450f-a40d-912ee1acd25a",
   "metadata": {
    "tags": []
   },
   "outputs": [
    {
     "data": {
      "text/plain": [
       "{1, 2, 3}"
      ]
     },
     "execution_count": 26,
     "metadata": {},
     "output_type": "execute_result"
    }
   ],
   "source": [
    "# difference of two sets using difference() method\n",
    "difference_using_method = set_A.difference(set_B)\n",
    "difference_using_method"
   ]
  },
  {
   "cell_type": "code",
   "execution_count": 27,
   "id": "ba43f88b-efd0-4e27-bb84-5ac79d10ad8b",
   "metadata": {
    "tags": []
   },
   "outputs": [
    {
     "data": {
      "text/plain": [
       "{1, 2, 3, 6, 7, 8}"
      ]
     },
     "execution_count": 27,
     "metadata": {},
     "output_type": "execute_result"
    }
   ],
   "source": [
    "# symetric difference of two sets using difference() method\n",
    "symmetric_diff_using_method = set_A.symmetric_difference(set_B)\n",
    "symmetric_diff_using_method"
   ]
  },
  {
   "cell_type": "markdown",
   "id": "6376b361-92f7-449d-beff-145836bf5675",
   "metadata": {},
   "source": [
    "> ### Dictionary\n",
    "> A dictionary in Python is an unordered collection of items. It is a mutable data type that stores mappings of unique keys to values.\n",
    ">\n",
    "> Dictionaries are defined by enclosing a comma-separated sequence of key-value pairs in curly braces `{}`, with a colon `:` separating the keys and values."
   ]
  },
  {
   "cell_type": "code",
   "execution_count": 28,
   "id": "fe4c6b83-6f3e-45b2-99ab-2493af8ecac8",
   "metadata": {
    "tags": []
   },
   "outputs": [],
   "source": [
    "# creating a dictionary\n",
    "sample_dict = {'name' : 'Jhon',\n",
    "               'age' : 30,\n",
    "               'city' : 'New York'}"
   ]
  },
  {
   "cell_type": "code",
   "execution_count": 29,
   "id": "54f4b685-dc61-407b-be71-1992babdf8ab",
   "metadata": {
    "tags": []
   },
   "outputs": [
    {
     "name": "stdout",
     "output_type": "stream",
     "text": [
      "{'name': 'Jhon', 'age': 30, 'city': 'New York'}\n"
     ]
    },
    {
     "data": {
      "text/plain": [
       "3"
      ]
     },
     "execution_count": 29,
     "metadata": {},
     "output_type": "execute_result"
    }
   ],
   "source": [
    "# check dictionary\n",
    "print(sample_dict)\n",
    "len(sample_dict)"
   ]
  },
  {
   "cell_type": "markdown",
   "id": "fb2aff72-72a5-4931-ad8e-b776141bcf4c",
   "metadata": {
    "tags": []
   },
   "source": [
    "> ### Accessing\n",
    "> You can access the items of a dictionary by refering to its key name inside square brackets `[]`, or using the `get()` method.\n",
    ">\n",
    "> You can also add new items to a dictionary by using a new index key and assigning a value to it.\n",
    ">\n",
    "> To remove items, you can use the `pop()` method, `popitem()` method, or the `del` keyword."
   ]
  },
  {
   "cell_type": "code",
   "execution_count": 30,
   "id": "d8f1e40f-6752-4810-acc0-00734220be1d",
   "metadata": {
    "tags": []
   },
   "outputs": [],
   "source": [
    "# accessing items using key name\n",
    "name = sample_dict['name']"
   ]
  },
  {
   "cell_type": "code",
   "execution_count": 31,
   "id": "518e628b-9d65-4b93-86cb-60aae72fa8de",
   "metadata": {
    "tags": []
   },
   "outputs": [],
   "source": [
    "# accessing items using get() method\n",
    "age = sample_dict.get('age')"
   ]
  },
  {
   "cell_type": "code",
   "execution_count": 32,
   "id": "00c5a2a7-3dfb-478e-8f62-b03c0ec761d4",
   "metadata": {
    "tags": []
   },
   "outputs": [
    {
     "name": "stdout",
     "output_type": "stream",
     "text": [
      "Jhon 30\n"
     ]
    }
   ],
   "source": [
    "# printing name and age\n",
    "print(name, age)"
   ]
  },
  {
   "cell_type": "code",
   "execution_count": 33,
   "id": "1732ca36-4065-4e3e-a674-884c0b0a9c44",
   "metadata": {
    "tags": []
   },
   "outputs": [
    {
     "data": {
      "text/plain": [
       "{'name': 'Jhon', 'age': 35, 'city': 'New York'}"
      ]
     },
     "execution_count": 33,
     "metadata": {},
     "output_type": "execute_result"
    }
   ],
   "source": [
    "# changing the value of the 'age' key\n",
    "sample_dict['age'] = 35\n",
    "sample_dict"
   ]
  },
  {
   "cell_type": "code",
   "execution_count": 34,
   "id": "a2f11486-31e2-4f90-b488-260564ef4c1f",
   "metadata": {
    "tags": []
   },
   "outputs": [
    {
     "data": {
      "text/plain": [
       "{'name': 'Lennon', 'age': 35, 'city': 'New York'}"
      ]
     },
     "execution_count": 34,
     "metadata": {},
     "output_type": "execute_result"
    }
   ],
   "source": [
    "# changing the value of the 'name' key\n",
    "sample_dict['name'] = 'Lennon'\n",
    "sample_dict"
   ]
  },
  {
   "cell_type": "code",
   "execution_count": 35,
   "id": "3064e07a-7966-4a85-b77c-16a4f67a1b60",
   "metadata": {
    "tags": []
   },
   "outputs": [
    {
     "data": {
      "text/plain": [
       "{'name': 'Lennon', 'age': 35, 'city': 'New York', 'country': 'USA'}"
      ]
     },
     "execution_count": 35,
     "metadata": {},
     "output_type": "execute_result"
    }
   ],
   "source": [
    "# adding a new item to the dictionary\n",
    "sample_dict['country'] = 'USA'\n",
    "sample_dict"
   ]
  },
  {
   "cell_type": "code",
   "execution_count": 36,
   "id": "34076c35-5d38-4729-86e3-95545887e2da",
   "metadata": {
    "tags": []
   },
   "outputs": [
    {
     "data": {
      "text/plain": [
       "'New York'"
      ]
     },
     "execution_count": 36,
     "metadata": {},
     "output_type": "execute_result"
    }
   ],
   "source": [
    "# removing an item using pop()\n",
    "removed_city = sample_dict.pop('city')\n",
    "removed_city"
   ]
  },
  {
   "cell_type": "code",
   "execution_count": 37,
   "id": "011f6ee0-0a34-4538-b3f0-502469444abe",
   "metadata": {
    "tags": []
   },
   "outputs": [
    {
     "data": {
      "text/plain": [
       "('country', 'USA')"
      ]
     },
     "execution_count": 37,
     "metadata": {},
     "output_type": "execute_result"
    }
   ],
   "source": [
    "# removing the last intersed item using popitem()\n",
    "removed_item = sample_dict.popitem()\n",
    "removed_item"
   ]
  },
  {
   "cell_type": "code",
   "execution_count": 38,
   "id": "ebf6f1b9-0efd-4865-9926-ab668f1ee2b1",
   "metadata": {
    "tags": []
   },
   "outputs": [
    {
     "data": {
      "text/plain": [
       "{'name': 'Lennon'}"
      ]
     },
     "execution_count": 38,
     "metadata": {},
     "output_type": "execute_result"
    }
   ],
   "source": [
    "# removing an item using del\n",
    "del sample_dict['age']\n",
    "sample_dict"
   ]
  },
  {
   "cell_type": "markdown",
   "id": "07bc8c3b-838b-46fa-9369-c2c92e858141",
   "metadata": {},
   "source": [
    "> ### Dictionary Metod\n",
    "> Python provides a variety of methods that can be used with dictionaries.\n",
    ">\n",
    "> Some commonly used methods include `clear()`, `copy()`, `keys()`, `values()`, and `items()`.\n",
    ">\n",
    "> Let's see examples of [these methods.](https://www.w3schools.com/python/python_sets_methods.asp)"
   ]
  },
  {
   "cell_type": "code",
   "execution_count": 39,
   "id": "d9e3cabf-7c4c-436e-abc9-4bbae872c923",
   "metadata": {},
   "outputs": [],
   "source": [
    "# reinitializing the sample_dict\n",
    "sample_dict = { 'name' : 'Jhon',\n",
    "               'age' : 35,\n",
    "               'city' : 'New York'}"
   ]
  },
  {
   "cell_type": "code",
   "execution_count": 40,
   "id": "1d62913c-33e5-4b27-beb0-379a4072aebe",
   "metadata": {
    "tags": []
   },
   "outputs": [
    {
     "data": {
      "text/plain": [
       "{'name': 'Jhon', 'age': 35, 'city': 'New York'}"
      ]
     },
     "execution_count": 40,
     "metadata": {},
     "output_type": "execute_result"
    }
   ],
   "source": [
    "# using the copy() method to create a copy of the dictionary\n",
    "copied_dict = sample_dict.copy()\n",
    "copied_dict"
   ]
  },
  {
   "cell_type": "code",
   "execution_count": 41,
   "id": "1db1b18d-c02e-4135-8b83-f611f181c51f",
   "metadata": {
    "tags": []
   },
   "outputs": [
    {
     "data": {
      "text/plain": [
       "dict_keys(['name', 'age', 'city'])"
      ]
     },
     "execution_count": 41,
     "metadata": {},
     "output_type": "execute_result"
    }
   ],
   "source": [
    "# using the keys() method to gget all the keys of the dictionary\n",
    "dict_keys = sample_dict.keys()\n",
    "dict_keys"
   ]
  },
  {
   "cell_type": "code",
   "execution_count": 42,
   "id": "a2eab594-557d-4197-bfe0-6a18850567c1",
   "metadata": {
    "tags": []
   },
   "outputs": [
    {
     "data": {
      "text/plain": [
       "dict_values(['Jhon', 35, 'New York'])"
      ]
     },
     "execution_count": 42,
     "metadata": {},
     "output_type": "execute_result"
    }
   ],
   "source": [
    "# using the values() method to get all the values of the dictionary\n",
    "dict_values = sample_dict.values()\n",
    "dict_values"
   ]
  },
  {
   "cell_type": "code",
   "execution_count": 43,
   "id": "fc619ce1-a15c-4a9b-8af6-e78ab4ca39cb",
   "metadata": {
    "tags": []
   },
   "outputs": [
    {
     "data": {
      "text/plain": [
       "dict_items([('name', 'Jhon'), ('age', 35), ('city', 'New York')])"
      ]
     },
     "execution_count": 43,
     "metadata": {},
     "output_type": "execute_result"
    }
   ],
   "source": [
    "# using the items() method to get all the items of the dictionary\n",
    "dict_items = sample_dict.items()\n",
    "dict_items"
   ]
  },
  {
   "cell_type": "code",
   "execution_count": 44,
   "id": "752a1308-6363-412c-a54e-18fc47cd3758",
   "metadata": {
    "tags": []
   },
   "outputs": [
    {
     "data": {
      "text/plain": [
       "{}"
      ]
     },
     "execution_count": 44,
     "metadata": {},
     "output_type": "execute_result"
    }
   ],
   "source": [
    "# using the clear() method to remove all items from the dictionary\n",
    "sample_dict.clear()\n",
    "sample_dict"
   ]
  },
  {
   "cell_type": "markdown",
   "id": "91478f38-4e61-4a29-aa61-5c4d8d79cda5",
   "metadata": {},
   "source": [
    "> ### Membership Check\n",
    "> You can check if a key is in a dictionary by using the `in` keyword."
   ]
  },
  {
   "cell_type": "code",
   "execution_count": 45,
   "id": "e79dd759-f8a9-46f2-8d42-94b31f1c1679",
   "metadata": {
    "tags": []
   },
   "outputs": [
    {
     "data": {
      "text/plain": [
       "(True, False)"
      ]
     },
     "execution_count": 45,
     "metadata": {},
     "output_type": "execute_result"
    }
   ],
   "source": [
    "# checking if 'name' is in the dictionary\n",
    "is_name_in_dict = 'name' in copied_dict\n",
    "\n",
    "# checking if 'address' is in the dictionary\n",
    "is_address_in_dict = 'address' in copied_dict\n",
    "\n",
    "is_name_in_dict, is_address_in_dict"
   ]
  },
  {
   "cell_type": "markdown",
   "id": "779d7a83-d107-414c-ba5f-941afddc02aa",
   "metadata": {},
   "source": [
    "> ### References\n",
    "> 1. https://docs.python.org/3/tutorial/datastructures.html\n",
    "> 2. https://www.geeksforgeeks.org/python-set-3-strings-lists-tuples-iterations/?ref=lbp\n",
    "> 3. https://realpython.com/python-sets/\n",
    "> 4. https://www.w3schools.com/python/python_sets_methods.asp"
   ]
  }
 ],
 "metadata": {
  "kernelspec": {
   "display_name": "Python 3 (ipykernel)",
   "language": "python",
   "name": "python3"
  },
  "language_info": {
   "codemirror_mode": {
    "name": "ipython",
    "version": 3
   },
   "file_extension": ".py",
   "mimetype": "text/x-python",
   "name": "python",
   "nbconvert_exporter": "python",
   "pygments_lexer": "ipython3",
   "version": "3.11.4"
  }
 },
 "nbformat": 4,
 "nbformat_minor": 5
}
