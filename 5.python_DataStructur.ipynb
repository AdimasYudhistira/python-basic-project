{
 "cells": [
  {
   "cell_type": "markdown",
   "id": "7dfd2f8e-1546-479a-843e-cfa6fef7748c",
   "metadata": {},
   "source": [
    "## DATA STRUCTUR - LIST"
   ]
  },
  {
   "cell_type": "markdown",
   "id": "1c91a9d1-c20c-4df2-bcaa-540ca09f139c",
   "metadata": {},
   "source": [
    "Python lists can store an ordered collection of items, or elements, of varying types. They are often used to compile multiple items into a single, mutable variable, which is helpful for retrieving items, specifying outputs or performing calculations quickly. Lists are also a type of built-in data structure in Python (along with tuples, sets and dictionaries), which is a specified way of storing and formatting data."
   ]
  },
  {
   "cell_type": "code",
   "execution_count": 1,
   "id": "1e24a5e4-1703-4e7c-b13d-981b352076f9",
   "metadata": {
    "tags": []
   },
   "outputs": [
    {
     "data": {
      "text/plain": [
       "[1, 2, 3, 4, 5]"
      ]
     },
     "execution_count": 1,
     "metadata": {},
     "output_type": "execute_result"
    }
   ],
   "source": [
    "# create a list of int\n",
    "int_list = [1,2,3,4,5]\n",
    "int_list"
   ]
  },
  {
   "cell_type": "code",
   "execution_count": 2,
   "id": "4ad4f615-5b27-4e53-aada-cf1b24e4cba2",
   "metadata": {
    "tags": []
   },
   "outputs": [
    {
     "data": {
      "text/plain": [
       "['apple', 'banana', 'cherry']"
      ]
     },
     "execution_count": 2,
     "metadata": {},
     "output_type": "execute_result"
    }
   ],
   "source": [
    "# create list of string\n",
    "string_list = ['apple','banana','cherry']\n",
    "string_list"
   ]
  },
  {
   "cell_type": "markdown",
   "id": "cc68e5ad-25b6-45a9-9535-398b4d993190",
   "metadata": {},
   "source": [
    ">### Access Values in list\n",
    ">\n",
    ">Each item in a list has an assigned index value. It’s important to note that Python is a zero-indexed based language. All this means is that the first item in the list starts at index 0 and ascends accordingly. "
   ]
  },
  {
   "cell_type": "code",
   "execution_count": 3,
   "id": "bdcec18f-dfaa-4feb-822f-a22ca26c9e42",
   "metadata": {
    "tags": []
   },
   "outputs": [
    {
     "data": {
      "text/plain": [
       "5"
      ]
     },
     "execution_count": 3,
     "metadata": {},
     "output_type": "execute_result"
    }
   ],
   "source": [
    "# get the length of the list with len\n",
    "len(int_list)"
   ]
  },
  {
   "cell_type": "code",
   "execution_count": 4,
   "id": "c7a29813-3d5d-4e85-b529-bf80ffce14f4",
   "metadata": {
    "tags": []
   },
   "outputs": [
    {
     "data": {
      "text/plain": [
       "'apple'"
      ]
     },
     "execution_count": 4,
     "metadata": {},
     "output_type": "execute_result"
    }
   ],
   "source": [
    "# accessing of the first element of te list\n",
    "first_element = string_list[0]\n",
    "first_element"
   ]
  },
  {
   "cell_type": "code",
   "execution_count": 5,
   "id": "12212bd9-9bdc-4bd5-b797-71022612ee75",
   "metadata": {
    "tags": []
   },
   "outputs": [
    {
     "data": {
      "text/plain": [
       "'cherry'"
      ]
     },
     "execution_count": 5,
     "metadata": {},
     "output_type": "execute_result"
    }
   ],
   "source": [
    "string_list[2]"
   ]
  },
  {
   "cell_type": "code",
   "execution_count": 6,
   "id": "2df39aac-9cbd-46ca-b7b2-50b7d563aec0",
   "metadata": {
    "tags": []
   },
   "outputs": [
    {
     "data": {
      "text/plain": [
       "'cherry'"
      ]
     },
     "execution_count": 6,
     "metadata": {},
     "output_type": "execute_result"
    }
   ],
   "source": [
    "# accessing using negative index\n",
    "last_element = string_list[-1]\n",
    "last_element"
   ]
  },
  {
   "cell_type": "code",
   "execution_count": 7,
   "id": "42e5c0a1-e757-4ec5-bac4-f15133776a2a",
   "metadata": {
    "tags": []
   },
   "outputs": [
    {
     "data": {
      "text/plain": [
       "'banana'"
      ]
     },
     "execution_count": 7,
     "metadata": {},
     "output_type": "execute_result"
    }
   ],
   "source": [
    "string_list[-2]"
   ]
  },
  {
   "cell_type": "markdown",
   "id": "07eef841-119c-4aab-8a44-b11b32c00803",
   "metadata": {},
   "source": [
    ">### CHECK\n",
    ">\n",
    ">To determine if a specified item is present in a list use the in keyword"
   ]
  },
  {
   "cell_type": "code",
   "execution_count": 8,
   "id": "2aea8e10-2e80-41d7-8d79-dd61991afa64",
   "metadata": {},
   "outputs": [
    {
     "data": {
      "text/plain": [
       "(True, False)"
      ]
     },
     "execution_count": 8,
     "metadata": {},
     "output_type": "execute_result"
    }
   ],
   "source": [
    "# check if 'apple' is present in the fruit ist\n",
    "is_apple_present = 'apple' in string_list\n",
    "\n",
    "# check if 'orange' is present in the fruit ist\n",
    "is_orange_present = 'orange' in string_list\n",
    "\n",
    "is_apple_present, is_orange_present"
   ]
  },
  {
   "cell_type": "markdown",
   "id": "bf985f3e-b92b-4ddd-a03a-160a3ac71b99",
   "metadata": {},
   "source": [
    ">### SLICING"
   ]
  },
  {
   "cell_type": "code",
   "execution_count": 9,
   "id": "36bbdadd-3990-49e1-9442-69c23d670b50",
   "metadata": {
    "tags": []
   },
   "outputs": [
    {
     "data": {
      "text/plain": [
       "['apple', 'banana', 'cherry']"
      ]
     },
     "execution_count": 9,
     "metadata": {},
     "output_type": "execute_result"
    }
   ],
   "source": [
    "string_list"
   ]
  },
  {
   "cell_type": "code",
   "execution_count": 10,
   "id": "881ded70-73d3-488a-9edf-50091d0b9985",
   "metadata": {
    "tags": []
   },
   "outputs": [
    {
     "data": {
      "text/plain": [
       "['apple']"
      ]
     },
     "execution_count": 10,
     "metadata": {},
     "output_type": "execute_result"
    }
   ],
   "source": [
    "# Slicing from the second to the fourth elemnt\n",
    "sliced_list = string_list[0:1]\n",
    "sliced_list"
   ]
  },
  {
   "cell_type": "markdown",
   "id": "fe8de771-db92-44a9-9239-70a32e9c0ab7",
   "metadata": {},
   "source": [
    ">### ADDING ELEMENT\n",
    ">\n",
    ">To add an item to the end of the list"
   ]
  },
  {
   "cell_type": "code",
   "execution_count": 11,
   "id": "ec05845e-879b-45ae-9a59-0ba0416b2b2f",
   "metadata": {
    "tags": []
   },
   "outputs": [
    {
     "data": {
      "text/plain": [
       "['apple', 'banana', 'cherry', 'orange']"
      ]
     },
     "execution_count": 11,
     "metadata": {},
     "output_type": "execute_result"
    }
   ],
   "source": [
    "# using the append() method to add a single item to the list\n",
    "string_list.append('orange')\n",
    "string_list"
   ]
  },
  {
   "cell_type": "code",
   "execution_count": 12,
   "id": "ce390a8c-5ef8-4bf8-99f6-3c796f09084d",
   "metadata": {
    "tags": []
   },
   "outputs": [
    {
     "data": {
      "text/plain": [
       "['apple', 'banana', 'cherry', 'orange', 'grape', 'pineapple']"
      ]
     },
     "execution_count": 12,
     "metadata": {},
     "output_type": "execute_result"
    }
   ],
   "source": [
    "# using the extend() method to add a multiple item to the list\n",
    "string_list.extend(['grape','pineapple'])\n",
    "string_list"
   ]
  },
  {
   "cell_type": "code",
   "execution_count": 13,
   "id": "a2b8bef4-dd0c-48af-a1c9-486ddbc1a809",
   "metadata": {
    "tags": []
   },
   "outputs": [
    {
     "data": {
      "text/plain": [
       "['apple', 'banana', 'watermelon', 'cherry', 'orange', 'grape', 'pineapple']"
      ]
     },
     "execution_count": 13,
     "metadata": {},
     "output_type": "execute_result"
    }
   ],
   "source": [
    "# using insert() method to add items into the list\n",
    "string_list.insert(2,\"watermelon\")\n",
    "string_list"
   ]
  },
  {
   "cell_type": "markdown",
   "id": "8c1e8a55-21cc-45d2-b515-39598ee257b0",
   "metadata": {},
   "source": [
    ">### CHANGE ITEMS & REMOVE\n",
    ">\n",
    ">To change & remove the value of a specific item, refer to the index number"
   ]
  },
  {
   "cell_type": "code",
   "execution_count": 14,
   "id": "532de288-eb4a-493f-92ea-69132666fcca",
   "metadata": {
    "tags": []
   },
   "outputs": [
    {
     "data": {
      "text/plain": [
       "['apple', 'blueberry', 'watermelon', 'cherry', 'orange', 'grape', 'pineapple']"
      ]
     },
     "execution_count": 14,
     "metadata": {},
     "output_type": "execute_result"
    }
   ],
   "source": [
    "# Changing the second item in the list\n",
    "string_list[1]='blueberry'\n",
    "string_list"
   ]
  },
  {
   "cell_type": "code",
   "execution_count": 15,
   "id": "04910a10-f910-409f-aca4-8f320bc5d8f2",
   "metadata": {
    "tags": []
   },
   "outputs": [
    {
     "data": {
      "text/plain": [
       "['apple', 'watermelon', 'cherry', 'orange', 'grape', 'pineapple']"
      ]
     },
     "execution_count": 15,
     "metadata": {},
     "output_type": "execute_result"
    }
   ],
   "source": [
    "# using the remove() method to remove a specified item\n",
    "string_list.remove('blueberry')\n",
    "string_list"
   ]
  },
  {
   "cell_type": "code",
   "execution_count": 16,
   "id": "abe3d091-6b0b-4366-94ab-d0bc24585e6a",
   "metadata": {
    "tags": []
   },
   "outputs": [
    {
     "data": {
      "text/plain": [
       "('pineapple', ['apple', 'watermelon', 'cherry', 'orange', 'grape'])"
      ]
     },
     "execution_count": 16,
     "metadata": {},
     "output_type": "execute_result"
    }
   ],
   "source": [
    "# using the pop() method to remove an item by index (removing the last item in this case)\n",
    "popped_item = string_list.pop()\n",
    "popped_item, string_list"
   ]
  },
  {
   "cell_type": "markdown",
   "id": "c132d24b-71cb-4594-81a7-32cdc26c0adb",
   "metadata": {},
   "source": [
    ">### LIST METHOD\n",
    ">\n",
    ">Python has a set of built-in methods that you can use on lists."
   ]
  },
  {
   "cell_type": "code",
   "execution_count": 17,
   "id": "8af196e5-e095-4ec6-9afa-9a70af810fcb",
   "metadata": {
    "tags": []
   },
   "outputs": [],
   "source": [
    "# demonstrating some commonly used list methods\n",
    "sample_list = [1,2,3,6,5,4,7,8,2,3,1,8,4,9,10]"
   ]
  },
  {
   "cell_type": "code",
   "execution_count": 18,
   "id": "079fffc7-0f6c-440e-b26f-a1cfc838c4c8",
   "metadata": {
    "tags": []
   },
   "outputs": [
    {
     "data": {
      "text/plain": [
       "[1, 2, 3, 6, 5, 4, 7, 8, 2, 3, 1, 8, 4, 9, 10]"
      ]
     },
     "execution_count": 18,
     "metadata": {},
     "output_type": "execute_result"
    }
   ],
   "source": [
    "sample_list2 = sample_list.copy()\n",
    "sample_list2"
   ]
  },
  {
   "cell_type": "code",
   "execution_count": 19,
   "id": "39caeb1f-7aec-4d17-8bdb-97d50201aea8",
   "metadata": {
    "tags": []
   },
   "outputs": [
    {
     "data": {
      "text/plain": [
       "(1, 13)"
      ]
     },
     "execution_count": 19,
     "metadata": {},
     "output_type": "execute_result"
    }
   ],
   "source": [
    "# count method\n",
    "count_of_5 = sample_list.count(5)\n",
    "\n",
    "# index method\n",
    "index_of_9 = sample_list.index(9)\n",
    "count_of_5,index_of_9"
   ]
  },
  {
   "cell_type": "code",
   "execution_count": 20,
   "id": "68d97296-af67-4e40-baf4-20bc861e46cc",
   "metadata": {
    "tags": []
   },
   "outputs": [
    {
     "data": {
      "text/plain": [
       "[10, 9, 4, 8, 1, 3, 2, 8, 7, 4, 5, 6, 3, 2, 1]"
      ]
     },
     "execution_count": 20,
     "metadata": {},
     "output_type": "execute_result"
    }
   ],
   "source": [
    "# reverse method\n",
    "sample_list.reverse()\n",
    "sample_list"
   ]
  },
  {
   "cell_type": "code",
   "execution_count": 21,
   "id": "7a846202-60e0-4afb-8178-41037759a2df",
   "metadata": {
    "tags": []
   },
   "outputs": [
    {
     "data": {
      "text/plain": [
       "[1, 1, 2, 2, 3, 3, 4, 4, 5, 6, 7, 8, 8, 9, 10]"
      ]
     },
     "execution_count": 21,
     "metadata": {},
     "output_type": "execute_result"
    }
   ],
   "source": [
    "# sort method\n",
    "sample_list.sort()\n",
    "sample_list"
   ]
  },
  {
   "cell_type": "code",
   "execution_count": 22,
   "id": "4455ddd8-78f6-4825-833f-2dcc9b42836e",
   "metadata": {
    "tags": []
   },
   "outputs": [
    {
     "data": {
      "text/plain": [
       "[]"
      ]
     },
     "execution_count": 22,
     "metadata": {},
     "output_type": "execute_result"
    }
   ],
   "source": [
    "# clear method\n",
    "sample_list.clear()\n",
    "sample_list"
   ]
  },
  {
   "cell_type": "markdown",
   "id": "dac389fa-f3c3-4bfd-a49a-5f8d2e23e008",
   "metadata": {
    "tags": []
   },
   "source": [
    "## REFERENCE\n",
    "1. https://builtin.com/data-science/python-list\n",
    "2. https://www.w3schools.com/python/python_lists_methods.asp"
   ]
  }
 ],
 "metadata": {
  "kernelspec": {
   "display_name": "Python 3 (ipykernel)",
   "language": "python",
   "name": "python3"
  },
  "language_info": {
   "codemirror_mode": {
    "name": "ipython",
    "version": 3
   },
   "file_extension": ".py",
   "mimetype": "text/x-python",
   "name": "python",
   "nbconvert_exporter": "python",
   "pygments_lexer": "ipython3",
   "version": "3.11.4"
  }
 },
 "nbformat": 4,
 "nbformat_minor": 5
}
