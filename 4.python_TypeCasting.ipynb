{
 "cells": [
  {
   "cell_type": "markdown",
   "id": "26c4bcf4-444a-4391-8422-065f6932fbd8",
   "metadata": {},
   "source": [
    "## TYPE CONVERSION (CASTING)"
   ]
  },
  {
   "cell_type": "markdown",
   "id": "055dee69-bc19-4e0d-9fd7-3c37d4dfc6ce",
   "metadata": {},
   "source": [
    "Python defines type conversion functions to directly convert one data type to another which is useful in day-to-day and competitive programming.\n",
    "\n",
    "There are two types of Type Conversion in Python:\n",
    "\n",
    "1. Python Implicit Type Conversion\n",
    "2. Python Explicit Type Conversion"
   ]
  },
  {
   "cell_type": "markdown",
   "id": "689288a5-67bc-41bf-a6c2-cfbfa20e1b07",
   "metadata": {},
   "source": [
    "### Implicit Type\n",
    "\n",
    "In Implicit type conversion of data types in Python, the Python interpreter automatically converts one data type to another without any user involvement. "
   ]
  },
  {
   "cell_type": "code",
   "execution_count": 1,
   "id": "4a17ebe3-59ec-4b12-825a-fe1bfa31bc8d",
   "metadata": {
    "tags": []
   },
   "outputs": [],
   "source": [
    "# implicit type conversion\n",
    "x= 10\n",
    "y= 10.6\n",
    "z= \"this is z\""
   ]
  },
  {
   "cell_type": "code",
   "execution_count": 2,
   "id": "4bc49273-c1b8-4756-a971-74c2881b7d77",
   "metadata": {
    "tags": []
   },
   "outputs": [
    {
     "name": "stdout",
     "output_type": "stream",
     "text": [
      "x is of type: <class 'int'>\n",
      "x is of type: <class 'float'>\n",
      "x is of type: <class 'str'>\n"
     ]
    }
   ],
   "source": [
    "# type result\n",
    "print(\"x is of type:\",type(x))\n",
    "print(\"x is of type:\",type(y))\n",
    "print(\"x is of type:\",type(z))"
   ]
  },
  {
   "cell_type": "markdown",
   "id": "e0525d42-fadd-40c5-9ee9-ca5cb5db6afe",
   "metadata": {},
   "source": [
    "### Explicit Type\n",
    "\n",
    "In Explicit Type Conversion in Python, the data type is manually changed by the user as per their requirement. With explicit type conversion, there is a risk of data loss since we are forcing an expression to be changed in some specific data type.\n",
    "\n",
    "Casting in python is therefore done using constructor functions:\n",
    "\n",
    "1. int() - integer\n",
    "2. float() - float\n",
    "3. str() - string\n",
    "4. list()\n",
    "5. tuple()\n",
    "6. set()\n",
    "7. dict() - dictionary"
   ]
  },
  {
   "cell_type": "code",
   "execution_count": 13,
   "id": "f644c1ac-4194-4507-92e9-62cec8045f39",
   "metadata": {
    "tags": []
   },
   "outputs": [
    {
     "data": {
      "text/plain": [
       "12"
      ]
     },
     "execution_count": 13,
     "metadata": {},
     "output_type": "execute_result"
    }
   ],
   "source": [
    "# converting a float to an integer\n",
    "float_num = 12.34\n",
    "int_num = int(float_num)\n",
    "int_num"
   ]
  },
  {
   "cell_type": "code",
   "execution_count": 5,
   "id": "bdb67c96-9673-473a-b038-7af8c0be0ddd",
   "metadata": {
    "tags": []
   },
   "outputs": [
    {
     "data": {
      "text/plain": [
       "123"
      ]
     },
     "execution_count": 5,
     "metadata": {},
     "output_type": "execute_result"
    }
   ],
   "source": [
    "# converting a string representing an integer to an integer\n",
    "string_num = '123'\n",
    "int_from_string = int(string_num)\n",
    "int_from_string"
   ]
  },
  {
   "cell_type": "code",
   "execution_count": 6,
   "id": "f6fb2c62-7c5f-421b-89ee-8e00e876a804",
   "metadata": {
    "tags": []
   },
   "outputs": [
    {
     "data": {
      "text/plain": [
       "123.0"
      ]
     },
     "execution_count": 6,
     "metadata": {},
     "output_type": "execute_result"
    }
   ],
   "source": [
    "# converting an integer to a float\n",
    "integer_num = 123\n",
    "float_from_int = float(integer_num)\n",
    "float_from_int"
   ]
  },
  {
   "cell_type": "code",
   "execution_count": 7,
   "id": "cc25e347-14ce-410b-b4a7-ca9a5551fac0",
   "metadata": {
    "tags": []
   },
   "outputs": [
    {
     "data": {
      "text/plain": [
       "123.45"
      ]
     },
     "execution_count": 7,
     "metadata": {},
     "output_type": "execute_result"
    }
   ],
   "source": [
    "# converting a string representing a float to a float\n",
    "string_float = '123.45'\n",
    "float_from_string = float(string_float)\n",
    "float_from_string"
   ]
  },
  {
   "cell_type": "code",
   "execution_count": 11,
   "id": "3b669038-d78e-48be-aeee-1e0e4b13cf47",
   "metadata": {
    "tags": []
   },
   "outputs": [
    {
     "data": {
      "text/plain": [
       "'456'"
      ]
     },
     "execution_count": 11,
     "metadata": {},
     "output_type": "execute_result"
    }
   ],
   "source": [
    "# converting an integer to a string\n",
    "integer_val = 456\n",
    "string_from_int = str(integer_val)\n",
    "string_from_int"
   ]
  },
  {
   "cell_type": "code",
   "execution_count": 12,
   "id": "47329152-6529-4118-a005-dae46b152e48",
   "metadata": {
    "tags": []
   },
   "outputs": [
    {
     "data": {
      "text/plain": [
       "\"['one', 'two', 'three']\""
      ]
     },
     "execution_count": 12,
     "metadata": {},
     "output_type": "execute_result"
    }
   ],
   "source": [
    "# converting a list to a string\n",
    "list_val = [\"one\",\"two\",\"three\"]\n",
    "string_from_list = str(list_val)\n",
    "string_from_list"
   ]
  },
  {
   "cell_type": "code",
   "execution_count": 1,
   "id": "9f393408-5f2c-4f91-9a34-aa2da5b9d2e3",
   "metadata": {},
   "outputs": [
    {
     "data": {
      "text/plain": [
       "['h', 'e', 'l', 'l', 'o', ' ', 'w', 'o', 'r', 'l', 'd']"
      ]
     },
     "execution_count": 1,
     "metadata": {},
     "output_type": "execute_result"
    }
   ],
   "source": [
    "# converting a string to a list\n",
    "string_val = 'hello world'\n",
    "list_from_string = list(string_val)\n",
    "list_from_string"
   ]
  },
  {
   "cell_type": "code",
   "execution_count": 16,
   "id": "dc613be7-62b1-488b-97f9-90f917d238de",
   "metadata": {
    "tags": []
   },
   "outputs": [
    {
     "data": {
      "text/plain": [
       "['hello', 'world']"
      ]
     },
     "execution_count": 16,
     "metadata": {},
     "output_type": "execute_result"
    }
   ],
   "source": [
    "#converting a string to a list, without iterating the elements\n",
    "string_val1, string_val2 = \"hello\", \"world\"\n",
    "list_from_string1 = list([string_val1, string_val2])\n",
    "list_from_string1"
   ]
  },
  {
   "cell_type": "code",
   "execution_count": 15,
   "id": "5c7dc70e-6af3-485e-bd14-b78e3167cf28",
   "metadata": {
    "tags": []
   },
   "outputs": [
    {
     "data": {
      "text/plain": [
       "[1, 2, 3, 4, 5]"
      ]
     },
     "execution_count": 15,
     "metadata": {},
     "output_type": "execute_result"
    }
   ],
   "source": [
    "# converting tuple to a list\n",
    "tuple_val= (1,2,3,4,5)\n",
    "list_from_tuple = list(tuple_val)\n",
    "list_from_tuple"
   ]
  },
  {
   "cell_type": "code",
   "execution_count": 5,
   "id": "79adc81b-ebfc-4bea-ae85-42443b1692d8",
   "metadata": {
    "tags": []
   },
   "outputs": [
    {
     "data": {
      "text/plain": [
       "[1, 2, 3, 4, 5]"
      ]
     },
     "execution_count": 5,
     "metadata": {},
     "output_type": "execute_result"
    }
   ],
   "source": [
    "# converting a set to a list\n",
    "set_val = {1,2,3,4,5}\n",
    "list_from_set = list(set_val)\n",
    "list_from_set"
   ]
  },
  {
   "cell_type": "code",
   "execution_count": 6,
   "id": "68bdb304-f598-4da2-a85e-967ef8335111",
   "metadata": {
    "tags": []
   },
   "outputs": [
    {
     "data": {
      "text/plain": [
       "('hello', 'world')"
      ]
     },
     "execution_count": 6,
     "metadata": {},
     "output_type": "execute_result"
    }
   ],
   "source": [
    "# converting a string to a tuple, without iterating the element\n",
    "string_val1, string_val2 = \"hello\", \"world\"\n",
    "tuple_from_string1 = tuple([string_val1, string_val2])\n",
    "tuple_from_string1"
   ]
  },
  {
   "cell_type": "code",
   "execution_count": 7,
   "id": "78dfc216-8ba1-4229-b62d-2024fe67d865",
   "metadata": {
    "tags": []
   },
   "outputs": [
    {
     "data": {
      "text/plain": [
       "{1, 2, 3, 4, 5}"
      ]
     },
     "execution_count": 7,
     "metadata": {},
     "output_type": "execute_result"
    }
   ],
   "source": [
    "# converting a list with duplicate values to a set\n",
    "list_with_duplicates = [1,2,2,3,4,4,5]\n",
    "set_from_list = set(list_with_duplicates)\n",
    "set_from_list"
   ]
  },
  {
   "cell_type": "code",
   "execution_count": 8,
   "id": "dd502c03-3d46-4c55-aab6-e4e1f4c1f775",
   "metadata": {
    "tags": []
   },
   "outputs": [
    {
     "data": {
      "text/plain": [
       "{'hello', 'world'}"
      ]
     },
     "execution_count": 8,
     "metadata": {},
     "output_type": "execute_result"
    }
   ],
   "source": [
    "# converting a string to a set, without iterating the elements\n",
    "string_val1, string_val2 = \"hello\", \"world\"\n",
    "set_from_string1 = set([string_val1, string_val2])\n",
    "set_from_string1"
   ]
  },
  {
   "cell_type": "code",
   "execution_count": 10,
   "id": "29e28921-7fcc-427c-9509-f019e123e72a",
   "metadata": {
    "tags": []
   },
   "outputs": [
    {
     "data": {
      "text/plain": [
       "{'a': 1, 'b': 2, 'c': 3}"
      ]
     },
     "execution_count": 10,
     "metadata": {},
     "output_type": "execute_result"
    }
   ],
   "source": [
    "# converting a list of tuples to a dictionary\n",
    "list_of_tuples = [('a',1),('b',2),('c',3)]\n",
    "dict_from_list = dict(list_of_tuples)\n",
    "dict_from_list"
   ]
  },
  {
   "cell_type": "code",
   "execution_count": 12,
   "id": "fc227aa5-e067-479c-93f0-9e15d432fedf",
   "metadata": {
    "tags": []
   },
   "outputs": [
    {
     "data": {
      "text/plain": [
       "{'f': 6, 'e': 5, 'd': 4}"
      ]
     },
     "execution_count": 12,
     "metadata": {},
     "output_type": "execute_result"
    }
   ],
   "source": [
    "# converting a set of key value pairs to a dictionary\n",
    "set_of_pairs = {('d',4),('e',5),('f',6)}\n",
    "dict_from_set = dict(set_of_pairs)\n",
    "dict_from_set"
   ]
  },
  {
   "cell_type": "code",
   "execution_count": 13,
   "id": "7faad015-dfd4-47d7-b458-2484e7366303",
   "metadata": {
    "tags": []
   },
   "outputs": [
    {
     "data": {
      "text/plain": [
       "{'g': 7, 'h': 8, 'i': 9}"
      ]
     },
     "execution_count": 13,
     "metadata": {},
     "output_type": "execute_result"
    }
   ],
   "source": [
    "# converting two list (one for keys and one for values) to a dictionary using zip\n",
    "keys = ['g', 'h', 'i']\n",
    "values = [7,8,9]\n",
    "dict_from_zip = dict(zip(keys, values))\n",
    "dict_from_zip"
   ]
  },
  {
   "cell_type": "markdown",
   "id": "c4b48902-1425-4878-81b6-e3af4d79483c",
   "metadata": {},
   "source": [
    "## REFERENCE\n",
    "1. https://www.geeksforgeeks.org/type-conversion-in-python/\n",
    "2. https://www.w3schools.com/python/python_casting.asp\n",
    "3. https://www.pythontutorial.net/python-basics/python-type-conversion/"
   ]
  }
 ],
 "metadata": {
  "kernelspec": {
   "display_name": "Python 3 (ipykernel)",
   "language": "python",
   "name": "python3"
  },
  "language_info": {
   "codemirror_mode": {
    "name": "ipython",
    "version": 3
   },
   "file_extension": ".py",
   "mimetype": "text/x-python",
   "name": "python",
   "nbconvert_exporter": "python",
   "pygments_lexer": "ipython3",
   "version": "3.11.4"
  }
 },
 "nbformat": 4,
 "nbformat_minor": 5
}
