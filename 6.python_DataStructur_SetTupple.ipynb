{
 "cells": [
  {
   "cell_type": "markdown",
   "id": "ef454751-7924-41cd-ae69-4e215e007e63",
   "metadata": {
    "tags": []
   },
   "source": [
    "## TUPLE\n",
    "Tuples are used to store multiple items in a single variable. Tuple is one of 4 built-in data types in Python used to store collections of data, the other 3 are List, Set, and Dictionary, all with different qualities and usage. A tuple is a collection which is ordered and unchangeable. Tuples are written with round brackets."
   ]
  },
  {
   "cell_type": "code",
   "execution_count": 1,
   "id": "5bcf799f-149e-4177-a0f8-c8cef335db8b",
   "metadata": {
    "tags": []
   },
   "outputs": [],
   "source": [
    "# creating a tuple\n",
    "sample_tuple = (10,20,30,40,50)"
   ]
  },
  {
   "cell_type": "markdown",
   "id": "65c12578-b0e0-43d5-b924-a08ecf0fb27f",
   "metadata": {},
   "source": [
    ">### ACCESSING ELEMENT\n",
    ">\n",
    ">similar like accessing list"
   ]
  },
  {
   "cell_type": "code",
   "execution_count": 2,
   "id": "79a3763b-7041-4947-99f8-7d81c8d33a22",
   "metadata": {
    "tags": []
   },
   "outputs": [
    {
     "data": {
      "text/plain": [
       "10"
      ]
     },
     "execution_count": 2,
     "metadata": {},
     "output_type": "execute_result"
    }
   ],
   "source": [
    "# accessing the first element\n",
    "first_element = sample_tuple[0]\n",
    "first_element"
   ]
  },
  {
   "cell_type": "markdown",
   "id": "9833fc9f-df06-4cc7-a4fa-7867a250ccd0",
   "metadata": {},
   "source": [
    ">### Indexing and Slicing"
   ]
  },
  {
   "cell_type": "code",
   "execution_count": 3,
   "id": "7b6ea9de-8e01-4d6a-8b3d-c54418e554e3",
   "metadata": {
    "tags": []
   },
   "outputs": [
    {
     "data": {
      "text/plain": [
       "(50, (10, 20))"
      ]
     },
     "execution_count": 3,
     "metadata": {},
     "output_type": "execute_result"
    }
   ],
   "source": [
    "# accessing the last element using negative index\n",
    "negative_index = sample_tuple[-1]\n",
    "sliced_tuple = sample_tuple[0:2]\n",
    "negative_index,sliced_tuple"
   ]
  },
  {
   "cell_type": "markdown",
   "id": "b682e731-5525-4a38-9a1d-560bf6f429d3",
   "metadata": {},
   "source": [
    ">### Tuple Method\n",
    ">\n",
    ">Python has two built-in methods that you can use on tuples. count() and index()"
   ]
  },
  {
   "cell_type": "code",
   "execution_count": 4,
   "id": "292f9d56-2449-46ec-a1eb-6ff0abe8c60a",
   "metadata": {
    "tags": []
   },
   "outputs": [
    {
     "data": {
      "text/plain": [
       "(1, 3)"
      ]
     },
     "execution_count": 4,
     "metadata": {},
     "output_type": "execute_result"
    }
   ],
   "source": [
    "count_of_20 = sample_tuple.count(20)\n",
    "index_of_40 = sample_tuple.index(40)\n",
    "count_of_20, index_of_40                            "
   ]
  },
  {
   "cell_type": "markdown",
   "id": "3f7e6e35-9382-4789-a50f-aaac94894ad6",
   "metadata": {},
   "source": [
    ">### Check Items\n",
    ">\n",
    ">To determine if a specified item is present in a tuple use the in keyword"
   ]
  },
  {
   "cell_type": "code",
   "execution_count": 5,
   "id": "d0414c94-5642-43f4-b780-99796169bba1",
   "metadata": {
    "tags": []
   },
   "outputs": [
    {
     "data": {
      "text/plain": [
       "(True, False)"
      ]
     },
     "execution_count": 5,
     "metadata": {},
     "output_type": "execute_result"
    }
   ],
   "source": [
    "is_30_present = 30 in sample_tuple\n",
    "is_100_present = 100 in sample_tuple\n",
    "is_30_present,is_100_present"
   ]
  },
  {
   "cell_type": "markdown",
   "id": "02a0d22f-d7f4-4631-899e-6bee13dd3bc8",
   "metadata": {},
   "source": [
    ">### Dictionary Methods\n",
    ">Python has a set of built-in methods that you can use on dictionaries.\n",
    ">\n",
    ">(These methods).https://www.w3schools.com/python/python_dictionaries_methods.asp "
   ]
  },
  {
   "cell_type": "code",
   "execution_count": 1,
   "id": "6d47c871-1cf0-4566-830e-8061eb4e777e",
   "metadata": {
    "tags": []
   },
   "outputs": [],
   "source": [
    "# renitializing the sample dict\n",
    "sample_dict = {\n",
    "    'name': 'Jhon',\n",
    "    'age' : 35,\n",
    "    'city' : 'New York'\n",
    "}"
   ]
  },
  {
   "cell_type": "code",
   "execution_count": 2,
   "id": "4a6d0fb8-cdf9-47ed-a025-b9a977496c5e",
   "metadata": {
    "tags": []
   },
   "outputs": [
    {
     "data": {
      "text/plain": [
       "{'name': 'Jhon', 'age': 35, 'city': 'New York'}"
      ]
     },
     "execution_count": 2,
     "metadata": {},
     "output_type": "execute_result"
    }
   ],
   "source": [
    "# using the copy()\n",
    "copied_dict = sample_dict.copy()\n",
    "copied_dict"
   ]
  },
  {
   "cell_type": "code",
   "execution_count": 3,
   "id": "f8eae1d4-41dc-474b-a039-f44978117b72",
   "metadata": {
    "tags": []
   },
   "outputs": [
    {
     "data": {
      "text/plain": [
       "dict_keys(['name', 'age', 'city'])"
      ]
     },
     "execution_count": 3,
     "metadata": {},
     "output_type": "execute_result"
    }
   ],
   "source": [
    "# using the key() method to get all the keys of dictionary\n",
    "dict_keys = sample_dict.keys()\n",
    "dict_keys"
   ]
  },
  {
   "cell_type": "code",
   "execution_count": 4,
   "id": "7e00edaa-4eb4-4723-8e1a-3c94dfe8d407",
   "metadata": {
    "tags": []
   },
   "outputs": [
    {
     "data": {
      "text/plain": [
       "dict_values(['Jhon', 35, 'New York'])"
      ]
     },
     "execution_count": 4,
     "metadata": {},
     "output_type": "execute_result"
    }
   ],
   "source": [
    "# using the values() method to get all the values of dictionary\n",
    "dict_values = sample_dict.values()\n",
    "dict_values"
   ]
  },
  {
   "cell_type": "code",
   "execution_count": 5,
   "id": "3ae306ec-4bff-42ab-a802-1a399ddec0b7",
   "metadata": {
    "tags": []
   },
   "outputs": [
    {
     "data": {
      "text/plain": [
       "dict_items([('name', 'Jhon'), ('age', 35), ('city', 'New York')])"
      ]
     },
     "execution_count": 5,
     "metadata": {},
     "output_type": "execute_result"
    }
   ],
   "source": [
    "# dict items\n",
    "dict_items = sample_dict.items()\n",
    "dict_items"
   ]
  },
  {
   "cell_type": "code",
   "execution_count": 7,
   "id": "ccf178d4-2dbb-4c60-9434-2563c6aeab0d",
   "metadata": {
    "tags": []
   },
   "outputs": [
    {
     "data": {
      "text/plain": [
       "{}"
      ]
     },
     "execution_count": 7,
     "metadata": {},
     "output_type": "execute_result"
    }
   ],
   "source": [
    "# remove all item\n",
    "sample_dict.clear()\n",
    "sample_dict"
   ]
  },
  {
   "cell_type": "markdown",
   "id": "8b14263e-dae3-418f-881b-d2b4aefd8aa1",
   "metadata": {},
   "source": [
    "## REFERENCES\n",
    "1. https://www.w3schools.com/python/python_tuples_access.asp\n",
    "2. https://docs.python.org/3/tutorial/datastructures.html\n",
    "3. https://www.geeksforgeeks.org/python-set-3-strings-lists-tuples-iterations/?ref=lbp\n",
    "4. https://realpython.com/python-sets/"
   ]
  }
 ],
 "metadata": {
  "kernelspec": {
   "display_name": "Python 3 (ipykernel)",
   "language": "python",
   "name": "python3"
  },
  "language_info": {
   "codemirror_mode": {
    "name": "ipython",
    "version": 3
   },
   "file_extension": ".py",
   "mimetype": "text/x-python",
   "name": "python",
   "nbconvert_exporter": "python",
   "pygments_lexer": "ipython3",
   "version": "3.11.4"
  }
 },
 "nbformat": 4,
 "nbformat_minor": 5
}
