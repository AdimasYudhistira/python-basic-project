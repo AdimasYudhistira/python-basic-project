{
 "cells": [
  {
   "cell_type": "markdown",
   "id": "61d678ce-9c9f-4246-8b64-cd2f12688dbd",
   "metadata": {},
   "source": [
    ">### Python Conditions and If statements\n",
    ">Python supports the usual logical conditions from mathematics:\n",
    "\n",
    ">1. Equals: a == b\n",
    ">2. Not Equals: a != b\n",
    ">3. Less than: a < b\n",
    ">4. Less than or equal to: a <= b\n",
    ">5. Greater than: a > b\n",
    ">6. Greater than or equal to: a >= b\n",
    ">7. These conditions can be used in several ways, most commonly in \"if statements\" and loops.\n",
    ">\n",
    ">An \"if statement\" is written by using the if keyword."
   ]
  },
  {
   "cell_type": "code",
   "execution_count": 1,
   "id": "e7853f93-8d77-4c1f-8d88-a6ec47d25f96",
   "metadata": {
    "tags": []
   },
   "outputs": [
    {
     "name": "stdout",
     "output_type": "stream",
     "text": [
      "10 is greater than 5.\n"
     ]
    }
   ],
   "source": [
    "# example of if statement\n",
    "x= 10\n",
    "if x>5:\n",
    "    print(f'{x} is greater than 5.')"
   ]
  },
  {
   "cell_type": "code",
   "execution_count": 2,
   "id": "14e0b52c-7e1c-471c-965c-32281a1c7c44",
   "metadata": {
    "tags": []
   },
   "outputs": [
    {
     "name": "stdout",
     "output_type": "stream",
     "text": [
      "8 is a positive number.\n"
     ]
    }
   ],
   "source": [
    "# another example of if statement\n",
    "number= 8\n",
    "if number > 0:\n",
    "    print(f'{number} is a positive number.')"
   ]
  },
  {
   "cell_type": "markdown",
   "id": "7c34d234-71c9-4ae4-b352-5d1a7a178fe2",
   "metadata": {},
   "source": [
    ">### Python IF Else\n",
    ">The else keyword catches anything which isn't caught by the preceding conditions."
   ]
  },
  {
   "cell_type": "code",
   "execution_count": 3,
   "id": "cf4e7924-e945-4a89-8b71-280127d9e5db",
   "metadata": {
    "tags": []
   },
   "outputs": [
    {
     "name": "stdout",
     "output_type": "stream",
     "text": [
      "-5 is negative.\n"
     ]
    }
   ],
   "source": [
    "# example of if... else statement\n",
    "number = -5\n",
    "if number >= 0:\n",
    "    print(f'{number} is non-negative.')\n",
    "else:\n",
    "    print(f'{number} is negative.')"
   ]
  },
  {
   "cell_type": "markdown",
   "id": "27f094ff-eef0-4a1b-8837-d8bb221cb2f9",
   "metadata": {},
   "source": [
    ">### IF Elif Else\n",
    ">The elif keyword is Python's way of saying \"if the previous conditions were not true, then try this condition\"."
   ]
  },
  {
   "cell_type": "code",
   "execution_count": 3,
   "id": "a634d333-6a50-4c0d-9895-0ec53f8594df",
   "metadata": {
    "tags": []
   },
   "outputs": [
    {
     "name": "stdout",
     "output_type": "stream",
     "text": [
      "0 is zero.\n"
     ]
    }
   ],
   "source": [
    "# Example of if... elif... else... statement\n",
    "number = 0\n",
    "if number >0:\n",
    "    print(f'{number} is positive.')\n",
    "elif number == 0:\n",
    "    print(f'{number} is zero.')\n",
    "else:\n",
    "    print(f'{number} is negative.')\n"
   ]
  },
  {
   "cell_type": "markdown",
   "id": "664d018e-839e-4df5-88a6-9e5b52188a20",
   "metadata": {},
   "source": [
    ">### python Nested If\n",
    ">You can have if statements inside if statements, this is called nested if statements."
   ]
  },
  {
   "cell_type": "code",
   "execution_count": 5,
   "id": "c6765343-c15e-4158-9d0a-cb1ef91f71dc",
   "metadata": {
    "tags": []
   },
   "outputs": [
    {
     "name": "stdout",
     "output_type": "stream",
     "text": [
      "15 is positive.\n",
      "15 is also divisible by 5.\n"
     ]
    }
   ],
   "source": [
    "# example of nested if statement\n",
    "number = 15\n",
    "if number > 0:\n",
    "    print (f'{number} is positive.')\n",
    "    if number % 5 == 0:\n",
    "        print(f'{number} is also divisible by 5.')"
   ]
  },
  {
   "cell_type": "code",
   "execution_count": 3,
   "id": "277ed66f-2d35-492e-bf18-bd43f2d04dc4",
   "metadata": {
    "tags": []
   },
   "outputs": [
    {
     "name": "stdout",
     "output_type": "stream",
     "text": [
      "This person is a teenager.\n",
      "This teenager is eligible to drive.\n"
     ]
    }
   ],
   "source": [
    "# aother example\n",
    "age = 17\n",
    "if age >= 13:\n",
    "    if age <=19:\n",
    "        print('This person is a teenager.')\n",
    "        if age >= 16:\n",
    "            print('This teenager is eligible to drive.')\n",
    "        else:\n",
    "            print('This teenager is not eligible to drive')"
   ]
  },
  {
   "cell_type": "code",
   "execution_count": null,
   "id": "b4cab23f-8122-4b51-8252-1e736797fdd8",
   "metadata": {},
   "outputs": [],
   "source": []
  }
 ],
 "metadata": {
  "kernelspec": {
   "display_name": "Python 3 (ipykernel)",
   "language": "python",
   "name": "python3"
  },
  "language_info": {
   "codemirror_mode": {
    "name": "ipython",
    "version": 3
   },
   "file_extension": ".py",
   "mimetype": "text/x-python",
   "name": "python",
   "nbconvert_exporter": "python",
   "pygments_lexer": "ipython3",
   "version": "3.11.4"
  }
 },
 "nbformat": 4,
 "nbformat_minor": 5
}
