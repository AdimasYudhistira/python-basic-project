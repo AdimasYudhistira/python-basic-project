{
 "cells": [
  {
   "cell_type": "markdown",
   "id": "4f2e5664-68da-4a53-a4d6-f40706682ede",
   "metadata": {},
   "source": [
    ">### Error Handling\n",
    ">If you have some suspicious code that may raise an exception, you can defend your program by placing the suspicious code in a `try:` block. After the `try:` block, include an `except:` statement, followed by a block of code which handles the problem as elegantly as possible.\n",
    ">\n",
    ">- The `try:` block contains statements which are susceptible for exception\n",
    ">- If exception occurs, the program jumps to the `except:` block.\n",
    ">- If no exception in the `try:` block, the `except:` block is skipped.\n",
    ">\n",
    ">The `try` block lets you test a block of code for errors.\n",
    ">\n",
    ">The `except` block lets you handle the error.\n",
    ">\n",
    ">The `else` block lets you execute code when there is no error.\n",
    ">\n",
    ">The `finally` block lets you execute code, regardless of the result of the try- and except blocks."
   ]
  },
  {
   "cell_type": "markdown",
   "id": "1ab70798-3622-4ac4-8de0-e266651da65d",
   "metadata": {},
   "source": [
    ">### Different types of exceptions in python\n",
    ">In Python, there are several built-in exceptions that can be raised when an error occurs during the execution of a program. Here are some of the most common types of exceptions in Python:\n",
    ">- `SyntaxError:` This exception is raised when the interpreter encounters a syntax error in the code, such as a misspelled keyword, a missing colon, or an unbalanced parenthesis.\n",
    ">- `TypeError:` This exception is raised when an operation or function is applied to an object of the wrong type, such as adding a string to an integer.\n",
    ">- `NameError:` This exception is raised when a variable or function name is not found in the current scope.\n",
    ">- `IndexError:` This exception is raised when an index is out of range for a list, tuple, or other sequence types.\n",
    "KeyError: This exception is raised when a key is not found in a dictionary.\n",
    ">- `ValueError:` This exception is raised when a function or method is called with an invalid argument or input, such as trying to convert a string to an integer when the string does not represent a valid integer.\n",
    ">- `AttributeError:` This exception is raised when an attribute or method is not found on an object, such as trying to access a non-existent attribute of a class instance.\n",
    ">- `IOError:` This exception is raised when an I/O operation, such as reading or writing a file, fails due to an input/output error.\n",
    ">- `ZeroDivisionError:` This exception is raised when an attempt is made to divide a number by zero.\n",
    ">- `ImportError:` This exception is raised when an import statement fails to find or load a module."
   ]
  },
  {
   "cell_type": "code",
   "execution_count": 8,
   "id": "51ce6c7f-817e-4ad8-8e2e-0d4a0c2bca35",
   "metadata": {
    "tags": []
   },
   "outputs": [
    {
     "name": "stdin",
     "output_type": "stream",
     "text": [
      "Please enter a number:  0\n"
     ]
    }
   ],
   "source": [
    "# Single exeption\n",
    "try:\n",
    "    x = int(input(\"Please enter a number: \"))\n",
    "except ValueError:\n",
    "    print(\"Oops!  That was no valid number.  Try again...\")"
   ]
  },
  {
   "cell_type": "code",
   "execution_count": 7,
   "id": "02497943-6120-4560-8bb4-31077ef50aff",
   "metadata": {
    "tags": []
   },
   "outputs": [
    {
     "name": "stdin",
     "output_type": "stream",
     "text": [
      "Please enter a number:  0\n"
     ]
    },
    {
     "name": "stdout",
     "output_type": "stream",
     "text": [
      "Invalid input!\n"
     ]
    }
   ],
   "source": [
    "# Mutiple Exeption\n",
    "try:\n",
    "    x = int(input(\"Please enter a number: \"))\n",
    "    result = 10/x\n",
    "    print('Success!')\n",
    "except (ZeroDivisionError, ValueError):\n",
    "    print('Invalid input!')"
   ]
  },
  {
   "cell_type": "code",
   "execution_count": 9,
   "id": "2ed15675-9b19-4be1-9974-47167f000724",
   "metadata": {
    "tags": []
   },
   "outputs": [
    {
     "name": "stdin",
     "output_type": "stream",
     "text": [
      "Enter a Number:  10\n"
     ]
    },
    {
     "name": "stdout",
     "output_type": "stream",
     "text": [
      "Number you entered is 10.\n"
     ]
    }
   ],
   "source": [
    "# Using else clause\n",
    "try:\n",
    "    number = int(input('Enter a Number: '))\n",
    "except:\n",
    "    print('Please enter a valid number.')\n",
    "else:\n",
    "    print(f'Number you entered is {number}.')"
   ]
  },
  {
   "cell_type": "code",
   "execution_count": 11,
   "id": "d4631fd2-9006-40a5-8312-9c162ab49270",
   "metadata": {
    "tags": []
   },
   "outputs": [
    {
     "name": "stdin",
     "output_type": "stream",
     "text": [
      "Enter a Number:  10\n"
     ]
    },
    {
     "name": "stdout",
     "output_type": "stream",
     "text": [
      "Finally will always be printed\n"
     ]
    }
   ],
   "source": [
    "# Using the finally clause\n",
    "try:\n",
    "    number = int(input('Enter a Number: '))\n",
    "except ValueError:\n",
    "    print('Please enter a valid number.')\n",
    "except ZeroDivisionError:\n",
    "    print('Division by zero is not alowed!')\n",
    "finally:\n",
    "    print('Finally will always be printed')"
   ]
  },
  {
   "cell_type": "markdown",
   "id": "7fd1693e-2e83-4aa1-a202-0b3ae5818fd2",
   "metadata": {},
   "source": [
    "### REFERENCE\n",
    "1. https://docs.python.org/3/tutorial/errors.html\n",
    "2. https://www.w3schools.com/python/python_try_except.asp\n",
    "3. https://www.geeksforgeeks.org/python-exception-handling/\n",
    "4. https://www.tutorialspoint.com/python/python_exceptions.htm"
   ]
  }
 ],
 "metadata": {
  "kernelspec": {
   "display_name": "Python 3 (ipykernel)",
   "language": "python",
   "name": "python3"
  },
  "language_info": {
   "codemirror_mode": {
    "name": "ipython",
    "version": 3
   },
   "file_extension": ".py",
   "mimetype": "text/x-python",
   "name": "python",
   "nbconvert_exporter": "python",
   "pygments_lexer": "ipython3",
   "version": "3.11.4"
  }
 },
 "nbformat": 4,
 "nbformat_minor": 5
}
