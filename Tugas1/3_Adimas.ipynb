{
 "cells": [
  {
   "cell_type": "markdown",
   "metadata": {},
   "source": [
    "## TUGAS BASIC PYTHON 1"
   ]
  },
  {
   "cell_type": "markdown",
   "metadata": {},
   "source": [
    "### SOAL 1"
   ]
  },
  {
   "cell_type": "markdown",
   "metadata": {},
   "source": [
    "> Melaui rumus di bawah ini, hitunglah berapa nilai w jika diketahui : \n",
    "\n",
    "> Nilai x = 4, y = 3, dan z = 2"
   ]
  },
  {
   "cell_type": "markdown",
   "metadata": {},
   "source": [
    "# $w = (\\frac{x\\:+\\:y\\:\\times\\:z}{x\\:\\times\\:y})^z$"
   ]
  },
  {
   "cell_type": "code",
   "execution_count": 1,
   "metadata": {
    "tags": []
   },
   "outputs": [],
   "source": [
    "x = 4\n",
    "y = 3\n",
    "z = 2"
   ]
  },
  {
   "cell_type": "code",
   "execution_count": 2,
   "metadata": {
    "tags": []
   },
   "outputs": [
    {
     "name": "stdout",
     "output_type": "stream",
     "text": [
      "Nilai w adalah:  0.6944444444444445\n"
     ]
    }
   ],
   "source": [
    "w = ((x+y*z)/(x*y))**z # Jika var z adalah pangkat\n",
    "print (\"Nilai w adalah: \",w)"
   ]
  },
  {
   "cell_type": "code",
   "execution_count": 3,
   "metadata": {
    "tags": []
   },
   "outputs": [
    {
     "name": "stdout",
     "output_type": "stream",
     "text": [
      "Nilai w adalah:  1.6666666666666667\n"
     ]
    }
   ],
   "source": [
    "w = ((x+y*z)/(x*y))*z # Jika var z adalah perkalian\n",
    "print (\"Nilai w adalah: \",w) "
   ]
  },
  {
   "cell_type": "markdown",
   "metadata": {},
   "source": [
    "### SOAL 2"
   ]
  },
  {
   "cell_type": "markdown",
   "metadata": {},
   "source": [
    "Asnawi sedang mengikuti suatu bootcamp. Ia baru menjalani 5, dari total 6 kali ujian yang diujikan dengan perolehan nilai sebagai berikut : 68, 70, 75, 78, 70. \n",
    "\n",
    "Agar dapat dinyatakan lulus bootcamp, total nilai rata-rata dari tiap peserta harus berada diatas 75.\n",
    "\n",
    "Hitunglah : \n",
    "- a) Berapa total nilai rata-rata Asnawi sekarang? \n",
    "- b) Agar dinyatakan lulus, maka berapakah nilai minimal pada ujian terakhir (ke-6) yang harus didapat Asnawi?"
   ]
  },
  {
   "cell_type": "code",
   "execution_count": 4,
   "metadata": {
    "tags": []
   },
   "outputs": [],
   "source": [
    "# Nilai-nilai yang sudah diperoleh Asnawi\n",
    "nl_asnawi = [68, 70, 75, 78, 70] # gunakan list untuk daftar nilai\n",
    "\n",
    "# Jumlah ujian yang sudah dijalani\n",
    "jum_sudah = len(nl_asnawi) # gunakan tuple untuk memanggil variable\n",
    "\n",
    "# Total nilai saat ini\n",
    "tot_nilai = sum(nl_asnawi)\n",
    "\n",
    "# Rata-rata nilai saat ini\n",
    "rata_nl = tot_nilai / jum_sudah\n",
    "\n",
    "# Total nilai minimal untuk lulus dengan rata-rata di atas 75\n",
    "tot_minimal = 75 * (jum_sudah + 1) - tot_nilai"
   ]
  },
  {
   "cell_type": "code",
   "execution_count": 5,
   "metadata": {
    "tags": []
   },
   "outputs": [
    {
     "name": "stdout",
     "output_type": "stream",
     "text": [
      "a) Total nilai rata-rata Asnawi sekarang adalah:  72.2\n",
      "b) Untuk lulus, Asnawi harus mendapatkan minimal nilai 89 pada ujian terakhir.\n"
     ]
    }
   ],
   "source": [
    "print(\"a) Total nilai rata-rata Asnawi sekarang adalah: \", rata_nl)\n",
    "print(\"b) Untuk lulus, Asnawi harus mendapatkan minimal nilai\", tot_minimal, \"pada ujian terakhir.\")"
   ]
  },
  {
   "cell_type": "markdown",
   "metadata": {},
   "source": [
    "### SOAL 3"
   ]
  },
  {
   "cell_type": "markdown",
   "metadata": {},
   "source": [
    "Egy mempunyai gaji Rp 10,000,000,- dan dengan gajinya tersebut, ia berniat membeli sebuah kamera seharga Rp 3,500,000,- (sebelum diskon).  \n",
    "Selain itu, Egy juga telah membelanjakan uangnya sebesar Rp 1,500,000,- untuk keperluan lain. \n",
    "\n",
    "Hitunglah berapa sisa uang Egy saat ini, jika harga diskon kamera tersebut adalah sebesar 15%?"
   ]
  },
  {
   "cell_type": "code",
   "execution_count": 6,
   "metadata": {
    "tags": []
   },
   "outputs": [],
   "source": [
    "# Gaji Egy\n",
    "gj_egy = 10000000  # Rp 10,000,000\n",
    "\n",
    "# Harga kamera sebelum diskon\n",
    "hrg_sblm_disk = 3500000  # Rp 3,500,000\n",
    "\n",
    "# Diskon kamera (15%)\n",
    "disk = 15 / 100\n",
    "\n",
    "# Harga kamera setelah diskon\n",
    "hrg_stlh_disk = hrg_sblm_disk * (1 - disk)\n",
    "\n",
    "# Pengeluaran lainnya\n",
    "peng_lain = 1500000  # Rp 1,500,000\n",
    "\n",
    "# Menghitung sisa uang Egy\n",
    "sis_uang_egy = gj_egy - hrg_stlh_disk - peng_lain"
   ]
  },
  {
   "cell_type": "code",
   "execution_count": 7,
   "metadata": {
    "tags": []
   },
   "outputs": [
    {
     "name": "stdout",
     "output_type": "stream",
     "text": [
      "Sisa uang Egy saat ini adalah: Rp 5525000.0\n"
     ]
    }
   ],
   "source": [
    "# Menampilkan sisa uang Egy\n",
    "print(\"Sisa uang Egy saat ini adalah: Rp\", sis_uang_egy)"
   ]
  },
  {
   "cell_type": "markdown",
   "metadata": {},
   "source": [
    "### SOAL 4"
   ]
  },
  {
   "cell_type": "markdown",
   "metadata": {},
   "source": [
    "Diketahui jarak antara Kota A dan Kota B adalah 400 km. Jika Firman berangkat dari Kota A menuju Kota B pukul 09.00 pagi dengan mobil yang memiliki kecepatan 60 km/jam. Sedangkan pada waktu dan rute yang sama, Utina berangkat dari Kota B menuju Kota A dengan mengendarai mobil yang kecepatannya 80 km/jam. \n",
    "\n",
    "Jika kita asumsikan bahwa kecepatan dari kedua mobil tersebut stabil, maka pada pukul berapakah Firman dan Utina berpapasan?"
   ]
  },
  {
   "cell_type": "markdown",
   "metadata": {},
   "source": [
    ">#### Waktu = Jarak / Kecepatan\n",
    ">#### t = s/v"
   ]
  },
  {
   "cell_type": "code",
   "execution_count": 8,
   "metadata": {
    "tags": []
   },
   "outputs": [],
   "source": [
    "# Mencoba menggunakan modul datetime\n",
    "import datetime # modul nya\n",
    "\n",
    "# Jarak antara Kota A dan Kota B dalam kilometer\n",
    "s_km = 400\n",
    "\n",
    "# Kecepatan Firman dalam km/jam\n",
    "v_firman = 60\n",
    "\n",
    "# Kecepatan Utina dalam km/jam\n",
    "v_utina = 80\n",
    "\n",
    "# Waktu awal (pukul 09.00 pagi)\n",
    "t_awal = datetime.datetime.strptime(\"09:00:00 AM\", \"%H:%M:%S %p\")\n",
    "\n",
    "# Waktu yang diperlukan oleh Firman dan Utina untuk bertemu di tengah jarak\n",
    "t_bertemu = s_km / (v_firman + v_utina)\n",
    "\n",
    "# Menambahkan waktu bertemu ke waktu awal\n",
    "t_berpapasan = t_awal + datetime.timedelta(hours=t_bertemu)"
   ]
  },
  {
   "cell_type": "code",
   "execution_count": 9,
   "metadata": {
    "tags": []
   },
   "outputs": [
    {
     "name": "stdout",
     "output_type": "stream",
     "text": [
      "Firman dan Utina berpapasan pada pukul: 11:51:25 AM\n"
     ]
    }
   ],
   "source": [
    "print(\"Firman dan Utina berpapasan pada pukul:\", t_berpapasan.strftime(\"%H:%M:%S %p\"))"
   ]
  },
  {
   "cell_type": "code",
   "execution_count": 10,
   "metadata": {
    "tags": []
   },
   "outputs": [],
   "source": [
    "# Tanpa modul datetime\n",
    "# Jarak antara Kota A dan Kota B dalam kilometer\n",
    "s_km = 400\n",
    "\n",
    "# Kecepatan Firman dalam km/jam\n",
    "v_firman = 60\n",
    "\n",
    "# Kecepatan Utina dalam km/jam\n",
    "v_utina = 80\n",
    "\n",
    "# Waktu awal (pukul 09.00 pagi)\n",
    "t_awal = 9\n",
    "\n",
    "# Waktu yang diperlukan oleh Firman dan Utina untuk bertemu di tengah jarak\n",
    "t_bertemu = s_km / (v_firman + v_utina)\n",
    "\n",
    "# Menambahkan waktu bertemu ke waktu awal (mengkonversi t_bertemu kedalam int)\n",
    "# Mencari Jam nya\n",
    "t_berpapasan_h = t_awal + int(t_bertemu)\n",
    "\n",
    "# Mencari menit nya\n",
    "t_berpapasan_m = int((t_bertemu -int(t_bertemu)) * 60)"
   ]
  },
  {
   "cell_type": "code",
   "execution_count": 11,
   "metadata": {
    "tags": []
   },
   "outputs": [
    {
     "name": "stdout",
     "output_type": "stream",
     "text": [
      "Firman dan Utina berpapasan pada pukul 11:51\n"
     ]
    }
   ],
   "source": [
    "print(f\"Firman dan Utina berpapasan pada pukul {t_berpapasan_h}:{t_berpapasan_m}\")"
   ]
  },
  {
   "cell_type": "markdown",
   "metadata": {},
   "source": [
    "> ## Referensi no.4\n",
    ">\n",
    "> 1. https://blog.rosihanari.net/tutorial-datetime-di-python/\n",
    "> 2. https://belajarpython.com/tutorial/tanggal-waktu-python/"
   ]
  },
  {
   "cell_type": "markdown",
   "metadata": {},
   "source": [
    "### SOAL 5"
   ]
  },
  {
   "cell_type": "markdown",
   "metadata": {},
   "source": [
    "Andik merupakan seorang importir dan pedagang baju premium. Ia berdagang dengan cara membeli baju premium dari luar negeri, kemudian dijual kembali di dalam negeri. Harga baju yang dibeli Andik tersebut, jika di rupiahkan adalah sekitar Rp 1,000,000,- per piece, dan kemudian dijual kembali dengan harga Rp 1,700,000,- per piece. Saat ini, Andik hanya memiliki modal sekitar Rp 40,000,000,- yang bisa ia alokasikan setiap bulannya. \n",
    "\n",
    "Jika pajak PPN barang impor adalah sebesar 10%, dan kita asumsikan bahwa setiap bulan baju yang dijual Andik selalu habis terjual, maka hitunglah:\n",
    "- a) Berapa piece baju yang optimal untuk Andik jual setiap bulan?\n",
    "- b) Berapa keuntungan optimal Andik setiap bulan?\n",
    "- c) Berapa persentase keuntungan yang diperoleh Andik setiap bulan?\n",
    "- d) Jika Andik memutuskan untuk beristirahat pada bulan November dan Desember, maka berapa rata-rata keuntungan per tahun nya?"
   ]
  },
  {
   "cell_type": "code",
   "execution_count": 12,
   "metadata": {
    "tags": []
   },
   "outputs": [
    {
     "name": "stdout",
     "output_type": "stream",
     "text": [
      "Jumlah baju optimal yang dapat dijual setiap bulan: 36.0 Pieces\n"
     ]
    }
   ],
   "source": [
    "# a) Berapa piece baju yang optimal untuk Andik jual setiap bulan?\n",
    "modal = 40000000  # Modal Andik per bulan Rp. 40.000.000\n",
    "harga_beli_per_piece = 1000000  # Harga beli per piece sebelum PPN Rp. 1.000.000\n",
    "ppn = 0.1  # PPN sebesar 10%\n",
    "\n",
    "# Menghitung harga beli per piece setelah PPN\n",
    "harga_beli_setelah_ppn = harga_beli_per_piece + (harga_beli_per_piece * ppn)\n",
    "\n",
    "# Menghitung jumlah baju yang dapat dibeli setiap bulan\n",
    "jumlah_baju_optimal = modal // harga_beli_setelah_ppn\n",
    "\n",
    "print(\"Jumlah baju optimal yang dapat dijual setiap bulan:\", jumlah_baju_optimal,\"Pieces\")"
   ]
  },
  {
   "cell_type": "code",
   "execution_count": 13,
   "metadata": {
    "tags": []
   },
   "outputs": [
    {
     "name": "stdout",
     "output_type": "stream",
     "text": [
      "Keuntungan optimal Andik setiap bulan: Rp. 21600000.0\n"
     ]
    }
   ],
   "source": [
    "# b) Berapa keuntungan optimal Andik setiap bulan?\n",
    "harga_jual_per_piece = 1700000  # Harga jual per piece\n",
    "\n",
    "# Menghitung keuntungan per piece\n",
    "keuntungan_per_piece = harga_jual_per_piece - harga_beli_setelah_ppn\n",
    "\n",
    "# Menghitung keuntungan total per bulan\n",
    "keuntungan_total_per_bulan = keuntungan_per_piece * jumlah_baju_optimal\n",
    "\n",
    "print(\"Keuntungan optimal Andik setiap bulan: Rp.\",keuntungan_total_per_bulan) # Rp. 21.600.000"
   ]
  },
  {
   "cell_type": "code",
   "execution_count": 14,
   "metadata": {
    "tags": []
   },
   "outputs": [
    {
     "name": "stdout",
     "output_type": "stream",
     "text": [
      "Persentase keuntungan yang diperoleh Andik setiap bulan: 54.0 %\n"
     ]
    }
   ],
   "source": [
    "# c) Berapa persentase keuntungan yang diperoleh Andik setiap bulan?\n",
    "# Menghitung persentase keuntungan\n",
    "persentase_keuntungan = (keuntungan_total_per_bulan / modal) * 100\n",
    "\n",
    "print(\"Persentase keuntungan yang diperoleh Andik setiap bulan:\", persentase_keuntungan, \"%\")"
   ]
  },
  {
   "cell_type": "code",
   "execution_count": 15,
   "metadata": {
    "tags": []
   },
   "outputs": [
    {
     "name": "stdout",
     "output_type": "stream",
     "text": [
      "Rata-rata keuntungan per tahun jika berjualan selama 10 bulan: Rp. 216000000.0\n"
     ]
    }
   ],
   "source": [
    "# d) Jika Andik memutuskan untuk beristirahat pada bulan November dan Desember, maka berapa rata-rata keuntungan per tahun nya?\n",
    "jumlah_bulan_per_tahun = 12  # Jumlah bulan dalam setahun\n",
    "\n",
    "# Menghitung keuntungan tahunan jika hanya berjualan selama 10 bulan\n",
    "keuntungan_tahunan = keuntungan_total_per_bulan * (jumlah_bulan_per_tahun - 2)  # Dikurangi 2 bulan (November dan Desember)\n",
    "\n",
    "print(\"Rata-rata keuntungan per tahun jika berjualan selama 10 bulan: Rp.\", keuntungan_tahunan) # Rp. 216.000.000"
   ]
  }
 ],
 "metadata": {
  "kernelspec": {
   "display_name": "Python 3 (ipykernel)",
   "language": "python",
   "name": "python3"
  },
  "language_info": {
   "codemirror_mode": {
    "name": "ipython",
    "version": 3
   },
   "file_extension": ".py",
   "mimetype": "text/x-python",
   "name": "python",
   "nbconvert_exporter": "python",
   "pygments_lexer": "ipython3",
   "version": "3.11.4"
  }
 },
 "nbformat": 4,
 "nbformat_minor": 4
}
