{
 "cells": [
  {
   "cell_type": "markdown",
   "id": "ba117119-743a-4e3e-80ad-8cbf5aad78f2",
   "metadata": {},
   "source": [
    ">### Module\n",
    ">Consider a module to be the same as a code library. A file containing a set of functions you want to include in your application."
   ]
  },
  {
   "cell_type": "markdown",
   "id": "22fd92ec-35dd-45d7-bd0b-3881413c1a93",
   "metadata": {},
   "source": [
    ">### Create a Module\n",
    ">To create a module just save the code you want in a file with the file extension .py"
   ]
  },
  {
   "cell_type": "markdown",
   "id": "b986ff6e-ff1d-4803-a465-3729c0cba0b1",
   "metadata": {},
   "source": [
    ">### Using a module\n",
    ">we can use the module we just created, by using the import statement"
   ]
  },
  {
   "cell_type": "code",
   "execution_count": 1,
   "id": "52f23f1e-0a0d-4848-bdf1-fcfcc3101c0a",
   "metadata": {
    "tags": []
   },
   "outputs": [],
   "source": [
    "# import a module that i've create\n",
    "import basic_math"
   ]
  },
  {
   "cell_type": "code",
   "execution_count": 2,
   "id": "40de960c-4086-4434-a4dd-6a317be8d045",
   "metadata": {
    "tags": []
   },
   "outputs": [
    {
     "data": {
      "text/plain": [
       "\u001b[1;31mType:\u001b[0m        module\n",
       "\u001b[1;31mString form:\u001b[0m <module 'basic_math' from 'C:\\\\Users\\\\DIMAS\\\\latihanpy\\\\python_material\\\\basic_math.py'>\n",
       "\u001b[1;31mFile:\u001b[0m        c:\\users\\dimas\\latihanpy\\python_material\\basic_math.py\n",
       "\u001b[1;31mDocstring:\u001b[0m   This is an example of docstring to demonstrate a module."
      ]
     },
     "metadata": {},
     "output_type": "display_data"
    }
   ],
   "source": [
    "basic_math?"
   ]
  },
  {
   "cell_type": "code",
   "execution_count": 3,
   "id": "439c0f86-4bff-485a-8ebb-8f2ff6cc9530",
   "metadata": {
    "tags": []
   },
   "outputs": [],
   "source": [
    "# using the module\n",
    "val_add = basic_math.add(5,5)\n",
    "val_div = basic_math.divide(5,5)\n",
    "val_sub = basic_math.subtract(5,5)"
   ]
  },
  {
   "cell_type": "code",
   "execution_count": 4,
   "id": "f4be0419-3081-4c4a-974a-bd5fedf12821",
   "metadata": {
    "tags": []
   },
   "outputs": [
    {
     "name": "stdout",
     "output_type": "stream",
     "text": [
      "10\n",
      "1.0\n",
      "0\n"
     ]
    }
   ],
   "source": [
    "# print result\n",
    "print(val_add)\n",
    "print(val_div)\n",
    "print(val_sub)"
   ]
  },
  {
   "cell_type": "markdown",
   "id": "0f9a8f2d-4c32-4605-a93d-00fb98e22d42",
   "metadata": {},
   "source": [
    ">### Built-in Module\n",
    ">a built-in module refers to a module that is part of the standard library and comes pre-installed with Python. These modules provide a wide range of functionalities and can be used without the need for additional installations.\n",
    ">\n",
    ">For example, modules like math, random, and os are built-in modules. "
   ]
  },
  {
   "cell_type": "markdown",
   "id": "602816d4-9c51-4300-a69e-2c2c420bab0a",
   "metadata": {},
   "source": [
    ">### Math Module\n",
    ">These functions cannot be used with complex numbers; use the functions of the same name from the cmath module if you require support for complex numbers. The distinction between functions which support complex numbers and those which don’t is made since most users do not want to learn quite as much mathematics as required to understand complex numbers.\n",
    ">\n",
    ">These are the math [module](https://docs.python.org/3/library/math.html?highlight=math%20module#module-math)"
   ]
  },
  {
   "cell_type": "code",
   "execution_count": 5,
   "id": "570d9bc4-d4bb-42e7-8958-0749d4dc7013",
   "metadata": {
    "tags": []
   },
   "outputs": [],
   "source": [
    "# import module\n",
    "import math"
   ]
  },
  {
   "cell_type": "code",
   "execution_count": 6,
   "id": "21357061-f5e8-4ba1-adc3-42487aaad199",
   "metadata": {
    "tags": []
   },
   "outputs": [
    {
     "data": {
      "text/plain": [
       "\u001b[1;31mType:\u001b[0m        module\n",
       "\u001b[1;31mString form:\u001b[0m <module 'math' (built-in)>\n",
       "\u001b[1;31mDocstring:\u001b[0m  \n",
       "This module provides access to the mathematical functions\n",
       "defined by the C standard."
      ]
     },
     "metadata": {},
     "output_type": "display_data"
    }
   ],
   "source": [
    "math?"
   ]
  },
  {
   "cell_type": "code",
   "execution_count": 7,
   "id": "1e920817-0b5c-40a5-bda1-e81fe780fd7b",
   "metadata": {
    "tags": []
   },
   "outputs": [],
   "source": [
    "# calculate the square root of number\n",
    "sqrt_val = math.sqrt(25)\n",
    "\n",
    "# calculate the factorial number\n",
    "factorial_val = math.factorial(5)\n",
    "\n",
    "# calculate the sosine of an angle\n",
    "cos_val = math.cos(math.radians(45))\n",
    "\n",
    "# calculate the power\n",
    "pow_val = math.pow(5,2)"
   ]
  },
  {
   "cell_type": "code",
   "execution_count": 8,
   "id": "f120f1b6-261b-4ae5-897b-7dc485e3ce46",
   "metadata": {
    "tags": []
   },
   "outputs": [
    {
     "name": "stdout",
     "output_type": "stream",
     "text": [
      "5.0\n",
      "120\n",
      "0.7071067811865476\n",
      "25.0\n"
     ]
    }
   ],
   "source": [
    "# print result\n",
    "print(sqrt_val)\n",
    "print(factorial_val)\n",
    "print(cos_val)\n",
    "print(pow_val)"
   ]
  },
  {
   "cell_type": "markdown",
   "id": "12d23d10-4268-4186-989b-86bc5c08c7dc",
   "metadata": {},
   "source": [
    ">### Random Module\n",
    ">This module implements pseudo-random number generators for various distributions.\n",
    "For integers, there is uniform selection from a range. For sequences, there is uniform selection of a random element, a function to generate a random permutation of a list in-place, and a function for random sampling without replacement.\n",
    ">\n",
    ">These are the random [module](https://docs.python.org/3/library/math.html?highlight=math%20module#module-math)"
   ]
  },
  {
   "cell_type": "code",
   "execution_count": 9,
   "id": "0fe555aa-23e8-4e93-b5e0-04f138a186b5",
   "metadata": {
    "tags": []
   },
   "outputs": [],
   "source": [
    "# import module\n",
    "import random"
   ]
  },
  {
   "cell_type": "code",
   "execution_count": 10,
   "id": "27d09fbb-be08-4f4a-96af-da5782aafd48",
   "metadata": {
    "tags": []
   },
   "outputs": [
    {
     "name": "stdout",
     "output_type": "stream",
     "text": [
      "13\n"
     ]
    }
   ],
   "source": [
    "# using random.radint()\n",
    "print(random.randint(10,15))"
   ]
  },
  {
   "cell_type": "code",
   "execution_count": 11,
   "id": "9673462e-6a36-4540-9661-50e742fa6611",
   "metadata": {
    "tags": []
   },
   "outputs": [
    {
     "name": "stdout",
     "output_type": "stream",
     "text": [
      "watermelon\n"
     ]
    }
   ],
   "source": [
    "# using random.choice()\n",
    "fruits = ['apple', 'banana', 'cherry', 'orange', 'watermelon']\n",
    "print(random.choice(fruits))"
   ]
  },
  {
   "cell_type": "code",
   "execution_count": 12,
   "id": "c151d387-3bcf-4520-8a72-90f9376893f4",
   "metadata": {
    "tags": []
   },
   "outputs": [
    {
     "name": "stdout",
     "output_type": "stream",
     "text": [
      "['watermelon', 'cherry', 'banana']\n"
     ]
    }
   ],
   "source": [
    "# using random.sample()\n",
    "print(random.sample(fruits,3))"
   ]
  },
  {
   "cell_type": "markdown",
   "id": "7bd28019-5e12-4a4c-9a77-7bc31702172d",
   "metadata": {},
   "source": [
    ">### Datetime Module\n",
    ">The datetime module supplies classes for manipulating dates and times.\n",
    "While date and time arithmetic is supported, the focus of the implementation is on efficient attribute extraction for output formatting and manipulation.\n",
    ">\n",
    ">These are the datetime [module](https://docs.python.org/3/library/datetime.html?highlight=datetime%20module#module-datetime)"
   ]
  },
  {
   "cell_type": "code",
   "execution_count": 13,
   "id": "e06e7934-d509-404b-bad4-6edb4b2db4c6",
   "metadata": {
    "tags": []
   },
   "outputs": [],
   "source": [
    "import datetime"
   ]
  },
  {
   "cell_type": "code",
   "execution_count": 14,
   "id": "898cf647-2d63-46a3-b0de-798abd642cb5",
   "metadata": {
    "tags": []
   },
   "outputs": [],
   "source": [
    "# get the current date and time\n",
    "current_datetime = datetime.datetime.now()\n",
    "\n",
    "# get the current date\n",
    "current_date = datetime.date.today()\n",
    "\n",
    "# create a spesific date\n",
    "spesific_date = datetime.date(2023, 9 , 20)\n",
    "\n",
    "# calculate the diffrence between two dates\n",
    "date_diff = spesific_date - current_date"
   ]
  },
  {
   "cell_type": "code",
   "execution_count": 15,
   "id": "43ae60c7-70c2-4c58-bd02-4de5455d17ab",
   "metadata": {
    "tags": []
   },
   "outputs": [
    {
     "name": "stdout",
     "output_type": "stream",
     "text": [
      "2023-10-06 08:10:33.648291\n",
      "2023-10-06\n",
      "2023-09-20\n",
      "-16 days, 0:00:00\n"
     ]
    }
   ],
   "source": [
    "print(current_datetime)\n",
    "print(current_date)\n",
    "print(spesific_date)\n",
    "print(date_diff)"
   ]
  },
  {
   "cell_type": "markdown",
   "id": "9a7c4ae3-af3f-4340-8300-5055458fc3ad",
   "metadata": {},
   "source": [
    ">### Numpy\n",
    ">This reference manual details functions, modules, and objects included in NumPy, describing what they are and what they do. For learning how to use NumPy, see the complete documentation."
   ]
  },
  {
   "cell_type": "code",
   "execution_count": 16,
   "id": "077f26d1-dfcc-4c0b-8a38-82ec66dd0a10",
   "metadata": {
    "tags": []
   },
   "outputs": [],
   "source": [
    "# import liblary\n",
    "import numpy as np"
   ]
  },
  {
   "cell_type": "code",
   "execution_count": 17,
   "id": "5e15d60a-b553-4eee-af9e-53dcd1ea1862",
   "metadata": {
    "tags": []
   },
   "outputs": [
    {
     "name": "stdout",
     "output_type": "stream",
     "text": [
      "[1 2 3 4 5]\n"
     ]
    }
   ],
   "source": [
    "# creating an array from a python list\n",
    "arr = np.array([1,2,3,4,5])\n",
    "print(arr)"
   ]
  },
  {
   "cell_type": "code",
   "execution_count": 18,
   "id": "6499eb1d-bfea-4948-8878-b559005b279b",
   "metadata": {
    "tags": []
   },
   "outputs": [
    {
     "name": "stdout",
     "output_type": "stream",
     "text": [
      "[0 2 4 6 8]\n"
     ]
    }
   ],
   "source": [
    "# range of values\n",
    "range_arr = np.arange(0,10,2) # start,stop,step\n",
    "print(range_arr)"
   ]
  },
  {
   "cell_type": "code",
   "execution_count": 19,
   "id": "835cf8d8-cc17-45ae-b700-4de226cfb1a6",
   "metadata": {
    "tags": []
   },
   "outputs": [],
   "source": [
    "# other example\n",
    "a = np.array([1,2,3])\n",
    "b = np.array([4,5,6])"
   ]
  },
  {
   "cell_type": "code",
   "execution_count": 20,
   "id": "bf3c5079-3e21-42a4-8c3f-ccbe6eae8259",
   "metadata": {
    "tags": []
   },
   "outputs": [
    {
     "name": "stdout",
     "output_type": "stream",
     "text": [
      "[5 7 9]\n",
      "[ 4 10 18]\n",
      "[0.25 0.4  0.5 ]\n"
     ]
    }
   ],
   "source": [
    "# arithmatic operation\n",
    "print(a + b)\n",
    "print(a * b)\n",
    "print(a / b)"
   ]
  },
  {
   "cell_type": "markdown",
   "id": "48cf1f02-f376-4a3a-ad5c-4fa03e4929e5",
   "metadata": {},
   "source": [
    ">### Pandas\n",
    ">pandas is an open source, BSD-licensed library providing high-performance, easy-to-use data structures and data analysis tools for the Python programming language."
   ]
  },
  {
   "cell_type": "code",
   "execution_count": 21,
   "id": "4366096f-71dc-4e4a-81e2-105dac5d522a",
   "metadata": {
    "tags": []
   },
   "outputs": [],
   "source": [
    "import pandas as pd"
   ]
  },
  {
   "cell_type": "code",
   "execution_count": 22,
   "id": "9fd6ba47-caa1-45e5-918e-769faaddd818",
   "metadata": {
    "tags": []
   },
   "outputs": [],
   "source": [
    "# example of series (one dim array)\n",
    "vals = [1,2,3]\n",
    "idxs = ['a','b','c']"
   ]
  },
  {
   "cell_type": "code",
   "execution_count": 24,
   "id": "a1fd058a-b4e2-45b8-8dd2-0ad4862230c9",
   "metadata": {
    "tags": []
   },
   "outputs": [
    {
     "name": "stdout",
     "output_type": "stream",
     "text": [
      "a    1\n",
      "b    2\n",
      "c    3\n",
      "dtype: int64\n"
     ]
    }
   ],
   "source": [
    "# call series module with\n",
    "s = pd.Series(vals,idxs)\n",
    "print(s)"
   ]
  },
  {
   "cell_type": "code",
   "execution_count": 25,
   "id": "d4b780a0-e240-4277-bebd-fb5c8e533b6b",
   "metadata": {
    "tags": []
   },
   "outputs": [],
   "source": [
    "# opening and reading text data (csv)\n",
    "df = pd.read_csv('https://data.jakarta.go.id/dataset/14ab98731e79939ecaa26ee4222531d2/resource/9f1c2bb6164087f0f0c62b3451e24dd9/download/Data-Penumpang-Bus-Transjakarta-Desember-2021.csv')"
   ]
  },
  {
   "cell_type": "code",
   "execution_count": 26,
   "id": "f9e2f57c-2185-4fa1-927e-1153156455db",
   "metadata": {
    "tags": []
   },
   "outputs": [
    {
     "data": {
      "text/html": [
       "<div>\n",
       "<style scoped>\n",
       "    .dataframe tbody tr th:only-of-type {\n",
       "        vertical-align: middle;\n",
       "    }\n",
       "\n",
       "    .dataframe tbody tr th {\n",
       "        vertical-align: top;\n",
       "    }\n",
       "\n",
       "    .dataframe thead th {\n",
       "        text-align: right;\n",
       "    }\n",
       "</style>\n",
       "<table border=\"1\" class=\"dataframe\">\n",
       "  <thead>\n",
       "    <tr style=\"text-align: right;\">\n",
       "      <th></th>\n",
       "      <th>tahun</th>\n",
       "      <th>bulan</th>\n",
       "      <th>jenis</th>\n",
       "      <th>kode_trayek</th>\n",
       "      <th>trayek</th>\n",
       "      <th>jumlah_penumpang</th>\n",
       "    </tr>\n",
       "  </thead>\n",
       "  <tbody>\n",
       "    <tr>\n",
       "      <th>0</th>\n",
       "      <td>2021</td>\n",
       "      <td>12</td>\n",
       "      <td>Mikrotrans</td>\n",
       "      <td>JAK.88</td>\n",
       "      <td>Terminal Tanjung Priok - Ancol Barat</td>\n",
       "      <td>43967</td>\n",
       "    </tr>\n",
       "    <tr>\n",
       "      <th>1</th>\n",
       "      <td>2021</td>\n",
       "      <td>12</td>\n",
       "      <td>Mikrotrans</td>\n",
       "      <td>JAK.85</td>\n",
       "      <td>Bintara - Cipinang Indah</td>\n",
       "      <td>40103</td>\n",
       "    </tr>\n",
       "    <tr>\n",
       "      <th>2</th>\n",
       "      <td>2021</td>\n",
       "      <td>12</td>\n",
       "      <td>Mikrotrans</td>\n",
       "      <td>JAK.84</td>\n",
       "      <td>Terminal Kampung Melayu - Kapin Raya</td>\n",
       "      <td>59193</td>\n",
       "    </tr>\n",
       "    <tr>\n",
       "      <th>3</th>\n",
       "      <td>2021</td>\n",
       "      <td>12</td>\n",
       "      <td>Mikrotrans</td>\n",
       "      <td>JAK.80</td>\n",
       "      <td>Rawa Buaya - Rawa Kompeni</td>\n",
       "      <td>70475</td>\n",
       "    </tr>\n",
       "    <tr>\n",
       "      <th>4</th>\n",
       "      <td>2021</td>\n",
       "      <td>12</td>\n",
       "      <td>Mikrotrans</td>\n",
       "      <td>JAK.77</td>\n",
       "      <td>Tanjung Priok - Jembatan Item</td>\n",
       "      <td>77697</td>\n",
       "    </tr>\n",
       "    <tr>\n",
       "      <th>...</th>\n",
       "      <td>...</td>\n",
       "      <td>...</td>\n",
       "      <td>...</td>\n",
       "      <td>...</td>\n",
       "      <td>...</td>\n",
       "      <td>...</td>\n",
       "    </tr>\n",
       "    <tr>\n",
       "      <th>117</th>\n",
       "      <td>2021</td>\n",
       "      <td>12</td>\n",
       "      <td>Angkutan Umum Integrasi</td>\n",
       "      <td>1A</td>\n",
       "      <td>PIK - Balai Kota</td>\n",
       "      <td>0</td>\n",
       "    </tr>\n",
       "    <tr>\n",
       "      <th>118</th>\n",
       "      <td>2021</td>\n",
       "      <td>12</td>\n",
       "      <td>Angkutan Umum Integrasi</td>\n",
       "      <td>12B</td>\n",
       "      <td>Pluit - Senen</td>\n",
       "      <td>0</td>\n",
       "    </tr>\n",
       "    <tr>\n",
       "      <th>119</th>\n",
       "      <td>2021</td>\n",
       "      <td>12</td>\n",
       "      <td>Angkutan Umum Integrasi</td>\n",
       "      <td>11Q</td>\n",
       "      <td>Kampung Melayu - Pulo Gebang via BKT</td>\n",
       "      <td>0</td>\n",
       "    </tr>\n",
       "    <tr>\n",
       "      <th>120</th>\n",
       "      <td>2021</td>\n",
       "      <td>12</td>\n",
       "      <td>Angkutan Umum Integrasi</td>\n",
       "      <td>11D</td>\n",
       "      <td>Pulo Gebang - Pulo Gadung 2 via PIK</td>\n",
       "      <td>0</td>\n",
       "    </tr>\n",
       "    <tr>\n",
       "      <th>121</th>\n",
       "      <td>2021</td>\n",
       "      <td>12</td>\n",
       "      <td>Angkutan Umum Integrasi</td>\n",
       "      <td>10K</td>\n",
       "      <td>Tanjung Priok - Senen via Taman  BMW</td>\n",
       "      <td>0</td>\n",
       "    </tr>\n",
       "  </tbody>\n",
       "</table>\n",
       "<p>122 rows × 6 columns</p>\n",
       "</div>"
      ],
      "text/plain": [
       "     tahun  bulan                    jenis kode_trayek  \\\n",
       "0     2021     12               Mikrotrans      JAK.88   \n",
       "1     2021     12               Mikrotrans      JAK.85   \n",
       "2     2021     12               Mikrotrans      JAK.84   \n",
       "3     2021     12               Mikrotrans      JAK.80   \n",
       "4     2021     12               Mikrotrans      JAK.77   \n",
       "..     ...    ...                      ...         ...   \n",
       "117   2021     12  Angkutan Umum Integrasi          1A   \n",
       "118   2021     12  Angkutan Umum Integrasi         12B   \n",
       "119   2021     12  Angkutan Umum Integrasi         11Q   \n",
       "120   2021     12  Angkutan Umum Integrasi         11D   \n",
       "121   2021     12  Angkutan Umum Integrasi         10K   \n",
       "\n",
       "                                   trayek  jumlah_penumpang  \n",
       "0    Terminal Tanjung Priok - Ancol Barat             43967  \n",
       "1                Bintara - Cipinang Indah             40103  \n",
       "2    Terminal Kampung Melayu - Kapin Raya             59193  \n",
       "3               Rawa Buaya - Rawa Kompeni             70475  \n",
       "4           Tanjung Priok - Jembatan Item             77697  \n",
       "..                                    ...               ...  \n",
       "117                      PIK - Balai Kota                 0  \n",
       "118                         Pluit - Senen                 0  \n",
       "119  Kampung Melayu - Pulo Gebang via BKT                 0  \n",
       "120   Pulo Gebang - Pulo Gadung 2 via PIK                 0  \n",
       "121  Tanjung Priok - Senen via Taman  BMW                 0  \n",
       "\n",
       "[122 rows x 6 columns]"
      ]
     },
     "execution_count": 26,
     "metadata": {},
     "output_type": "execute_result"
    }
   ],
   "source": [
    "df"
   ]
  },
  {
   "cell_type": "code",
   "execution_count": 28,
   "id": "44a2acad-e9ac-4aba-92cf-281490a15d99",
   "metadata": {
    "tags": []
   },
   "outputs": [
    {
     "data": {
      "text/html": [
       "<div>\n",
       "<style scoped>\n",
       "    .dataframe tbody tr th:only-of-type {\n",
       "        vertical-align: middle;\n",
       "    }\n",
       "\n",
       "    .dataframe tbody tr th {\n",
       "        vertical-align: top;\n",
       "    }\n",
       "\n",
       "    .dataframe thead th {\n",
       "        text-align: right;\n",
       "    }\n",
       "</style>\n",
       "<table border=\"1\" class=\"dataframe\">\n",
       "  <thead>\n",
       "    <tr style=\"text-align: right;\">\n",
       "      <th></th>\n",
       "      <th>tahun</th>\n",
       "      <th>bulan</th>\n",
       "      <th>jenis</th>\n",
       "      <th>kode_trayek</th>\n",
       "      <th>trayek</th>\n",
       "      <th>jumlah_penumpang</th>\n",
       "    </tr>\n",
       "  </thead>\n",
       "  <tbody>\n",
       "    <tr>\n",
       "      <th>99</th>\n",
       "      <td>2021</td>\n",
       "      <td>12</td>\n",
       "      <td>Angkutan Umum Integrasi</td>\n",
       "      <td>6H</td>\n",
       "      <td>Senen - Lebak Bulus</td>\n",
       "      <td>8</td>\n",
       "    </tr>\n",
       "    <tr>\n",
       "      <th>107</th>\n",
       "      <td>2021</td>\n",
       "      <td>12</td>\n",
       "      <td>Angkutan Umum Integrasi</td>\n",
       "      <td>1R</td>\n",
       "      <td>Senen - Tanah Abang</td>\n",
       "      <td>176</td>\n",
       "    </tr>\n",
       "  </tbody>\n",
       "</table>\n",
       "</div>"
      ],
      "text/plain": [
       "     tahun  bulan                    jenis kode_trayek               trayek  \\\n",
       "99    2021     12  Angkutan Umum Integrasi          6H  Senen - Lebak Bulus   \n",
       "107   2021     12  Angkutan Umum Integrasi          1R  Senen - Tanah Abang   \n",
       "\n",
       "     jumlah_penumpang  \n",
       "99                  8  \n",
       "107               176  "
      ]
     },
     "execution_count": 28,
     "metadata": {},
     "output_type": "execute_result"
    }
   ],
   "source": [
    "df[(df[\"jumlah_penumpang\"] > 0) & (df[\"jenis\"] == \"Angkutan Umum Integrasi\")]"
   ]
  },
  {
   "cell_type": "code",
   "execution_count": 33,
   "id": "5d771c1e-6848-4b53-84df-469c7c17b7e5",
   "metadata": {
    "tags": []
   },
   "outputs": [
    {
     "data": {
      "text/html": [
       "<div>\n",
       "<style scoped>\n",
       "    .dataframe tbody tr th:only-of-type {\n",
       "        vertical-align: middle;\n",
       "    }\n",
       "\n",
       "    .dataframe tbody tr th {\n",
       "        vertical-align: top;\n",
       "    }\n",
       "\n",
       "    .dataframe thead th {\n",
       "        text-align: right;\n",
       "    }\n",
       "</style>\n",
       "<table border=\"1\" class=\"dataframe\">\n",
       "  <thead>\n",
       "    <tr style=\"text-align: right;\">\n",
       "      <th></th>\n",
       "      <th>tahun</th>\n",
       "      <th>bulan</th>\n",
       "      <th>jenis</th>\n",
       "      <th>kode_trayek</th>\n",
       "      <th>trayek</th>\n",
       "      <th>jumlah_penumpang</th>\n",
       "    </tr>\n",
       "  </thead>\n",
       "  <tbody>\n",
       "    <tr>\n",
       "      <th>85</th>\n",
       "      <td>2021</td>\n",
       "      <td>12</td>\n",
       "      <td>Angkutan Umum Integrasi</td>\n",
       "      <td>9H</td>\n",
       "      <td>Cipedak - Blok M</td>\n",
       "      <td>0</td>\n",
       "    </tr>\n",
       "    <tr>\n",
       "      <th>86</th>\n",
       "      <td>2021</td>\n",
       "      <td>12</td>\n",
       "      <td>Angkutan Umum Integrasi</td>\n",
       "      <td>9E</td>\n",
       "      <td>Kebayoran Lama - Jelambar</td>\n",
       "      <td>0</td>\n",
       "    </tr>\n",
       "    <tr>\n",
       "      <th>87</th>\n",
       "      <td>2021</td>\n",
       "      <td>12</td>\n",
       "      <td>Angkutan Umum Integrasi</td>\n",
       "      <td>9D</td>\n",
       "      <td>Pasar Minggu - Tanah Abang</td>\n",
       "      <td>0</td>\n",
       "    </tr>\n",
       "    <tr>\n",
       "      <th>88</th>\n",
       "      <td>2021</td>\n",
       "      <td>12</td>\n",
       "      <td>Angkutan Umum Integrasi</td>\n",
       "      <td>8K</td>\n",
       "      <td>Batu Sari-Tanah Abang</td>\n",
       "      <td>0</td>\n",
       "    </tr>\n",
       "    <tr>\n",
       "      <th>89</th>\n",
       "      <td>2021</td>\n",
       "      <td>12</td>\n",
       "      <td>Angkutan Umum Integrasi</td>\n",
       "      <td>8E</td>\n",
       "      <td>Bintaro - Blok M</td>\n",
       "      <td>0</td>\n",
       "    </tr>\n",
       "    <tr>\n",
       "      <th>90</th>\n",
       "      <td>2021</td>\n",
       "      <td>12</td>\n",
       "      <td>Angkutan Umum Integrasi</td>\n",
       "      <td>8D</td>\n",
       "      <td>Joglo - Blok M</td>\n",
       "      <td>0</td>\n",
       "    </tr>\n",
       "    <tr>\n",
       "      <th>91</th>\n",
       "      <td>2021</td>\n",
       "      <td>12</td>\n",
       "      <td>Angkutan Umum Integrasi</td>\n",
       "      <td>8C</td>\n",
       "      <td>Kebayoran Lama - Tanah Abang</td>\n",
       "      <td>0</td>\n",
       "    </tr>\n",
       "    <tr>\n",
       "      <th>92</th>\n",
       "      <td>2021</td>\n",
       "      <td>12</td>\n",
       "      <td>Angkutan Umum Integrasi</td>\n",
       "      <td>7P</td>\n",
       "      <td>Pondok Kelapa - BKN</td>\n",
       "      <td>0</td>\n",
       "    </tr>\n",
       "    <tr>\n",
       "      <th>93</th>\n",
       "      <td>2021</td>\n",
       "      <td>12</td>\n",
       "      <td>Angkutan Umum Integrasi</td>\n",
       "      <td>7D</td>\n",
       "      <td>Pancoran - TMII</td>\n",
       "      <td>0</td>\n",
       "    </tr>\n",
       "    <tr>\n",
       "      <th>94</th>\n",
       "      <td>2021</td>\n",
       "      <td>12</td>\n",
       "      <td>Angkutan Umum Integrasi</td>\n",
       "      <td>7B</td>\n",
       "      <td>Kampung Rambutan - Blok M</td>\n",
       "      <td>0</td>\n",
       "    </tr>\n",
       "    <tr>\n",
       "      <th>95</th>\n",
       "      <td>2021</td>\n",
       "      <td>12</td>\n",
       "      <td>Angkutan Umum Integrasi</td>\n",
       "      <td>7A</td>\n",
       "      <td>Kampung Rambutan - Lebak Bulus</td>\n",
       "      <td>0</td>\n",
       "    </tr>\n",
       "    <tr>\n",
       "      <th>96</th>\n",
       "      <td>2021</td>\n",
       "      <td>12</td>\n",
       "      <td>Angkutan Umum Integrasi</td>\n",
       "      <td>6R</td>\n",
       "      <td>Ragunan - Stasin MRT Fatmawati</td>\n",
       "      <td>0</td>\n",
       "    </tr>\n",
       "    <tr>\n",
       "      <th>97</th>\n",
       "      <td>2021</td>\n",
       "      <td>12</td>\n",
       "      <td>Angkutan Umum Integrasi</td>\n",
       "      <td>6N</td>\n",
       "      <td>Ragunan - Blok M via Kemang</td>\n",
       "      <td>0</td>\n",
       "    </tr>\n",
       "    <tr>\n",
       "      <th>98</th>\n",
       "      <td>2021</td>\n",
       "      <td>12</td>\n",
       "      <td>Angkutan Umum Integrasi</td>\n",
       "      <td>6M</td>\n",
       "      <td>Stasiun Manggarai - Blok  M</td>\n",
       "      <td>0</td>\n",
       "    </tr>\n",
       "    <tr>\n",
       "      <th>100</th>\n",
       "      <td>2021</td>\n",
       "      <td>12</td>\n",
       "      <td>Angkutan Umum Integrasi</td>\n",
       "      <td>6C</td>\n",
       "      <td>Stasin Tebet - Karet via Patra Kuningan</td>\n",
       "      <td>0</td>\n",
       "    </tr>\n",
       "    <tr>\n",
       "      <th>101</th>\n",
       "      <td>2021</td>\n",
       "      <td>12</td>\n",
       "      <td>Angkutan Umum Integrasi</td>\n",
       "      <td>5M</td>\n",
       "      <td>Kampung Melayu - Tanah Abang via Cikini</td>\n",
       "      <td>0</td>\n",
       "    </tr>\n",
       "    <tr>\n",
       "      <th>102</th>\n",
       "      <td>2021</td>\n",
       "      <td>12</td>\n",
       "      <td>Angkutan Umum Integrasi</td>\n",
       "      <td>5F</td>\n",
       "      <td>Kampung Melayu - Tanah Abang</td>\n",
       "      <td>0</td>\n",
       "    </tr>\n",
       "    <tr>\n",
       "      <th>103</th>\n",
       "      <td>2021</td>\n",
       "      <td>12</td>\n",
       "      <td>Angkutan Umum Integrasi</td>\n",
       "      <td>5B</td>\n",
       "      <td>Stasiun Tebet - Bidara Cina</td>\n",
       "      <td>0</td>\n",
       "    </tr>\n",
       "    <tr>\n",
       "      <th>104</th>\n",
       "      <td>2021</td>\n",
       "      <td>12</td>\n",
       "      <td>Angkutan Umum Integrasi</td>\n",
       "      <td>4F</td>\n",
       "      <td>Pinang Ranti - Pulo Gadung</td>\n",
       "      <td>0</td>\n",
       "    </tr>\n",
       "    <tr>\n",
       "      <th>105</th>\n",
       "      <td>2021</td>\n",
       "      <td>12</td>\n",
       "      <td>Angkutan Umum Integrasi</td>\n",
       "      <td>4B</td>\n",
       "      <td>Stasiun Manggarai - UI</td>\n",
       "      <td>0</td>\n",
       "    </tr>\n",
       "    <tr>\n",
       "      <th>106</th>\n",
       "      <td>2021</td>\n",
       "      <td>12</td>\n",
       "      <td>Angkutan Umum Integrasi</td>\n",
       "      <td>3E</td>\n",
       "      <td>Sentraland Cengkareng - Puri Kembangan</td>\n",
       "      <td>0</td>\n",
       "    </tr>\n",
       "    <tr>\n",
       "      <th>108</th>\n",
       "      <td>2021</td>\n",
       "      <td>12</td>\n",
       "      <td>Angkutan Umum Integrasi</td>\n",
       "      <td>1Q</td>\n",
       "      <td>Rempoa - Blok M</td>\n",
       "      <td>0</td>\n",
       "    </tr>\n",
       "    <tr>\n",
       "      <th>109</th>\n",
       "      <td>2021</td>\n",
       "      <td>12</td>\n",
       "      <td>Angkutan Umum Integrasi</td>\n",
       "      <td>1P</td>\n",
       "      <td>Senen - Bundaran Senayan</td>\n",
       "      <td>0</td>\n",
       "    </tr>\n",
       "    <tr>\n",
       "      <th>110</th>\n",
       "      <td>2021</td>\n",
       "      <td>12</td>\n",
       "      <td>Angkutan Umum Integrasi</td>\n",
       "      <td>1N</td>\n",
       "      <td>Tanah Abang - Blok M</td>\n",
       "      <td>0</td>\n",
       "    </tr>\n",
       "    <tr>\n",
       "      <th>111</th>\n",
       "      <td>2021</td>\n",
       "      <td>12</td>\n",
       "      <td>Angkutan Umum Integrasi</td>\n",
       "      <td>1M</td>\n",
       "      <td>Meruya - Blok M</td>\n",
       "      <td>0</td>\n",
       "    </tr>\n",
       "    <tr>\n",
       "      <th>112</th>\n",
       "      <td>2021</td>\n",
       "      <td>12</td>\n",
       "      <td>Angkutan Umum Integrasi</td>\n",
       "      <td>1H</td>\n",
       "      <td>Tanah Abang - Stasiun Gondangdia</td>\n",
       "      <td>0</td>\n",
       "    </tr>\n",
       "    <tr>\n",
       "      <th>113</th>\n",
       "      <td>2021</td>\n",
       "      <td>12</td>\n",
       "      <td>Angkutan Umum Integrasi</td>\n",
       "      <td>1F</td>\n",
       "      <td>Stasiun Palmerah - Bundaran Senayan</td>\n",
       "      <td>0</td>\n",
       "    </tr>\n",
       "    <tr>\n",
       "      <th>114</th>\n",
       "      <td>2021</td>\n",
       "      <td>12</td>\n",
       "      <td>Angkutan Umum Integrasi</td>\n",
       "      <td>1E</td>\n",
       "      <td>Pondok  Labu - Blok M</td>\n",
       "      <td>0</td>\n",
       "    </tr>\n",
       "    <tr>\n",
       "      <th>115</th>\n",
       "      <td>2021</td>\n",
       "      <td>12</td>\n",
       "      <td>Angkutan Umum Integrasi</td>\n",
       "      <td>1C</td>\n",
       "      <td>Pesanggrahan - Blok M</td>\n",
       "      <td>0</td>\n",
       "    </tr>\n",
       "    <tr>\n",
       "      <th>116</th>\n",
       "      <td>2021</td>\n",
       "      <td>12</td>\n",
       "      <td>Angkutan Umum Integrasi</td>\n",
       "      <td>1B</td>\n",
       "      <td>Stasiun Palmerah - Tosari</td>\n",
       "      <td>0</td>\n",
       "    </tr>\n",
       "    <tr>\n",
       "      <th>117</th>\n",
       "      <td>2021</td>\n",
       "      <td>12</td>\n",
       "      <td>Angkutan Umum Integrasi</td>\n",
       "      <td>1A</td>\n",
       "      <td>PIK - Balai Kota</td>\n",
       "      <td>0</td>\n",
       "    </tr>\n",
       "    <tr>\n",
       "      <th>118</th>\n",
       "      <td>2021</td>\n",
       "      <td>12</td>\n",
       "      <td>Angkutan Umum Integrasi</td>\n",
       "      <td>12B</td>\n",
       "      <td>Pluit - Senen</td>\n",
       "      <td>0</td>\n",
       "    </tr>\n",
       "    <tr>\n",
       "      <th>119</th>\n",
       "      <td>2021</td>\n",
       "      <td>12</td>\n",
       "      <td>Angkutan Umum Integrasi</td>\n",
       "      <td>11Q</td>\n",
       "      <td>Kampung Melayu - Pulo Gebang via BKT</td>\n",
       "      <td>0</td>\n",
       "    </tr>\n",
       "    <tr>\n",
       "      <th>120</th>\n",
       "      <td>2021</td>\n",
       "      <td>12</td>\n",
       "      <td>Angkutan Umum Integrasi</td>\n",
       "      <td>11D</td>\n",
       "      <td>Pulo Gebang - Pulo Gadung 2 via PIK</td>\n",
       "      <td>0</td>\n",
       "    </tr>\n",
       "    <tr>\n",
       "      <th>121</th>\n",
       "      <td>2021</td>\n",
       "      <td>12</td>\n",
       "      <td>Angkutan Umum Integrasi</td>\n",
       "      <td>10K</td>\n",
       "      <td>Tanjung Priok - Senen via Taman  BMW</td>\n",
       "      <td>0</td>\n",
       "    </tr>\n",
       "  </tbody>\n",
       "</table>\n",
       "</div>"
      ],
      "text/plain": [
       "     tahun  bulan                    jenis kode_trayek  \\\n",
       "85    2021     12  Angkutan Umum Integrasi          9H   \n",
       "86    2021     12  Angkutan Umum Integrasi          9E   \n",
       "87    2021     12  Angkutan Umum Integrasi          9D   \n",
       "88    2021     12  Angkutan Umum Integrasi          8K   \n",
       "89    2021     12  Angkutan Umum Integrasi          8E   \n",
       "90    2021     12  Angkutan Umum Integrasi          8D   \n",
       "91    2021     12  Angkutan Umum Integrasi          8C   \n",
       "92    2021     12  Angkutan Umum Integrasi          7P   \n",
       "93    2021     12  Angkutan Umum Integrasi          7D   \n",
       "94    2021     12  Angkutan Umum Integrasi          7B   \n",
       "95    2021     12  Angkutan Umum Integrasi          7A   \n",
       "96    2021     12  Angkutan Umum Integrasi          6R   \n",
       "97    2021     12  Angkutan Umum Integrasi          6N   \n",
       "98    2021     12  Angkutan Umum Integrasi          6M   \n",
       "100   2021     12  Angkutan Umum Integrasi          6C   \n",
       "101   2021     12  Angkutan Umum Integrasi          5M   \n",
       "102   2021     12  Angkutan Umum Integrasi          5F   \n",
       "103   2021     12  Angkutan Umum Integrasi          5B   \n",
       "104   2021     12  Angkutan Umum Integrasi          4F   \n",
       "105   2021     12  Angkutan Umum Integrasi          4B   \n",
       "106   2021     12  Angkutan Umum Integrasi          3E   \n",
       "108   2021     12  Angkutan Umum Integrasi          1Q   \n",
       "109   2021     12  Angkutan Umum Integrasi          1P   \n",
       "110   2021     12  Angkutan Umum Integrasi          1N   \n",
       "111   2021     12  Angkutan Umum Integrasi          1M   \n",
       "112   2021     12  Angkutan Umum Integrasi          1H   \n",
       "113   2021     12  Angkutan Umum Integrasi          1F   \n",
       "114   2021     12  Angkutan Umum Integrasi          1E   \n",
       "115   2021     12  Angkutan Umum Integrasi          1C   \n",
       "116   2021     12  Angkutan Umum Integrasi          1B   \n",
       "117   2021     12  Angkutan Umum Integrasi          1A   \n",
       "118   2021     12  Angkutan Umum Integrasi         12B   \n",
       "119   2021     12  Angkutan Umum Integrasi         11Q   \n",
       "120   2021     12  Angkutan Umum Integrasi         11D   \n",
       "121   2021     12  Angkutan Umum Integrasi         10K   \n",
       "\n",
       "                                      trayek  jumlah_penumpang  \n",
       "85                          Cipedak - Blok M                 0  \n",
       "86                 Kebayoran Lama - Jelambar                 0  \n",
       "87                Pasar Minggu - Tanah Abang                 0  \n",
       "88                     Batu Sari-Tanah Abang                 0  \n",
       "89                          Bintaro - Blok M                 0  \n",
       "90                            Joglo - Blok M                 0  \n",
       "91              Kebayoran Lama - Tanah Abang                 0  \n",
       "92                       Pondok Kelapa - BKN                 0  \n",
       "93                           Pancoran - TMII                 0  \n",
       "94                 Kampung Rambutan - Blok M                 0  \n",
       "95            Kampung Rambutan - Lebak Bulus                 0  \n",
       "96            Ragunan - Stasin MRT Fatmawati                 0  \n",
       "97               Ragunan - Blok M via Kemang                 0  \n",
       "98               Stasiun Manggarai - Blok  M                 0  \n",
       "100  Stasin Tebet - Karet via Patra Kuningan                 0  \n",
       "101  Kampung Melayu - Tanah Abang via Cikini                 0  \n",
       "102             Kampung Melayu - Tanah Abang                 0  \n",
       "103              Stasiun Tebet - Bidara Cina                 0  \n",
       "104               Pinang Ranti - Pulo Gadung                 0  \n",
       "105                   Stasiun Manggarai - UI                 0  \n",
       "106   Sentraland Cengkareng - Puri Kembangan                 0  \n",
       "108                          Rempoa - Blok M                 0  \n",
       "109                 Senen - Bundaran Senayan                 0  \n",
       "110                     Tanah Abang - Blok M                 0  \n",
       "111                          Meruya - Blok M                 0  \n",
       "112         Tanah Abang - Stasiun Gondangdia                 0  \n",
       "113      Stasiun Palmerah - Bundaran Senayan                 0  \n",
       "114                    Pondok  Labu - Blok M                 0  \n",
       "115                    Pesanggrahan - Blok M                 0  \n",
       "116                Stasiun Palmerah - Tosari                 0  \n",
       "117                         PIK - Balai Kota                 0  \n",
       "118                            Pluit - Senen                 0  \n",
       "119     Kampung Melayu - Pulo Gebang via BKT                 0  \n",
       "120      Pulo Gebang - Pulo Gadung 2 via PIK                 0  \n",
       "121     Tanjung Priok - Senen via Taman  BMW                 0  "
      ]
     },
     "execution_count": 33,
     "metadata": {},
     "output_type": "execute_result"
    }
   ],
   "source": [
    "df[(df[\"jumlah_penumpang\"] == 0)]"
   ]
  },
  {
   "cell_type": "markdown",
   "id": "4c1bf733-ef09-4399-a4e1-3e0bc4158442",
   "metadata": {},
   "source": [
    "### REFERENCE\n",
    "1. https://www.w3schools.com/python/python_modules.asp\n",
    "2. https://docs.python.org/3/library/index.html\n",
    "3. https://numpy.org/doc/stable/reference/index.html\n",
    "4. https://pandas.pydata.org/docs/index.html\n",
    "5. https://data.jakarta.go.id/dataset/data-penumpang-bus-transjakarta-januari-2021/resource/9f1c2bb6164087f0f0c62b3451e24dd9"
   ]
  },
  {
   "cell_type": "code",
   "execution_count": null,
   "id": "29cdf368-935e-492f-a0cd-fb5a97de259a",
   "metadata": {},
   "outputs": [],
   "source": []
  }
 ],
 "metadata": {
  "kernelspec": {
   "display_name": "Python 3 (ipykernel)",
   "language": "python",
   "name": "python3"
  },
  "language_info": {
   "codemirror_mode": {
    "name": "ipython",
    "version": 3
   },
   "file_extension": ".py",
   "mimetype": "text/x-python",
   "name": "python",
   "nbconvert_exporter": "python",
   "pygments_lexer": "ipython3",
   "version": "3.11.4"
  }
 },
 "nbformat": 4,
 "nbformat_minor": 5
}
