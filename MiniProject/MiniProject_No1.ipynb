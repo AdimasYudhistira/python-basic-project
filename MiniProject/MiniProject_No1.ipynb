{
 "cells": [
  {
   "cell_type": "code",
   "execution_count": 1,
   "id": "f6c7fcb1-2b25-4520-bd09-a00cd2fad99a",
   "metadata": {
    "tags": []
   },
   "outputs": [
    {
     "name": "stdin",
     "output_type": "stream",
     "text": [
      "Masukkan data keluarga ke-1 (contoh: 'Adi Alkatiri | 6.7'):  adi|0\n",
      "Masukkan data keluarga ke-2 (contoh: 'Adi Alkatiri | 6.7'):  budi beriman|2\n",
      "Masukkan data keluarga ke-3 (contoh: 'Adi Alkatiri | 6.7'):  cyntia|3\n",
      "Masukkan data keluarga ke-4 (contoh: 'Adi Alkatiri | 6.7'):  deni alfarisi|4\n",
      "Masukkan data keluarga ke-5 (contoh: 'Adi Alkatiri | 6.7'):  eko fahrudin|6.2\n",
      "Masukkan data keluarga ke-6 (contoh: 'Adi Alkatiri | 6.7'):  fani veronica|7.2\n",
      "Masukkan data keluarga ke-7 (contoh: 'Adi Alkatiri | 6.7'):  ghani berwawasan|89\n",
      "Masukkan data keluarga ke-8 (contoh: 'Adi Alkatiri | 6.7'):  hendra setiawan|19\n",
      "Masukkan data keluarga ke-9 (contoh: 'Adi Alkatiri | 6.7'):  indira|5\n",
      "Masukkan data keluarga ke-10 (contoh: 'Adi Alkatiri | 6.7'):  joni alkatiri|100\n"
     ]
    },
    {
     "name": "stdout",
     "output_type": "stream",
     "text": [
      "               Nama  Penghasilan Status_Ekonomi\n",
      "0               adi          0.0         rentan\n",
      "1      budi beriman          2.0        mandiri\n",
      "2            cyntia          3.0        mandiri\n",
      "3     deni alfarisi          4.0        mandiri\n",
      "4      eko fahrudin          6.2         makmur\n",
      "5     fani veronica          7.2         makmur\n",
      "6  ghani berwawasan         89.0     crazy rich\n",
      "7   hendra setiawan         19.0     crazy rich\n",
      "8            indira          5.0         makmur\n",
      "9     joni alkatiri        100.0     crazy rich\n",
      "Data telah disimpan dalam 'data.csv'.\n"
     ]
    }
   ],
   "source": [
    "import pandas as pd\n",
    "\n",
    "def status_ekonomi(penghasilan):\n",
    "    if penghasilan > 15:\n",
    "        return \"crazy rich\"\n",
    "    elif 5 <= penghasilan <= 15:\n",
    "        return \"makmur\"\n",
    "    elif 2 <= penghasilan < 5:\n",
    "        return \"mandiri\"\n",
    "    elif 1 <= penghasilan < 2:\n",
    "        return \"butuh pendampingan\"\n",
    "    elif 0 <= penghasilan < 1:\n",
    "        return \"rentan\"\n",
    "    else:\n",
    "        raise ValueError(\"Penghasilan tidak mungkin negatif\")\n",
    "\n",
    "list_data = []\n",
    "\n",
    "# Lakukan input dari user sebanyak 10 kali\n",
    "input_count = 0\n",
    "while input_count < 10:\n",
    "    input_user = input(f\"Masukkan data keluarga ke-{input_count + 1} (contoh: 'Adi Alkatiri | 6.7'): \")\n",
    "    data = input_user.split('|')\n",
    "    \n",
    "    if len(data) != 2:\n",
    "        print(\"Format input tidak valid. Silakan ulangi input.\")\n",
    "        continue  # Melanjutkan ke iterasi berikutnya jika format tidak valid\n",
    "    \n",
    "    try:\n",
    "        nama_kepala_keluarga = data[0].strip()\n",
    "        penghasilan = float(data[1].strip().replace(',', '.'))  # Ganti koma dengan titik dan konversi ke float\n",
    "        \n",
    "        if penghasilan < 0:\n",
    "            print(\"Penghasilan tidak boleh negatif. Silakan ulangi input.\")\n",
    "            continue  # Melanjutkan ke iterasi berikutnya jika penghasilan negatif\n",
    "        \n",
    "        status = status_ekonomi(penghasilan)\n",
    "        \n",
    "        input_count += 1  # Tambahkan input_count hanya jika input valid\n",
    "    except ValueError as e:\n",
    "        print(f\"Error: {e}\")\n",
    "        \n",
    "# Menambahkan data ke dalam list\n",
    "    list_data.append([nama_kepala_keluarga, penghasilan, status])\n",
    "        \n",
    "# Membuat DataFrame dari list data\n",
    "df = pd.DataFrame(list_data, columns=[\"Nama\", \"Penghasilan\", \"Status_Ekonomi\"])\n",
    "\n",
    "# Menampilkan DataFrame\n",
    "print(df)\n",
    "\n",
    "# Menyimpan DataFrame ke dalam file CSV\n",
    "df.to_csv('data.csv', index=False)\n",
    "\n",
    "print(\"Data telah disimpan dalam 'data.csv'.\")"
   ]
  },
  {
   "cell_type": "code",
   "execution_count": 2,
   "id": "1f1bbc3d-3c4f-43aa-bdcd-06ea66e0836e",
   "metadata": {
    "tags": []
   },
   "outputs": [
    {
     "data": {
      "text/plain": [
       "'makmur'"
      ]
     },
     "execution_count": 2,
     "metadata": {},
     "output_type": "execute_result"
    }
   ],
   "source": [
    "# Mencoba memanggil function yang telah dibuat\n",
    "status_ekonomi(10)"
   ]
  }
 ],
 "metadata": {
  "kernelspec": {
   "display_name": "Python 3 (ipykernel)",
   "language": "python",
   "name": "python3"
  },
  "language_info": {
   "codemirror_mode": {
    "name": "ipython",
    "version": 3
   },
   "file_extension": ".py",
   "mimetype": "text/x-python",
   "name": "python",
   "nbconvert_exporter": "python",
   "pygments_lexer": "ipython3",
   "version": "3.11.4"
  }
 },
 "nbformat": 4,
 "nbformat_minor": 5
}
