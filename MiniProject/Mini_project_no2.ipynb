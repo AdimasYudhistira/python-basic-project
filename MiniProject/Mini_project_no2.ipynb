{
 "cells": [
  {
   "cell_type": "code",
   "execution_count": null,
   "metadata": {
    "colab": {
     "base_uri": "https://localhost:8080/"
    },
    "id": "jaIgKHXRXBzG",
    "outputId": "b68955ec-7759-412d-8d7a-2d1a9a4e61f6"
   },
   "outputs": [
    {
     "name": "stdout",
     "output_type": "stream",
     "text": [
      "   Nama Mahasiswa       Tugas        UTS        UAS  Nilai Akhir predikat\n",
      "0     Mahasiswa-1   90.298920  54.963230  82.216721    72.931764       B-\n",
      "1     Mahasiswa-2   78.544843  85.035323  63.709482    75.206891        B\n",
      "2     Mahasiswa-3   91.087241  56.106130  69.754797    68.561819       C+\n",
      "3     Mahasiswa-4   94.489465  37.452856  79.893746    65.836534       C+\n",
      "4     Mahasiswa-5   87.894044  56.313854  62.778722    65.215839       C+\n",
      "5     Mahasiswa-6   98.137571  55.909146  82.129984    74.843166       B-\n",
      "6     Mahasiswa-7   79.583476  19.546700  72.596746    52.774074       D+\n",
      "7     Mahasiswa-8   76.287417  59.185577  71.251792    67.432431       C+\n",
      "8     Mahasiswa-9   72.548958  56.535982  82.109600    69.968024       C+\n",
      "9    Mahasiswa-10   95.472310  70.443095  79.442633    79.048753        B\n",
      "10   Mahasiswa-11   89.580560  87.734341  71.390338    81.565984       B+\n",
      "11   Mahasiswa-12   84.610907  76.898475  86.593298    82.318891       B+\n",
      "12   Mahasiswa-13   86.959780  55.966670  64.189367    65.454371       C+\n",
      "13   Mahasiswa-14   77.121577  43.402111  81.159356    65.248902       C+\n",
      "14   Mahasiswa-15  102.120264  98.600397  80.931013    92.236617        A\n",
      "15   Mahasiswa-16   85.904548  60.888277  71.904536    70.298035       B-\n",
      "16   Mahasiswa-17   85.765764  60.208939  78.261330    72.541261       B-\n",
      "17   Mahasiswa-18   90.080366  59.638124  62.488864    66.866868       C+\n",
      "18   Mahasiswa-19   88.367065  62.971271  84.240270    76.558030        B\n",
      "19   Mahasiswa-20   86.567188  57.834594  73.150979    69.707667       C+\n",
      "20   Mahasiswa-21   79.466679  51.395070  69.772770    64.360472        C\n",
      "21   Mahasiswa-22   88.300278  51.797116  85.490092    72.574939       B-\n",
      "22   Mahasiswa-23   98.174171  59.508701  67.956563    70.620940       B-\n",
      "23   Mahasiswa-24   94.417940  51.848628  60.915387    63.989194        C\n",
      "24   Mahasiswa-25   96.152306  49.307313  59.433708    62.726870        C\n",
      "25   Mahasiswa-26   81.421490  61.596453  81.060100    73.346919       B-\n",
      "26   Mahasiswa-27   78.072766  56.175342  62.195706    62.962973        C\n",
      "27   Mahasiswa-28   84.119492  82.559895  92.547942    86.867033        A\n",
      "28   Mahasiswa-29   85.390074  20.235453  54.180706    46.844478        D\n",
      "29   Mahasiswa-30   92.659341  76.372603  91.964564    85.866735        A\n",
      "30   Mahasiswa-31   73.152748  78.691278  77.110175    76.951131        B\n",
      "31   Mahasiswa-32   95.706852  28.899147  74.032869    60.314177        C\n",
      "32   Mahasiswa-33   83.893945  54.859686  69.550809    66.542987       C+\n",
      "33   Mahasiswa-34   82.011833  54.428387  78.991361    69.770266       C+\n",
      "34   Mahasiswa-35   77.915269  38.887325  74.623653    60.987445        C\n",
      "35   Mahasiswa-36   73.416003  48.332750  86.033019    68.429508       C+\n",
      "36   Mahasiswa-37   90.762194  43.341362  76.142276    65.945894       C+\n",
      "37   Mahasiswa-38   85.513226  86.284057  76.503018    82.217475       B+\n",
      "38   Mahasiswa-39   75.970274  74.035176  71.363878    73.353676       B-\n",
      "39   Mahasiswa-40   75.934449  79.073326  74.430544    76.588438        B\n"
     ]
    }
   ],
   "source": [
    "# Import libraries\n",
    "import pandas as pd\n",
    "import numpy as np\n",
    "\n",
    "# Membuat DataFrame dengan 40 mahasiswa\n",
    "data = {\n",
    "    'Nama Mahasiswa': [f'Mahasiswa-{i+1}' for i in range(40)],\n",
    "    'Tugas': np.random.normal(85, 7, 40), # np.random.normal(mean, var, n)\n",
    "    'UTS': np.random.normal(60, 15, 40),\n",
    "    'UAS': np.random.normal(75, 10, 40)\n",
    "}\n",
    "\n",
    "# Menyimpan dalam Data Frame\n",
    "df = pd.DataFrame(data)\n",
    "\n",
    "# Menghitung Nilai Akhir dengan rumus yang disediakan\n",
    "df['Nilai Akhir'] = 0.2 * df['Tugas'] + 0.4 * df['UTS'] + 0.4 * df['UAS']\n",
    "\n",
    "# Membuat kolom baru binning dengan kriteria berikut:\n",
    "bins = [0, 20, 50, 55, 60, 65, 70, 75, 80, 85, 100]\n",
    "labels = ['E', 'D', 'D+', 'C-', 'C', 'C+', 'B-', 'B', 'B+', 'A']\n",
    "df['Predikat'] = pd.cut(df['Nilai Akhir'], bins=bins, labels=labels, include_lowest=True)\n",
    "\n",
    "# Menampilkan DataFrame\n",
    "print(df)"
   ]
  }
 ],
 "metadata": {
  "colab": {
   "provenance": []
  },
  "kernelspec": {
   "display_name": "Python 3 (ipykernel)",
   "language": "python",
   "name": "python3"
  },
  "language_info": {
   "codemirror_mode": {
    "name": "ipython",
    "version": 3
   },
   "file_extension": ".py",
   "mimetype": "text/x-python",
   "name": "python",
   "nbconvert_exporter": "python",
   "pygments_lexer": "ipython3",
   "version": "3.11.4"
  }
 },
 "nbformat": 4,
 "nbformat_minor": 4
}
