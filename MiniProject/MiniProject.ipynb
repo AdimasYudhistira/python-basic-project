{
 "cells": [
  {
   "cell_type": "code",
   "execution_count": 3,
   "id": "af4aa53f-fb28-4ddd-9472-2e7ad50f96f2",
   "metadata": {
    "tags": []
   },
   "outputs": [
    {
     "name": "stdin",
     "output_type": "stream",
     "text": [
      "Masukkan nama kepala keluarga dan penghasilannya (contoh: 'Adi Alkatiri | 6.7'):   Adi |6.7\n"
     ]
    },
    {
     "name": "stdout",
     "output_type": "stream",
     "text": [
      "Keluarga Adi memiliki penghasilan 6.7 juta dan status ekonomi: makmur\n"
     ]
    },
    {
     "name": "stdin",
     "output_type": "stream",
     "text": [
      "Masukkan nama kepala keluarga dan penghasilannya (contoh: 'Adi Alkatiri | 6.7'):  Adi|-1\n"
     ]
    },
    {
     "name": "stdout",
     "output_type": "stream",
     "text": [
      "Penghasilan tidak boleh negatif. Silakan ulangi input.\n"
     ]
    },
    {
     "name": "stdin",
     "output_type": "stream",
     "text": [
      "Masukkan nama kepala keluarga dan penghasilannya (contoh: 'Adi Alkatiri | 6.7'):  Adi|\n"
     ]
    },
    {
     "name": "stdout",
     "output_type": "stream",
     "text": [
      "Error: could not convert string to float: ''\n"
     ]
    },
    {
     "name": "stdin",
     "output_type": "stream",
     "text": [
      "Masukkan nama kepala keluarga dan penghasilannya (contoh: 'Adi Alkatiri | 6.7'):  Adi|3|3\n"
     ]
    },
    {
     "name": "stdout",
     "output_type": "stream",
     "text": [
      "Format input tidak valid. Silakan ulangi input.\n"
     ]
    },
    {
     "name": "stdin",
     "output_type": "stream",
     "text": [
      "Masukkan nama kepala keluarga dan penghasilannya (contoh: 'Adi Alkatiri | 6.7'):  Adi|3|3\n"
     ]
    },
    {
     "name": "stdout",
     "output_type": "stream",
     "text": [
      "Format input tidak valid. Silakan ulangi input.\n"
     ]
    },
    {
     "name": "stdin",
     "output_type": "stream",
     "text": [
      "Masukkan nama kepala keluarga dan penghasilannya (contoh: 'Adi Alkatiri | 6.7'):  Adi|3|3\n"
     ]
    },
    {
     "name": "stdout",
     "output_type": "stream",
     "text": [
      "Format input tidak valid. Silakan ulangi input.\n"
     ]
    },
    {
     "name": "stdin",
     "output_type": "stream",
     "text": [
      "Masukkan nama kepala keluarga dan penghasilannya (contoh: 'Adi Alkatiri | 6.7'):  Adi|3|3\n"
     ]
    },
    {
     "name": "stdout",
     "output_type": "stream",
     "text": [
      "Format input tidak valid. Silakan ulangi input.\n"
     ]
    },
    {
     "name": "stdin",
     "output_type": "stream",
     "text": [
      "Masukkan nama kepala keluarga dan penghasilannya (contoh: 'Adi Alkatiri | 6.7'):  Adi|3|3\n"
     ]
    },
    {
     "name": "stdout",
     "output_type": "stream",
     "text": [
      "Format input tidak valid. Silakan ulangi input.\n"
     ]
    },
    {
     "name": "stdin",
     "output_type": "stream",
     "text": [
      "Masukkan nama kepala keluarga dan penghasilannya (contoh: 'Adi Alkatiri | 6.7'):  Adi|3|3\n"
     ]
    },
    {
     "name": "stdout",
     "output_type": "stream",
     "text": [
      "Format input tidak valid. Silakan ulangi input.\n"
     ]
    },
    {
     "name": "stdin",
     "output_type": "stream",
     "text": [
      "Masukkan nama kepala keluarga dan penghasilannya (contoh: 'Adi Alkatiri | 6.7'):  Adi|3|3\n"
     ]
    },
    {
     "name": "stdout",
     "output_type": "stream",
     "text": [
      "Format input tidak valid. Silakan ulangi input.\n"
     ]
    },
    {
     "name": "stdin",
     "output_type": "stream",
     "text": [
      "Masukkan nama kepala keluarga dan penghasilannya (contoh: 'Adi Alkatiri | 6.7'):  Adi|3|3\n"
     ]
    },
    {
     "name": "stdout",
     "output_type": "stream",
     "text": [
      "Format input tidak valid. Silakan ulangi input.\n"
     ]
    },
    {
     "name": "stdin",
     "output_type": "stream",
     "text": [
      "Masukkan nama kepala keluarga dan penghasilannya (contoh: 'Adi Alkatiri | 6.7'):  Adi|3|3\n"
     ]
    },
    {
     "name": "stdout",
     "output_type": "stream",
     "text": [
      "Format input tidak valid. Silakan ulangi input.\n"
     ]
    },
    {
     "name": "stdin",
     "output_type": "stream",
     "text": [
      "Masukkan nama kepala keluarga dan penghasilannya (contoh: 'Adi Alkatiri | 6.7'):  Adi|3|3\n"
     ]
    },
    {
     "name": "stdout",
     "output_type": "stream",
     "text": [
      "Format input tidak valid. Silakan ulangi input.\n"
     ]
    },
    {
     "name": "stdin",
     "output_type": "stream",
     "text": [
      "Masukkan nama kepala keluarga dan penghasilannya (contoh: 'Adi Alkatiri | 6.7'):  Adi|3|3\n"
     ]
    },
    {
     "name": "stdout",
     "output_type": "stream",
     "text": [
      "Format input tidak valid. Silakan ulangi input.\n"
     ]
    },
    {
     "name": "stdin",
     "output_type": "stream",
     "text": [
      "Masukkan nama kepala keluarga dan penghasilannya (contoh: 'Adi Alkatiri | 6.7'):  Adi|3|3\n"
     ]
    },
    {
     "name": "stdout",
     "output_type": "stream",
     "text": [
      "Format input tidak valid. Silakan ulangi input.\n"
     ]
    },
    {
     "name": "stdin",
     "output_type": "stream",
     "text": [
      "Masukkan nama kepala keluarga dan penghasilannya (contoh: 'Adi Alkatiri | 6.7'):  Adi|3|3\n"
     ]
    },
    {
     "name": "stdout",
     "output_type": "stream",
     "text": [
      "Format input tidak valid. Silakan ulangi input.\n"
     ]
    },
    {
     "name": "stdin",
     "output_type": "stream",
     "text": [
      "Masukkan nama kepala keluarga dan penghasilannya (contoh: 'Adi Alkatiri | 6.7'):  Adi|3|3\n"
     ]
    },
    {
     "name": "stdout",
     "output_type": "stream",
     "text": [
      "Format input tidak valid. Silakan ulangi input.\n"
     ]
    },
    {
     "name": "stdin",
     "output_type": "stream",
     "text": [
      "Masukkan nama kepala keluarga dan penghasilannya (contoh: 'Adi Alkatiri | 6.7'):  Adi|3|3\n"
     ]
    },
    {
     "name": "stdout",
     "output_type": "stream",
     "text": [
      "Format input tidak valid. Silakan ulangi input.\n"
     ]
    },
    {
     "name": "stdin",
     "output_type": "stream",
     "text": [
      "Masukkan nama kepala keluarga dan penghasilannya (contoh: 'Adi Alkatiri | 6.7'):  Adi |6.7\n"
     ]
    },
    {
     "name": "stdout",
     "output_type": "stream",
     "text": [
      "Keluarga Adi memiliki penghasilan 6.7 juta dan status ekonomi: makmur\n"
     ]
    },
    {
     "name": "stdin",
     "output_type": "stream",
     "text": [
      "Masukkan nama kepala keluarga dan penghasilannya (contoh: 'Adi Alkatiri | 6.7'):  Adi |6.7\n"
     ]
    },
    {
     "name": "stdout",
     "output_type": "stream",
     "text": [
      "Keluarga Adi memiliki penghasilan 6.7 juta dan status ekonomi: makmur\n"
     ]
    },
    {
     "name": "stdin",
     "output_type": "stream",
     "text": [
      "Masukkan nama kepala keluarga dan penghasilannya (contoh: 'Adi Alkatiri | 6.7'):  \n"
     ]
    },
    {
     "name": "stdout",
     "output_type": "stream",
     "text": [
      "Format input tidak valid. Silakan ulangi input.\n"
     ]
    },
    {
     "name": "stdin",
     "output_type": "stream",
     "text": [
      "Masukkan nama kepala keluarga dan penghasilannya (contoh: 'Adi Alkatiri | 6.7'):  Adi |6.7\n"
     ]
    },
    {
     "name": "stdout",
     "output_type": "stream",
     "text": [
      "Keluarga Adi memiliki penghasilan 6.7 juta dan status ekonomi: makmur\n"
     ]
    },
    {
     "name": "stdin",
     "output_type": "stream",
     "text": [
      "Masukkan nama kepala keluarga dan penghasilannya (contoh: 'Adi Alkatiri | 6.7'):  Adi |6.7\n"
     ]
    },
    {
     "name": "stdout",
     "output_type": "stream",
     "text": [
      "Keluarga Adi memiliki penghasilan 6.7 juta dan status ekonomi: makmur\n"
     ]
    },
    {
     "name": "stdin",
     "output_type": "stream",
     "text": [
      "Masukkan nama kepala keluarga dan penghasilannya (contoh: 'Adi Alkatiri | 6.7'):  Adi |6.7\n"
     ]
    },
    {
     "name": "stdout",
     "output_type": "stream",
     "text": [
      "Keluarga Adi memiliki penghasilan 6.7 juta dan status ekonomi: makmur\n"
     ]
    },
    {
     "name": "stdin",
     "output_type": "stream",
     "text": [
      "Masukkan nama kepala keluarga dan penghasilannya (contoh: 'Adi Alkatiri | 6.7'):  Adi |6.7\n"
     ]
    },
    {
     "name": "stdout",
     "output_type": "stream",
     "text": [
      "Keluarga Adi memiliki penghasilan 6.7 juta dan status ekonomi: makmur\n"
     ]
    },
    {
     "name": "stdin",
     "output_type": "stream",
     "text": [
      "Masukkan nama kepala keluarga dan penghasilannya (contoh: 'Adi Alkatiri | 6.7'):  Adi |6.7\n"
     ]
    },
    {
     "name": "stdout",
     "output_type": "stream",
     "text": [
      "Keluarga Adi memiliki penghasilan 6.7 juta dan status ekonomi: makmur\n"
     ]
    },
    {
     "name": "stdin",
     "output_type": "stream",
     "text": [
      "Masukkan nama kepala keluarga dan penghasilannya (contoh: 'Adi Alkatiri | 6.7'):  Adi |6.7\n"
     ]
    },
    {
     "name": "stdout",
     "output_type": "stream",
     "text": [
      "Keluarga Adi memiliki penghasilan 6.7 juta dan status ekonomi: makmur\n"
     ]
    },
    {
     "name": "stdin",
     "output_type": "stream",
     "text": [
      "Masukkan nama kepala keluarga dan penghasilannya (contoh: 'Adi Alkatiri | 6.7'):  Adi |6.7\n"
     ]
    },
    {
     "name": "stdout",
     "output_type": "stream",
     "text": [
      "Keluarga Adi memiliki penghasilan 6.7 juta dan status ekonomi: makmur\n"
     ]
    }
   ],
   "source": [
    "def status_ekonomi(penghasilan):\n",
    "    if penghasilan > 15:\n",
    "        return \"crazy rich\"\n",
    "    elif 5 <= penghasilan <= 15:\n",
    "        return \"makmur\"\n",
    "    elif 2 <= penghasilan < 5:\n",
    "        return \"mandiri\"\n",
    "    elif 1 <= penghasilan < 2:\n",
    "        return \"butuh pendampingan\"\n",
    "    elif 0 <= penghasilan < 1:\n",
    "        return \"rentan\"\n",
    "    else:\n",
    "        raise ValueError(\"Penghasilan tidak mungkin negatif\")\n",
    "\n",
    "# Lakukan input dari user sebanyak 10 kali\n",
    "input_count = 0\n",
    "while input_count < 10:\n",
    "    input_user = input(\"Masukkan nama kepala keluarga dan penghasilannya (contoh: 'Adi Alkatiri | 6.7'): \")\n",
    "    data = input_user.split('|')\n",
    "    \n",
    "    if len(data) != 2:\n",
    "        print(\"Format input tidak valid. Silakan ulangi input.\")\n",
    "        continue  # Melanjutkan ke iterasi berikutnya jika format tidak valid\n",
    "    \n",
    "    try:\n",
    "        nama_kepala_keluarga = data[0].strip()\n",
    "        penghasilan = float(data[1].strip().replace(',', '.'))  # Ganti koma dengan titik dan konversi ke float\n",
    "        \n",
    "        if penghasilan < 0:\n",
    "            print(\"Penghasilan tidak boleh negatif. Silakan ulangi input.\")\n",
    "            continue  # Melanjutkan ke iterasi berikutnya jika penghasilan negatif\n",
    "        \n",
    "        status = status_ekonomi(penghasilan)\n",
    "        \n",
    "        print(f\"Keluarga {nama_kepala_keluarga} memiliki penghasilan {penghasilan} juta dan status ekonomi: {status}\")\n",
    "        \n",
    "        input_count += 1  # Tambahkan input_count hanya jika input valid\n",
    "    except ValueError as e:\n",
    "        print(f\"Error: {e}\")"
   ]
  },
  {
   "cell_type": "code",
   "execution_count": 2,
   "id": "55b9e6f0-8be3-40c3-a74f-4aa79ca1c677",
   "metadata": {},
   "outputs": [
    {
     "data": {
      "text/plain": [
       "'makmur'"
      ]
     },
     "execution_count": 2,
     "metadata": {},
     "output_type": "execute_result"
    }
   ],
   "source": [
    "status_ekonomi(5)"
   ]
  },
  {
   "cell_type": "code",
   "execution_count": 4,
   "id": "8a1f73da-3ad0-4550-8057-4e6c6605a912",
   "metadata": {
    "tags": []
   },
   "outputs": [
    {
     "data": {
      "text/plain": [
       "'makmur'"
      ]
     },
     "execution_count": 4,
     "metadata": {},
     "output_type": "execute_result"
    }
   ],
   "source": [
    "status_ekonomi(10)"
   ]
  },
  {
   "cell_type": "code",
   "execution_count": 5,
   "id": "545ac941-13fc-48aa-a0a9-bb59e38f1e93",
   "metadata": {
    "tags": []
   },
   "outputs": [
    {
     "ename": "ValueError",
     "evalue": "Penghasilan tidak mungkin negatif",
     "output_type": "error",
     "traceback": [
      "\u001b[1;31m---------------------------------------------------------------------------\u001b[0m",
      "\u001b[1;31mValueError\u001b[0m                                Traceback (most recent call last)",
      "Cell \u001b[1;32mIn[5], line 1\u001b[0m\n\u001b[1;32m----> 1\u001b[0m status_ekonomi(\u001b[38;5;241m-\u001b[39m\u001b[38;5;241m1\u001b[39m)\n",
      "Cell \u001b[1;32mIn[3], line 13\u001b[0m, in \u001b[0;36mstatus_ekonomi\u001b[1;34m(penghasilan)\u001b[0m\n\u001b[0;32m     11\u001b[0m     \u001b[38;5;28;01mreturn\u001b[39;00m \u001b[38;5;124m\"\u001b[39m\u001b[38;5;124mrentan\u001b[39m\u001b[38;5;124m\"\u001b[39m\n\u001b[0;32m     12\u001b[0m \u001b[38;5;28;01melse\u001b[39;00m:\n\u001b[1;32m---> 13\u001b[0m     \u001b[38;5;28;01mraise\u001b[39;00m \u001b[38;5;167;01mValueError\u001b[39;00m(\u001b[38;5;124m\"\u001b[39m\u001b[38;5;124mPenghasilan tidak mungkin negatif\u001b[39m\u001b[38;5;124m\"\u001b[39m)\n",
      "\u001b[1;31mValueError\u001b[0m: Penghasilan tidak mungkin negatif"
     ]
    }
   ],
   "source": [
    "status_ekonomi(-1)"
   ]
  },
  {
   "cell_type": "code",
   "execution_count": 5,
   "id": "1a894c70-c975-4abb-873a-da9cb3a1a3e7",
   "metadata": {
    "tags": []
   },
   "outputs": [
    {
     "name": "stdin",
     "output_type": "stream",
     "text": [
      "Masukkan nama kepala keluarga dan penghasilannya (contoh: 'Adi Alkatiri | 6.7'):  Adi|3\n",
      "Masukkan nama kepala keluarga dan penghasilannya (contoh: 'Adi Alkatiri | 6.7'):  Adi|3\n",
      "Masukkan nama kepala keluarga dan penghasilannya (contoh: 'Adi Alkatiri | 6.7'):  Adi|3\n",
      "Masukkan nama kepala keluarga dan penghasilannya (contoh: 'Adi Alkatiri | 6.7'):  Adi|3\n",
      "Masukkan nama kepala keluarga dan penghasilannya (contoh: 'Adi Alkatiri | 6.7'):  Adi|3\n",
      "Masukkan nama kepala keluarga dan penghasilannya (contoh: 'Adi Alkatiri | 6.7'):  Adi|3\n",
      "Masukkan nama kepala keluarga dan penghasilannya (contoh: 'Adi Alkatiri | 6.7'):  Adi|3\n",
      "Masukkan nama kepala keluarga dan penghasilannya (contoh: 'Adi Alkatiri | 6.7'):  Adi|3\n",
      "Masukkan nama kepala keluarga dan penghasilannya (contoh: 'Adi Alkatiri | 6.7'):  Adi|3\n",
      "Masukkan nama kepala keluarga dan penghasilannya (contoh: 'Adi Alkatiri | 6.7'):  Adi|3\n"
     ]
    },
    {
     "name": "stdout",
     "output_type": "stream",
     "text": [
      "  Nama kepala keluarga  penghasilan bulanan dalam juta   status\n",
      "0                  Adi                             3.0  mandiri\n",
      "1                  Adi                             3.0  mandiri\n",
      "2                  Adi                             3.0  mandiri\n",
      "3                  Adi                             3.0  mandiri\n",
      "4                  Adi                             3.0  mandiri\n",
      "5                  Adi                             3.0  mandiri\n",
      "6                  Adi                             3.0  mandiri\n",
      "7                  Adi                             3.0  mandiri\n",
      "8                  Adi                             3.0  mandiri\n",
      "9                  Adi                             3.0  mandiri\n",
      "Data telah disimpan dalam 'data.csv'.\n"
     ]
    }
   ],
   "source": [
    "import pandas as pd\n",
    "\n",
    "# Inisialisasi DataFrame\n",
    "df = pd.DataFrame(columns=['Nama kepala keluarga', 'penghasilan bulanan dalam juta', 'status'])\n",
    "\n",
    "def status_ekonomi(penghasilan):\n",
    "    if penghasilan > 15:\n",
    "        return \"crazy rich\"\n",
    "    elif 5 <= penghasilan <= 15:\n",
    "        return \"makmur\"\n",
    "    elif 2 <= penghasilan < 5:\n",
    "        return \"mandiri\"\n",
    "    elif 1 <= penghasilan < 2:\n",
    "        return \"butuh pendampingan\"\n",
    "    elif 0 <= penghasilan < 1:\n",
    "        return \"rentan\"\n",
    "    else:\n",
    "        raise ValueError(\"Penghasilan tidak mungkin negatif\")\n",
    "\n",
    "# Lakukan input dari user sebanyak 10 kali\n",
    "input_count = 0\n",
    "while input_count < 10:\n",
    "    input_user = input(\"Masukkan nama kepala keluarga dan penghasilannya (contoh: 'Adi Alkatiri | 6.7'): \")\n",
    "    data = input_user.split('|')\n",
    "    \n",
    "    if len(data) != 2:\n",
    "        print(\"Format input tidak valid. Silakan ulangi input.\")\n",
    "        continue  # Melanjutkan ke iterasi berikutnya jika format tidak valid\n",
    "    \n",
    "    try:\n",
    "        nama_kepala_keluarga = data[0].strip()\n",
    "        penghasilan = float(data[1].strip().replace(',', '.'))  # Ganti koma dengan titik dan konversi ke float\n",
    "        \n",
    "        if penghasilan < 0:\n",
    "            print(\"Penghasilan tidak boleh negatif. Silakan ulangi input.\")\n",
    "            continue  # Melanjutkan ke iterasi berikutnya jika penghasilan negatif\n",
    "        \n",
    "        status = status_ekonomi(penghasilan)\n",
    "        \n",
    "        # Menambahkan data ke DataFrame\n",
    "        new_row = pd.DataFrame({'Nama kepala keluarga': [nama_kepala_keluarga],\n",
    "                                'penghasilan bulanan dalam juta': [penghasilan],\n",
    "                                'status': [status]})\n",
    "        \n",
    "        df = pd.concat([df, new_row], ignore_index=True)\n",
    "        \n",
    "        input_count += 1  # Tambahkan input_count hanya jika input valid\n",
    "    except ValueError as e:\n",
    "        print(f\"Error: {e}\")\n",
    "\n",
    "# Menampilkan DataFrame\n",
    "print(df)\n",
    "\n",
    "# Menyimpan DataFrame ke dalam file CSV\n",
    "df.to_csv('data.csv', index=False)\n",
    "\n",
    "print(\"Data telah disimpan dalam 'data.csv'.\")"
   ]
  },
  {
   "cell_type": "code",
   "execution_count": null,
   "id": "09c55c9f-e517-49c4-9bcd-c3e20bd27d64",
   "metadata": {},
   "outputs": [],
   "source": []
  }
 ],
 "metadata": {
  "kernelspec": {
   "display_name": "Python 3 (ipykernel)",
   "language": "python",
   "name": "python3"
  },
  "language_info": {
   "codemirror_mode": {
    "name": "ipython",
    "version": 3
   },
   "file_extension": ".py",
   "mimetype": "text/x-python",
   "name": "python",
   "nbconvert_exporter": "python",
   "pygments_lexer": "ipython3",
   "version": "3.11.4"
  }
 },
 "nbformat": 4,
 "nbformat_minor": 5
}
